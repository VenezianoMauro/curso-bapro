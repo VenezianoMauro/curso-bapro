{
 "cells": [
  {
   "cell_type": "markdown",
   "metadata": {},
   "source": [
    "# Clase 3: Funciones\n",
    "\n",
    "Una de las cosas que mas nos importan cuando programamos es NO repetir código. Siempre que tengamos que hacer algo más de una vez, es mejor hacer una función que lo haga por nosotros. La idea es poder encapsular un pedazo de código que hace algo en una función, y luego poder llamar a esa función cada vez que necesitemos hacer eso mismo."
   ]
  },
  {
   "cell_type": "markdown",
   "metadata": {},
   "source": [
    "### Funciones basicas  \n",
    "  \n",
    "Python viene con algunas funciones predefinidas. Algunas ya las estuvimos viendo como len() que nos da el largo de una lista. O abs() que nos da el valor absoluto de un número."
   ]
  },
  {
   "cell_type": "code",
   "execution_count": null,
   "metadata": {},
   "outputs": [
    {
     "name": "stdout",
     "output_type": "stream",
     "text": [
      "10\n",
      "4\n",
      "1\n",
      "[1, 2, 3, 4]\n"
     ]
    }
   ],
   "source": [
    "## tenemos la funcion sum\n",
    "suma = sum([1,2,3,4])\n",
    "print(suma)\n",
    "\n",
    "maximo = max([1,2,3,4])\n",
    "print(maximo)\n",
    "\n",
    "minimo = min([1,2,3,4])\n",
    "print(minimo)\n",
    "\n",
    "desorden = [3,1,4,2]\n",
    "ordenado = sorted(desorden)\n",
    "print(ordenado)\n",
    "\n",
    "## podemos ver todas las funciones definidas en python en https://docs.python.org/es/3.13/library/functions.html"
   ]
  },
  {
   "cell_type": "markdown",
   "metadata": {},
   "source": [
    "### Funciones definidas por el usuario\n",
    "  "
   ]
  },
  {
   "cell_type": "code",
   "execution_count": null,
   "metadata": {},
   "outputs": [],
   "source": [
    "# definimos una función utilizando la instrucción def\n",
    "def mi_funcion():\n",
    "    print(\"Hola mundo\")"
   ]
  },
  {
   "cell_type": "code",
   "execution_count": 2,
   "metadata": {},
   "outputs": [
    {
     "name": "stdout",
     "output_type": "stream",
     "text": [
      "Hola mundo\n"
     ]
    }
   ],
   "source": [
    "# y luego la llamamos\n",
    "mi_funcion()"
   ]
  },
  {
   "cell_type": "code",
   "execution_count": 3,
   "metadata": {},
   "outputs": [
    {
     "name": "stdout",
     "output_type": "stream",
     "text": [
      "Hola pedro\n"
     ]
    }
   ],
   "source": [
    "# dentro de una función podemos incluir cualquier tipo de instrucción, como bucles, condicionales, etc.\n",
    "\n",
    "def mi_funcion2():\n",
    "    nombre = \"pedro\"\n",
    "    if nombre == \"pedro\":\n",
    "        print(\"Hola pedro\")\n",
    "    else:\n",
    "        print(\"Hola desconocido\")\n",
    "\n",
    "\n",
    "mi_funcion2()"
   ]
  },
  {
   "cell_type": "code",
   "execution_count": 6,
   "metadata": {},
   "outputs": [
    {
     "name": "stdout",
     "output_type": "stream",
     "text": [
      "Hola Profe\n"
     ]
    }
   ],
   "source": [
    "# las funciones pueden recibir parámetros\n",
    "def mi_funcion3(nombre):\n",
    "    if nombre.lower() == \"mauro\":\n",
    "        print(\"Hola Profe\")\n",
    "    else:\n",
    "        print(\"Hola \" + nombre)\n",
    "\n",
    "mi_funcion3(\"mauro\")"
   ]
  },
  {
   "cell_type": "code",
   "execution_count": 7,
   "metadata": {},
   "outputs": [
    {
     "name": "stdout",
     "output_type": "stream",
     "text": [
      "La suma devolvió 5\n"
     ]
    }
   ],
   "source": [
    "## y ademas, pueden devolver valores utilizando la instrucción return\n",
    "\n",
    "def mi_funcion4(a, b):\n",
    "    return a + b\n",
    "\n",
    "resultado = mi_funcion4(2, 3)\n",
    "\n",
    "print(\"La suma devolvió \" + str(resultado))\n"
   ]
  },
  {
   "cell_type": "code",
   "execution_count": 8,
   "metadata": {},
   "outputs": [
    {
     "name": "stdout",
     "output_type": "stream",
     "text": [
      "La suma devolvió 4\n"
     ]
    }
   ],
   "source": [
    "## tambien puede recibir variables:\n",
    "def mi_funcion5(a, b):\n",
    "    return a + b\n",
    "\n",
    "a = input(\"Ingrese un número: \")\n",
    "b = input(\"Ingrese otro número: \")\n",
    "\n",
    "a = int(a)\n",
    "b = int(b)\n",
    "\n",
    "resultado = mi_funcion5(a, b)\n",
    "\n",
    "print(\"La suma devolvió \" + str(resultado))"
   ]
  },
  {
   "cell_type": "code",
   "execution_count": 55,
   "metadata": {},
   "outputs": [
    {
     "name": "stdout",
     "output_type": "stream",
     "text": [
      "La suma devolvió 7\n"
     ]
    }
   ],
   "source": [
    "## además, las funciones pueden tener valores por defecto en sus parámetros\n",
    "\n",
    "def mi_funcion6(a, b=5):\n",
    "    return a + b\n",
    "\n",
    "resultado = mi_funcion6(2)\n",
    "\n",
    "print(\"La suma devolvió \" + str(resultado))"
   ]
  },
  {
   "cell_type": "code",
   "execution_count": 56,
   "metadata": {},
   "outputs": [
    {
     "name": "stdout",
     "output_type": "stream",
     "text": [
      "La suma devolvió 5\n"
     ]
    }
   ],
   "source": [
    "resultado = mi_funcion6(2, 3)\n",
    "\n",
    "print(\"La suma devolvió \" + str(resultado))\n"
   ]
  },
  {
   "cell_type": "markdown",
   "metadata": {},
   "source": [
    "Ejercicio: vamos a hacer un inventario. Para eso, definimos un diccionario vacío. Para ese diccionario cada key va a ser un producto y cada value va a ser otro diccionario con el precio y la cantidad\n",
    "Por ejemplo\n",
    "\n",
    "{\"zapatos\" : {\n",
    "    \"precio\" : 1000,\n",
    "    \"cantidad\" : 10\n",
    "    }\n",
    "}\n",
    "  \n",
    "significa que hay 10 zapatos en el inventario y cada uno cuesta 1000 pesos.\n",
    "\n",
    "\n",
    "Implementá las siguientes funciones:\n",
    "\n",
    "agregar_producto(inventario, nombre, cantidad, precio): Agrega un producto nuevo o actualiza la cantidad si ya existe.\n",
    "\n",
    "mostrar_inventario(inventario): Muestra el inventario.\n",
    "\n",
    "buscar_producto(inventario, nombre): Muestra la información de un producto específico.\n",
    "\n",
    "actualizar_cantidad(inventario, nombre, nueva_cantidad): Modifica la cantidad de un producto existente.\n",
    "\n",
    "calcular_valor_total(inventario): Retorna el valor total del inventario."
   ]
  },
  {
   "cell_type": "code",
   "execution_count": null,
   "metadata": {},
   "outputs": [],
   "source": []
  },
  {
   "cell_type": "code",
   "execution_count": 61,
   "metadata": {},
   "outputs": [
    {
     "name": "stdout",
     "output_type": "stream",
     "text": [
      "Enviando email con mensaje: Medio medio :(\n"
     ]
    }
   ],
   "source": [
    "## y, como es de esperar, podemos combinar nuestras funciones con todo lo que ya vimos en el curso\n",
    "import random\n",
    "\n",
    "def obtener_datos():\n",
    "    return \"mis super datos\"\n",
    "\n",
    "def generar_reporte(datos):\n",
    "    return \"mi super reporte\"\n",
    "\n",
    "def evaluar_calidad_reporte(reporte):\n",
    "    ''' Esto devuelve un número al azar entre 1 y 10 '''\n",
    "    return random.randint(1,10)\n",
    "\n",
    "def enviar_reporte_por_email(reporte, mensaje):\n",
    "    print(\"Enviando email con mensaje: \" + mensaje)\n",
    "\n",
    "\n",
    "datos = obtener_datos()\n",
    "reporte = generar_reporte(datos)\n",
    "calidad = evaluar_calidad_reporte(reporte)\n",
    "if calidad > 7:\n",
    "    enviar_reporte_por_email(reporte, \"Buen reporte\")\n",
    "else:\n",
    "    enviar_reporte_por_email(reporte, \"Medio medio :(\")"
   ]
  },
  {
   "cell_type": "code",
   "execution_count": 67,
   "metadata": {},
   "outputs": [
    {
     "name": "stdout",
     "output_type": "stream",
     "text": [
      "Hola\n"
     ]
    }
   ],
   "source": [
    "## Para python, las funciones son \"objetos\" de primera clase, lo que significa que pueden ser asignadas a variables, pasadas como argumentos a otras funciones, etc.\n",
    "\n",
    "def saludar():\n",
    "    print(\"Hola\")\n",
    "\n",
    "## por ejemplo, podemos asignar la función a una variable\n",
    "saludo = saludar\n",
    "\n",
    "saludo()"
   ]
  },
  {
   "cell_type": "code",
   "execution_count": 68,
   "metadata": {},
   "outputs": [
    {
     "name": "stdout",
     "output_type": "stream",
     "text": [
      "El resultado es 8\n"
     ]
    }
   ],
   "source": [
    "## o podemos pasar la función como argumento a otra función\n",
    "\n",
    "def mi_funcion7(funcion1, funcion2, a, b):\n",
    "    if a > b:\n",
    "        return funcion1(a, b)\n",
    "    \n",
    "    else:\n",
    "        return funcion2(a, b)\n",
    "    \n",
    "def suma(a, b):\n",
    "    return a + b\n",
    "\n",
    "def resta(a, b):\n",
    "    return a - b\n",
    "\n",
    "resultado = mi_funcion7(suma, resta, 5, 3)\n",
    "\n",
    "print(\"El resultado es \" + str(resultado))"
   ]
  },
  {
   "cell_type": "code",
   "execution_count": 70,
   "metadata": {},
   "outputs": [
    {
     "name": "stdout",
     "output_type": "stream",
     "text": [
      "El resultado es 8\n"
     ]
    }
   ],
   "source": [
    "## o incluso guardar en una lista \n",
    "\n",
    "funciones = [suma, resta]\n",
    "\n",
    "resultado = funciones[0](5, 3)\n",
    "\n",
    "print(\"El resultado es \" + str(resultado))"
   ]
  },
  {
   "cell_type": "code",
   "execution_count": 89,
   "metadata": {},
   "outputs": [
    {
     "name": "stdout",
     "output_type": "stream",
     "text": [
      "reporte tipo 2\n"
     ]
    }
   ],
   "source": [
    "## incluso una funcion puede devolver otra funcion\n",
    "\n",
    "def crear_reporte_tipo_1():\n",
    "    return \"reporte tipo 1\"\n",
    "\n",
    "def crear_reporte_tipo_2():\n",
    "    return \"reporte tipo 2\"\n",
    "\n",
    "\n",
    "def obtener_funcion_para_tipo_de_reporte(tipo):\n",
    "    if tipo == 1:\n",
    "        return crear_reporte_tipo_1\n",
    "    else:\n",
    "        return crear_reporte_tipo_2\n",
    "    \n",
    "generador_de_reportes = obtener_funcion_para_tipo_de_reporte(2)\n",
    "\n",
    "reporte = generador_de_reportes()\n",
    "print(reporte)"
   ]
  },
  {
   "cell_type": "markdown",
   "metadata": {},
   "source": [
    "#### Funciones anidadas \n",
    "  \n",
    "Otra de las cosas que podemos hacer es definir funciones dentro de otras funciones. Esto es útil cuando queremos hacer algo que es muy específico de una función y no queremos que nadie más pueda usar esa función. Por ejemplo, si queremos hacer un cálculo interno que no tiene sentido que alguien más use, podemos definir una función dentro de otra función."
   ]
  },
  {
   "cell_type": "code",
   "execution_count": null,
   "metadata": {},
   "outputs": [
    {
     "name": "stdout",
     "output_type": "stream",
     "text": [
      "8\n"
     ]
    }
   ],
   "source": [
    "def mi_funcion_importante(a):\n",
    "\n",
    "\n",
    "    def calculo_importante(a):\n",
    "        return 3 + a\n",
    "    \n",
    "    if a <= 0:\n",
    "        return 0\n",
    "    \n",
    "    return calculo_importante(a)\n",
    "\n",
    "print(mi_funcion_importante(5))    "
   ]
  },
  {
   "cell_type": "markdown",
   "metadata": {},
   "source": [
    "Ejercicio: Vamos a hacer una función que nos diga si un número es primo o no. Para eso, vamos a definir una función que nos diga si un número es divisible por otro. Esta función no tiene sentido que alguien más la use, así que la vamos a definir dentro de la función que nos dice si un número es primo o no."
   ]
  },
  {
   "cell_type": "markdown",
   "metadata": {},
   "source": [
    "## Scope de una funcion  \n",
    "  \n",
    "El scope de una función en Python se refiere al contexto en el que se definen y acceden las variables dentro de esa función. Existen diferentes tipos de scope: local, donde las variables solo son accesibles dentro de la función en la que se definen; global, donde las variables son accesibles desde cualquier parte del código, fuera de la función.\n"
   ]
  },
  {
   "cell_type": "code",
   "execution_count": 75,
   "metadata": {},
   "outputs": [
    {
     "ename": "NameError",
     "evalue": "name 'variable_local' is not defined",
     "output_type": "error",
     "traceback": [
      "\u001b[0;31m---------------------------------------------------------------------------\u001b[0m",
      "\u001b[0;31mNameError\u001b[0m                                 Traceback (most recent call last)",
      "Cell \u001b[0;32mIn[75], line 8\u001b[0m\n\u001b[1;32m      5\u001b[0m \u001b[38;5;28;01mdef\u001b[39;00m\u001b[38;5;250m \u001b[39m\u001b[38;5;21munafuncion\u001b[39m():\n\u001b[1;32m      6\u001b[0m     variable_local \u001b[38;5;241m=\u001b[39m \u001b[38;5;241m10\u001b[39m\n\u001b[0;32m----> 8\u001b[0m \u001b[38;5;28mprint\u001b[39m(\u001b[43mvariable_local\u001b[49m) \u001b[38;5;66;03m# esto dará error, ya que la variable es local a la función\u001b[39;00m\n",
      "\u001b[0;31mNameError\u001b[0m: name 'variable_local' is not defined"
     ]
    }
   ],
   "source": [
    "## no podemos acceder a las variables locales de una función desde fuera de ella.\n",
    "## esto permite que las variables estén \"protegidas\" y no puedan ser modificadas desde fuera de la función\n",
    "\n",
    "\n",
    "def unafuncion():\n",
    "    variable_local = 10\n",
    "\n",
    "print(variable_local) # esto dará error, ya que la variable es local a la función"
   ]
  },
  {
   "cell_type": "code",
   "execution_count": 76,
   "metadata": {},
   "outputs": [
    {
     "name": "stdout",
     "output_type": "stream",
     "text": [
      "20\n",
      "pero afuera: \n",
      "10\n"
     ]
    }
   ],
   "source": [
    "## además, el interprete puede diferenciar entre variables locales y globales\n",
    "\n",
    "variable_global = 10\n",
    "\n",
    "def otrafuncion():\n",
    "    variable_global = 20\n",
    "    print(variable_global)\n",
    "\n",
    "otrafuncion()\n",
    "\n",
    "print(\"pero afuera: \")\n",
    "print(variable_global)"
   ]
  },
  {
   "cell_type": "code",
   "execution_count": 79,
   "metadata": {},
   "outputs": [
    {
     "name": "stdout",
     "output_type": "stream",
     "text": [
      "12\n"
     ]
    }
   ],
   "source": [
    "## y al reves? que pasa si la función quiere buscar una variable que no está dentro de su scope? \n",
    "\n",
    "variable_global = 12\n",
    "\n",
    "def otrafuncion2():\n",
    "    print(variable_global)\n",
    "\n",
    "otrafuncion2()"
   ]
  },
  {
   "cell_type": "markdown",
   "metadata": {},
   "source": [
    "Python primero intentará buscar la variable dentro del scope de la función. Si no la encuentra, buscará en el scope global. Si no la encuentra, lanzará un error."
   ]
  },
  {
   "cell_type": "code",
   "execution_count": 82,
   "metadata": {},
   "outputs": [
    {
     "name": "stdout",
     "output_type": "stream",
     "text": [
      "20\n"
     ]
    }
   ],
   "source": [
    "mivariable = 10\n",
    "def funcion_anidada():\n",
    "    mivariable = 20\n",
    "    def funcion_anidada2():\n",
    "        print(mivariable)\n",
    "    funcion_anidada2()\n",
    "\n",
    "funcion_anidada()"
   ]
  },
  {
   "cell_type": "code",
   "execution_count": 91,
   "metadata": {},
   "outputs": [
    {
     "name": "stdout",
     "output_type": "stream",
     "text": [
      "20\n"
     ]
    }
   ],
   "source": [
    "## Por otra parte, python puede modificar variables globales desde dentro de una función, pero es una mala práctica\n",
    "## ya que puede llevar a errores difíciles de detectar\n",
    "\n",
    "variable_global = 10\n",
    "\n",
    "def modificar_variable_global():\n",
    "    global variable_global\n",
    "    variable_global = 20\n",
    "\n",
    "modificar_variable_global()\n",
    "\n",
    "print(variable_global)"
   ]
  },
  {
   "cell_type": "code",
   "execution_count": null,
   "metadata": {},
   "outputs": [],
   "source": []
  },
  {
   "cell_type": "code",
   "execution_count": null,
   "metadata": {},
   "outputs": [],
   "source": []
  }
 ],
 "metadata": {
  "kernelspec": {
   "display_name": "venv",
   "language": "python",
   "name": "python3"
  },
  "language_info": {
   "codemirror_mode": {
    "name": "ipython",
    "version": 3
   },
   "file_extension": ".py",
   "mimetype": "text/x-python",
   "name": "python",
   "nbconvert_exporter": "python",
   "pygments_lexer": "ipython3",
   "version": "3.10.12"
  }
 },
 "nbformat": 4,
 "nbformat_minor": 2
}
