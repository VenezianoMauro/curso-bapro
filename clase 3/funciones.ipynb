{
 "cells": [
  {
   "cell_type": "markdown",
   "metadata": {},
   "source": [
    "# Clase 3: Funciones\n",
    "\n",
    "Una de las cosas que mas nos importan cuando programamos es NO repetir código. Siempre que tengamos que hacer algo más de una vez, es mejor hacer una función que lo haga por nosotros. La idea es poder encapsular un pedazo de código que hace algo en una función, y luego poder llamar a esa función cada vez que necesitemos hacer eso mismo."
   ]
  },
  {
   "cell_type": "markdown",
   "metadata": {},
   "source": [
    "### Funciones basicas  \n",
    "  \n",
    "Python viene con algunas funciones predefinidas. Algunas ya las estuvimos viendo como len() que nos da el largo de una lista. O abs() que nos da el valor absoluto de un número."
   ]
  },
  {
   "cell_type": "code",
   "execution_count": 2,
   "metadata": {},
   "outputs": [
    {
     "name": "stdout",
     "output_type": "stream",
     "text": [
      "10\n",
      "4\n",
      "1\n",
      "[1, 2, 3, 4]\n"
     ]
    }
   ],
   "source": [
    "## tenemos la funcion sum\n",
    "suma = sum([1,2,3,4])\n",
    "print(suma)\n",
    "\n",
    "maximo = max([1,2,3,4])\n",
    "print(maximo)\n",
    "\n",
    "minimo = min([1,2,3,4])\n",
    "print(minimo)\n",
    "\n",
    "desorden = [3,1,4,2]\n",
    "ordenado = sorted(desorden)\n",
    "print(ordenado)\n",
    "\n",
    "## podemos ver todas las funciones definidas en python en https://docs.python.org/es/3.13/library/functions.html"
   ]
  },
  {
   "cell_type": "markdown",
   "metadata": {},
   "source": [
    "### Funciones definidas por el usuario\n",
    "  "
   ]
  },
  {
   "cell_type": "code",
   "execution_count": 3,
   "metadata": {},
   "outputs": [],
   "source": [
    "# definimos una función utilizando la instrucción def\n",
    "def mi_funcion():\n",
    "    print(\"Hola mundo\")"
   ]
  },
  {
   "cell_type": "code",
   "execution_count": 4,
   "metadata": {},
   "outputs": [
    {
     "name": "stdout",
     "output_type": "stream",
     "text": [
      "Hola mundo\n"
     ]
    }
   ],
   "source": [
    "# y luego la llamamos\n",
    "mi_funcion()"
   ]
  },
  {
   "cell_type": "code",
   "execution_count": 5,
   "metadata": {},
   "outputs": [
    {
     "name": "stdout",
     "output_type": "stream",
     "text": [
      "Hola pedro\n"
     ]
    }
   ],
   "source": [
    "# dentro de una función podemos incluir cualquier tipo de instrucción, como bucles, condicionales, etc.\n",
    "\n",
    "def mi_funcion2():\n",
    "    nombre = \"pedro\"\n",
    "    if nombre == \"pedro\":\n",
    "        print(\"Hola pedro\")\n",
    "    else:\n",
    "        print(\"Hola desconocido\")\n",
    "\n",
    "\n",
    "mi_funcion2()"
   ]
  },
  {
   "cell_type": "code",
   "execution_count": 6,
   "metadata": {},
   "outputs": [
    {
     "name": "stdout",
     "output_type": "stream",
     "text": [
      "Hola Profe\n"
     ]
    }
   ],
   "source": [
    "# las funciones pueden recibir parámetros\n",
    "def mi_funcion3(nombre):\n",
    "    if nombre.lower() == \"mauro\":\n",
    "        print(\"Hola Profe\")\n",
    "    else:\n",
    "        print(\"Hola \" + nombre)\n",
    "\n",
    "mi_funcion3(\"mauro\")"
   ]
  },
  {
   "cell_type": "code",
   "execution_count": 7,
   "metadata": {},
   "outputs": [
    {
     "name": "stdout",
     "output_type": "stream",
     "text": [
      "La suma devolvió 5\n"
     ]
    }
   ],
   "source": [
    "## y ademas, pueden devolver valores utilizando la instrucción return\n",
    "\n",
    "def mi_funcion4(a, b):\n",
    "    return a + b\n",
    "\n",
    "resultado = mi_funcion4(2, 3)\n",
    "\n",
    "print(\"La suma devolvió \" + str(resultado))\n"
   ]
  },
  {
   "cell_type": "code",
   "execution_count": 9,
   "metadata": {},
   "outputs": [
    {
     "name": "stdout",
     "output_type": "stream",
     "text": [
      "(5, -1)\n"
     ]
    }
   ],
   "source": [
    "## pueden devolver mas de un valor\n",
    "def mi_funcion5(a, b):\n",
    "    return a + b, a - b\n",
    "\n",
    "\n",
    "tupla_de_resultados = mi_funcion5(2, 3)\n",
    "\n",
    "print(tupla_de_resultados)"
   ]
  },
  {
   "cell_type": "code",
   "execution_count": 10,
   "metadata": {},
   "outputs": [
    {
     "name": "stdout",
     "output_type": "stream",
     "text": [
      "5\n",
      "-1\n"
     ]
    }
   ],
   "source": [
    "resultado1, resultado2 = mi_funcion5(2, 3)\n",
    "print(resultado1)\n",
    "print(resultado2)"
   ]
  },
  {
   "cell_type": "code",
   "execution_count": 8,
   "metadata": {},
   "outputs": [
    {
     "name": "stdout",
     "output_type": "stream",
     "text": [
      "La suma devolvió 4\n"
     ]
    }
   ],
   "source": [
    "## tambien puede recibir variables:\n",
    "def mi_funcion5(a, b):\n",
    "    return a + b\n",
    "\n",
    "a = input(\"Ingrese un número: \")\n",
    "b = input(\"Ingrese otro número: \")\n",
    "\n",
    "a = int(a)\n",
    "b = int(b)\n",
    "\n",
    "resultado = mi_funcion5(a, b)\n",
    "\n",
    "print(\"La suma devolvió \" + str(resultado))"
   ]
  },
  {
   "cell_type": "code",
   "execution_count": 55,
   "metadata": {},
   "outputs": [
    {
     "name": "stdout",
     "output_type": "stream",
     "text": [
      "La suma devolvió 7\n"
     ]
    }
   ],
   "source": [
    "## además, las funciones pueden tener valores por defecto en sus parámetros\n",
    "\n",
    "def mi_funcion6(a, b=5):\n",
    "    return a + b\n",
    "\n",
    "resultado = mi_funcion6(2)\n",
    "\n",
    "print(\"La suma devolvió \" + str(resultado))"
   ]
  },
  {
   "cell_type": "code",
   "execution_count": 56,
   "metadata": {},
   "outputs": [
    {
     "name": "stdout",
     "output_type": "stream",
     "text": [
      "La suma devolvió 5\n"
     ]
    }
   ],
   "source": [
    "resultado = mi_funcion6(2, 3)\n",
    "\n",
    "print(\"La suma devolvió \" + str(resultado))\n"
   ]
  },
  {
   "cell_type": "markdown",
   "metadata": {},
   "source": [
    "Ejercicio: vamos a hacer un inventario. Para eso, definimos un diccionario vacío. Para ese diccionario cada key va a ser un producto y cada value va a ser otro diccionario con el precio y la cantidad\n",
    "Por ejemplo\n",
    "\n",
    "{\"zapatos\" : {\n",
    "    \"precio\" : 1000,\n",
    "    \"cantidad\" : 10\n",
    "    }\n",
    "}\n",
    "  \n",
    "significa que hay 10 zapatos en el inventario y cada uno cuesta 1000 pesos.\n",
    "\n",
    "\n",
    "Implementá las siguientes funciones:\n",
    "\n",
    "agregar_producto(inventario, nombre, cantidad, precio): Agrega un producto nuevo o actualiza la cantidad si ya existe.\n",
    "\n",
    "mostrar_inventario(inventario): Muestra el inventario.\n",
    "\n",
    "buscar_producto(inventario, nombre): Muestra la información de un producto específico.\n",
    "\n",
    "actualizar_cantidad(inventario, nombre, nueva_cantidad): Modifica la cantidad de un producto existente.\n",
    "\n",
    "calcular_valor_total(inventario): Retorna el valor total del inventario."
   ]
  },
  {
   "cell_type": "code",
   "execution_count": null,
   "metadata": {},
   "outputs": [],
   "source": []
  },
  {
   "cell_type": "code",
   "execution_count": 61,
   "metadata": {},
   "outputs": [
    {
     "name": "stdout",
     "output_type": "stream",
     "text": [
      "Enviando email con mensaje: Medio medio :(\n"
     ]
    }
   ],
   "source": [
    "## y, como es de esperar, podemos combinar nuestras funciones con todo lo que ya vimos en el curso\n",
    "import random\n",
    "\n",
    "def obtener_datos():\n",
    "    return \"mis super datos\"\n",
    "\n",
    "def generar_reporte(datos):\n",
    "    return \"mi super reporte\"\n",
    "\n",
    "def evaluar_calidad_reporte(reporte):\n",
    "    ''' Esto devuelve un número al azar entre 1 y 10 '''\n",
    "    return random.randint(1,10)\n",
    "\n",
    "def enviar_reporte_por_email(reporte, mensaje):\n",
    "    print(\"Enviando email con mensaje: \" + mensaje)\n",
    "\n",
    "\n",
    "datos = obtener_datos()\n",
    "reporte = generar_reporte(datos)\n",
    "calidad = evaluar_calidad_reporte(reporte)\n",
    "if calidad > 7:\n",
    "    enviar_reporte_por_email(reporte, \"Buen reporte\")\n",
    "else:\n",
    "    enviar_reporte_por_email(reporte, \"Medio medio :(\")"
   ]
  },
  {
   "cell_type": "code",
   "execution_count": null,
   "metadata": {},
   "outputs": [],
   "source": []
  },
  {
   "cell_type": "code",
   "execution_count": 67,
   "metadata": {},
   "outputs": [
    {
     "name": "stdout",
     "output_type": "stream",
     "text": [
      "Hola\n"
     ]
    }
   ],
   "source": [
    "## Para python, las funciones son \"objetos\" de primera clase, lo que significa que pueden ser asignadas a variables, pasadas como argumentos a otras funciones, etc.\n",
    "\n",
    "def saludar():\n",
    "    print(\"Hola\")\n",
    "\n",
    "## por ejemplo, podemos asignar la función a una variable\n",
    "saludo = saludar\n",
    "\n",
    "saludo()"
   ]
  },
  {
   "cell_type": "code",
   "execution_count": 68,
   "metadata": {},
   "outputs": [
    {
     "name": "stdout",
     "output_type": "stream",
     "text": [
      "El resultado es 8\n"
     ]
    }
   ],
   "source": [
    "## o podemos pasar la función como argumento a otra función\n",
    "\n",
    "def mi_funcion7(funcion1, funcion2, a, b):\n",
    "    if a > b:\n",
    "        return funcion1(a, b)\n",
    "    \n",
    "    else:\n",
    "        return funcion2(a, b)\n",
    "    \n",
    "def suma(a, b):\n",
    "    return a + b\n",
    "\n",
    "def resta(a, b):\n",
    "    return a - b\n",
    "\n",
    "resultado = mi_funcion7(suma, resta, 5, 3)\n",
    "\n",
    "print(\"El resultado es \" + str(resultado))"
   ]
  },
  {
   "cell_type": "code",
   "execution_count": 70,
   "metadata": {},
   "outputs": [
    {
     "name": "stdout",
     "output_type": "stream",
     "text": [
      "El resultado es 8\n"
     ]
    }
   ],
   "source": [
    "## o incluso guardar en una lista \n",
    "\n",
    "funciones = [suma, resta]\n",
    "\n",
    "resultado = funciones[0](5, 3)\n",
    "\n",
    "print(\"El resultado es \" + str(resultado))"
   ]
  },
  {
   "cell_type": "code",
   "execution_count": 89,
   "metadata": {},
   "outputs": [
    {
     "name": "stdout",
     "output_type": "stream",
     "text": [
      "reporte tipo 2\n"
     ]
    }
   ],
   "source": [
    "## incluso una funcion puede devolver otra funcion\n",
    "\n",
    "def crear_reporte_tipo_1():\n",
    "    return \"reporte tipo 1\"\n",
    "\n",
    "def crear_reporte_tipo_2():\n",
    "    return \"reporte tipo 2\"\n",
    "\n",
    "\n",
    "def obtener_funcion_para_tipo_de_reporte(tipo):\n",
    "    if tipo == 1:\n",
    "        return crear_reporte_tipo_1\n",
    "    else:\n",
    "        return crear_reporte_tipo_2\n",
    "    \n",
    "generador_de_reportes = obtener_funcion_para_tipo_de_reporte(2)\n",
    "\n",
    "reporte = generador_de_reportes()\n",
    "print(reporte)"
   ]
  },
  {
   "cell_type": "markdown",
   "metadata": {},
   "source": [
    "#### Funciones anidadas \n",
    "  \n",
    "Otra de las cosas que podemos hacer es definir funciones dentro de otras funciones. Esto es útil cuando queremos hacer algo que es muy específico de una función y no queremos que nadie más pueda usar esa función. Por ejemplo, si queremos hacer un cálculo interno que no tiene sentido que alguien más use, podemos definir una función dentro de otra función."
   ]
  },
  {
   "cell_type": "code",
   "execution_count": null,
   "metadata": {},
   "outputs": [
    {
     "name": "stdout",
     "output_type": "stream",
     "text": [
      "8\n"
     ]
    }
   ],
   "source": [
    "def mi_funcion_importante(a):\n",
    "\n",
    "\n",
    "    def calculo_importante(a):\n",
    "        return 3 + a\n",
    "    \n",
    "    if a <= 0:\n",
    "        return 0\n",
    "    \n",
    "    return calculo_importante(a)\n",
    "\n",
    "print(mi_funcion_importante(5))    "
   ]
  },
  {
   "cell_type": "markdown",
   "metadata": {},
   "source": [
    "Ejercicio: Vamos a hacer una función que nos diga si un número es primo o no. Para eso, vamos a definir una función que nos diga si un número es divisible por otro. Esta función no tiene sentido que alguien más la use, así que la vamos a definir dentro de la función que nos dice si un número es primo o no."
   ]
  },
  {
   "cell_type": "markdown",
   "metadata": {},
   "source": [
    "## Scope de una funcion  \n",
    "  \n",
    "El scope de una función en Python se refiere al contexto en el que se definen y acceden las variables dentro de esa función. Existen diferentes tipos de scope: local, donde las variables solo son accesibles dentro de la función en la que se definen; global, donde las variables son accesibles desde cualquier parte del código, fuera de la función.\n"
   ]
  },
  {
   "cell_type": "code",
   "execution_count": 75,
   "metadata": {},
   "outputs": [
    {
     "ename": "NameError",
     "evalue": "name 'variable_local' is not defined",
     "output_type": "error",
     "traceback": [
      "\u001b[0;31m---------------------------------------------------------------------------\u001b[0m",
      "\u001b[0;31mNameError\u001b[0m                                 Traceback (most recent call last)",
      "Cell \u001b[0;32mIn[75], line 8\u001b[0m\n\u001b[1;32m      5\u001b[0m \u001b[38;5;28;01mdef\u001b[39;00m\u001b[38;5;250m \u001b[39m\u001b[38;5;21munafuncion\u001b[39m():\n\u001b[1;32m      6\u001b[0m     variable_local \u001b[38;5;241m=\u001b[39m \u001b[38;5;241m10\u001b[39m\n\u001b[0;32m----> 8\u001b[0m \u001b[38;5;28mprint\u001b[39m(\u001b[43mvariable_local\u001b[49m) \u001b[38;5;66;03m# esto dará error, ya que la variable es local a la función\u001b[39;00m\n",
      "\u001b[0;31mNameError\u001b[0m: name 'variable_local' is not defined"
     ]
    }
   ],
   "source": [
    "## no podemos acceder a las variables locales de una función desde fuera de ella.\n",
    "## esto permite que las variables estén \"protegidas\" y no puedan ser modificadas desde fuera de la función\n",
    "\n",
    "\n",
    "def unafuncion():\n",
    "    variable_local = 10\n",
    "\n",
    "print(variable_local) # esto dará error, ya que la variable es local a la función"
   ]
  },
  {
   "cell_type": "code",
   "execution_count": 76,
   "metadata": {},
   "outputs": [
    {
     "name": "stdout",
     "output_type": "stream",
     "text": [
      "20\n",
      "pero afuera: \n",
      "10\n"
     ]
    }
   ],
   "source": [
    "## además, el interprete puede diferenciar entre variables locales y globales\n",
    "\n",
    "variable_global = 10\n",
    "\n",
    "def otrafuncion():\n",
    "    variable_global = 20\n",
    "    print(variable_global)\n",
    "\n",
    "otrafuncion()\n",
    "\n",
    "print(\"pero afuera: \")\n",
    "print(variable_global)"
   ]
  },
  {
   "cell_type": "code",
   "execution_count": 79,
   "metadata": {},
   "outputs": [
    {
     "name": "stdout",
     "output_type": "stream",
     "text": [
      "12\n"
     ]
    }
   ],
   "source": [
    "## y al reves? que pasa si la función quiere buscar una variable que no está dentro de su scope? \n",
    "\n",
    "variable_global = 12\n",
    "\n",
    "def otrafuncion2():\n",
    "    print(variable_global)\n",
    "\n",
    "otrafuncion2()"
   ]
  },
  {
   "cell_type": "markdown",
   "metadata": {},
   "source": [
    "Python primero intentará buscar la variable dentro del scope de la función. Si no la encuentra, buscará en el scope global. Si no la encuentra, lanzará un error."
   ]
  },
  {
   "cell_type": "code",
   "execution_count": 82,
   "metadata": {},
   "outputs": [
    {
     "name": "stdout",
     "output_type": "stream",
     "text": [
      "20\n"
     ]
    }
   ],
   "source": [
    "mivariable = 10\n",
    "def funcion_anidada():\n",
    "    mivariable = 20\n",
    "    def funcion_anidada2():\n",
    "        print(mivariable)\n",
    "    funcion_anidada2()\n",
    "\n",
    "funcion_anidada()"
   ]
  },
  {
   "cell_type": "code",
   "execution_count": 91,
   "metadata": {},
   "outputs": [
    {
     "name": "stdout",
     "output_type": "stream",
     "text": [
      "20\n"
     ]
    }
   ],
   "source": [
    "## Por otra parte, python puede modificar variables globales desde dentro de una función, pero es una mala práctica\n",
    "## ya que puede llevar a errores difíciles de detectar\n",
    "\n",
    "variable_global = 10\n",
    "\n",
    "def modificar_variable_global():\n",
    "    global variable_global\n",
    "    variable_global = 20\n",
    "\n",
    "modificar_variable_global()\n",
    "\n",
    "print(variable_global)"
   ]
  },
  {
   "cell_type": "markdown",
   "metadata": {},
   "source": [
    "#### Funciones anonimas"
   ]
  },
  {
   "cell_type": "code",
   "execution_count": 11,
   "metadata": {},
   "outputs": [
    {
     "name": "stdout",
     "output_type": "stream",
     "text": [
      "10\n"
     ]
    }
   ],
   "source": [
    "# python permite definir funciones como \"anónimas\", es decir, sin nombre. Estas funciones se conocen como \"lambdas\" y son útiles para definir funciones pequeñas y simples de manera rápida.\n",
    "\n",
    "duplicar = lambda x: x * 2\n",
    "\n",
    "print(duplicar(5))"
   ]
  },
  {
   "cell_type": "code",
   "execution_count": null,
   "metadata": {},
   "outputs": [
    {
     "name": "stdout",
     "output_type": "stream",
     "text": [
      "11\n"
     ]
    }
   ],
   "source": [
    "funcion_lineal = lambda x: 2 * x + 1\n"
   ]
  },
  {
   "cell_type": "code",
   "execution_count": 16,
   "metadata": {},
   "outputs": [
    {
     "name": "stdout",
     "output_type": "stream",
     "text": [
      "[2, 4, 6, 8, 10]\n"
     ]
    }
   ],
   "source": [
    "## esto sirve, entre otras cosas, para usar con filtros. Por ejemplo:\n",
    "\n",
    "numeros = [1, 2, 3, 4, 5, 6, 7, 8, 9, 10]\n",
    "pares = list(filter(lambda x: x % 2 == 0, numeros))\n",
    "print(pares)"
   ]
  },
  {
   "cell_type": "code",
   "execution_count": 13,
   "metadata": {},
   "outputs": [],
   "source": [
    "texto = '''Python es un lenguaje de programación ampliamente utilizado en diversos campos, como desarrollo web, análisis de datos, '\n",
    "'inteligencia artificial y automatización. Su sintaxis clara y sencilla lo convierte en una excelente opción tanto para principiantes '\n",
    "'como para desarrolladores experimentados. Gracias a su vasta comunidad y a la gran cantidad de bibliotecas disponibles, es posible '\n",
    "'realizar proyectos complejos de manera eficiente y rápida.'''\n",
    "\n",
    "lista_de_palabras = texto.split()"
   ]
  },
  {
   "cell_type": "markdown",
   "metadata": {},
   "source": [
    "Ejercicio: escribir una función que reciba un texto y una lambda. Divida el texto en palabras y filtre segun la lambda. "
   ]
  },
  {
   "cell_type": "code",
   "execution_count": 17,
   "metadata": {},
   "outputs": [
    {
     "name": "stdout",
     "output_type": "stream",
     "text": [
      "[6, 2, 2, 8, 2, 12, 11, 9, 2, 8, 7, 4, 10, 4, 8, 2, 6, 1, 13, 10, 1, 15, 2, 8, 5, 1, 8, 2, 9, 2, 3, 9, 6, 5, 4, 13, 1, 5, 4, 15, 15, 7, 1, 2, 5, 9, 1, 1, 2, 4, 8, 2, 11, 12, 2, 7, 1, 9, 9, 9, 2, 6, 9, 1, 7]\n"
     ]
    }
   ],
   "source": [
    "## ademas de filter, podemos usar map para aplicar una función a cada elemento de una lista\n",
    "\n",
    "longitudes = list(map(lambda x: len(x), lista_de_palabras))\n",
    "print(longitudes)"
   ]
  },
  {
   "cell_type": "code",
   "execution_count": null,
   "metadata": {},
   "outputs": [
    {
     "name": "stdout",
     "output_type": "stream",
     "text": [
      "[6, 2, 2, 8, 2, 12, 11, 9, 2, 8, 7, 4, 10, 4, 8, 2, 6, 1, 13, 10, 1, 15, 2, 8, 5, 1, 8, 2, 9, 2, 3, 9, 6, 5, 4, 13, 1, 5, 4, 15, 15, 7, 1, 2, 5, 9, 1, 1, 2, 4, 8, 2, 11, 12, 2, 7, 1, 9, 9, 9, 2, 6, 9, 1, 7]\n"
     ]
    }
   ],
   "source": [
    "## esto es el equivalente a hacer una lista de comprehensión, pero con una sintaxis diferente\n",
    "longitudes = [len(x) for x in lista_de_palabras]\n",
    "print(longitudes)"
   ]
  },
  {
   "cell_type": "markdown",
   "metadata": {},
   "source": [
    "### Args y kwargs"
   ]
  },
  {
   "cell_type": "code",
   "execution_count": 19,
   "metadata": {},
   "outputs": [],
   "source": [
    "## ademas de los argumentos de una función, podemos usar *args y **kwargs para recibir un número variable de argumentos posicionales y de palabra clave, respectivamente.\n",
    "\n",
    "def una_funcion_con_argumentos_variables(*args):\n",
    "    for arg in args:\n",
    "        print(arg)"
   ]
  },
  {
   "cell_type": "code",
   "execution_count": 20,
   "metadata": {},
   "outputs": [
    {
     "name": "stdout",
     "output_type": "stream",
     "text": [
      "1\n",
      "2\n",
      "3\n",
      "4\n",
      "5\n"
     ]
    }
   ],
   "source": [
    "una_funcion_con_argumentos_variables(1, 2, 3, 4, 5)"
   ]
  },
  {
   "cell_type": "code",
   "execution_count": 21,
   "metadata": {},
   "outputs": [],
   "source": [
    "## tambien podemos declarar algunos argumentos como opcionales, y otros como obligatorios\n",
    "def funcion_con_argumentos_opcionales(a, *args, b=5):\n",
    "    total = a\n",
    "    for num in args:\n",
    "        total += num\n",
    "    total -= b\n",
    "\n",
    "    return total"
   ]
  },
  {
   "cell_type": "code",
   "execution_count": 22,
   "metadata": {},
   "outputs": [
    {
     "data": {
      "text/plain": [
       "10"
      ]
     },
     "execution_count": 22,
     "metadata": {},
     "output_type": "execute_result"
    }
   ],
   "source": [
    "funcion_con_argumentos_opcionales(12,1,2)"
   ]
  },
  {
   "cell_type": "code",
   "execution_count": 23,
   "metadata": {},
   "outputs": [
    {
     "name": "stdout",
     "output_type": "stream",
     "text": [
      "nombre: Juan\n",
      "edad: 30\n",
      "ciudad: Madrid\n"
     ]
    }
   ],
   "source": [
    "## tambien podemos usar **kwargs para recibir argumentos de palabra clave\n",
    "def funcion_con_kwargs(**kwargs):\n",
    "    for key, value in kwargs.items():\n",
    "        print(f\"{key}: {value}\")\n",
    "\n",
    "funcion_con_kwargs(nombre=\"Juan\", edad=30, ciudad=\"Madrid\")"
   ]
  },
  {
   "cell_type": "code",
   "execution_count": 27,
   "metadata": {},
   "outputs": [
    {
     "name": "stdout",
     "output_type": "stream",
     "text": [
      "200\n"
     ]
    }
   ],
   "source": [
    "registro = {\n",
    "    \"saldo_inicial\": 1000,\n",
    "    \"deuda\" : 500,\n",
    "    \"cobro\" : 200,\n",
    "    \"cuenta\" : \"123456789\",\n",
    "}\n",
    "\n",
    "def funcion_con_kwargs(**kwargs):\n",
    "    saldo = kwargs[\"saldo_inicial\"]\n",
    "    saldo_menos_deuda = saldo - kwargs[\"deuda\"]\n",
    "    saldo_menos_cobro = saldo_menos_deuda - kwargs[\"cobro\"]\n",
    "\n",
    "    if kwargs[\"cuenta\"] == \"123456789\":\n",
    "        saldo_menos_cobro -= 100\n",
    "    return saldo_menos_cobro\n",
    "\n",
    "## tambien podemos pasar un diccionario en vez de pasar cada argumento por separado\n",
    "resultado = funcion_con_kwargs(**registro)\n",
    "print(resultado)"
   ]
  },
  {
   "cell_type": "markdown",
   "metadata": {},
   "source": [
    "### Importar"
   ]
  },
  {
   "cell_type": "code",
   "execution_count": 28,
   "metadata": {},
   "outputs": [],
   "source": [
    "## para importar funciones de otros archivos, usamos la instrucción import\n",
    "## por ejemplo, si tenemos un archivo llamado funciones.py con una función llamada funcion_auxiliar, podemos importarla así:\n",
    "from mis_funciones import funcion_auxiliar"
   ]
  },
  {
   "cell_type": "code",
   "execution_count": 29,
   "metadata": {},
   "outputs": [
    {
     "name": "stdout",
     "output_type": "stream",
     "text": [
      "Esta es una función auxiliar\n"
     ]
    }
   ],
   "source": [
    "funcion_auxiliar()"
   ]
  },
  {
   "cell_type": "code",
   "execution_count": 30,
   "metadata": {},
   "outputs": [
    {
     "name": "stdout",
     "output_type": "stream",
     "text": [
      "2\n"
     ]
    }
   ],
   "source": [
    "## tambien hay funciones que son parte de la librería estándar de python, como por ejemplo la función random, que se usa para generar números aleatorios\n",
    "import random\n",
    "\n",
    "numero_aleatorio = random.randint(1, 10)\n",
    "print(numero_aleatorio)"
   ]
  },
  {
   "cell_type": "code",
   "execution_count": 31,
   "metadata": {},
   "outputs": [
    {
     "name": "stdout",
     "output_type": "stream",
     "text": [
      "4.0\n"
     ]
    }
   ],
   "source": [
    "## también podemos importar funciones específicas de un módulo usando la instrucción from\n",
    "from math import sqrt, pi\n",
    "\n",
    "print(sqrt(16)) "
   ]
  },
  {
   "cell_type": "code",
   "execution_count": 32,
   "metadata": {},
   "outputs": [
    {
     "name": "stdout",
     "output_type": "stream",
     "text": [
      "3.141592653589793\n"
     ]
    }
   ],
   "source": [
    "print(pi)"
   ]
  },
  {
   "cell_type": "code",
   "execution_count": null,
   "metadata": {},
   "outputs": [],
   "source": [
    "## y si instalaramos librerias externas, tambien las importaríamos de la misma manera"
   ]
  },
  {
   "cell_type": "markdown",
   "metadata": {},
   "source": [
    "### Ejercicio: simulacion de montecarlo (introduccion)  \n",
    "  \n",
    "Un banco proyecta 3 escenarios de impago de prestamos. La probabilidad de impago en el primer año sigue una distribución discreta de tres posibles valores:\n",
    "\n",
    "0.05 (5%) para el escenario optimista,\n",
    "\n",
    "0.10 (10%) para el escenario base,\n",
    "\n",
    "0.20 (20%) para el escenario pesimista.\n",
    "\n",
    "  \n",
    "Realizar 10,000 simulaciones en las que se elige aleatoriamente uno de los tres escenarios para cada préstamo. Si el número aleatorio generado es menor o igual a la probabilidad de impago correspondiente al escenario elegido, se considera que el préstamo no será pagado.\n",
    "  \n",
    "Calcular la probabilidad de impago. Al final de las 10,000 simulaciones, contar cuántos préstamos no fueron pagados. La probabilidad de impago será el número de préstamos no pagados dividido entre el total de simulaciones.\n",
    "    \n",
    "Suponiendo que los 3 escenarios son equiprobables: calcular la probabilidad de impago  \n",
    "Interpretar los resultados. Analizar los resultados de la simulación y explicar lo que indican sobre el riesgo de impago en el primer año.\n"
   ]
  }
 ],
 "metadata": {
  "kernelspec": {
   "display_name": "Python 3",
   "language": "python",
   "name": "python3"
  },
  "language_info": {
   "codemirror_mode": {
    "name": "ipython",
    "version": 3
   },
   "file_extension": ".py",
   "mimetype": "text/x-python",
   "name": "python",
   "nbconvert_exporter": "python",
   "pygments_lexer": "ipython3",
   "version": "3.12.0"
  }
 },
 "nbformat": 4,
 "nbformat_minor": 2
}
