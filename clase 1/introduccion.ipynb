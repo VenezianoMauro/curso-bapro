{
    "cells": [
        {
            "cell_type": "markdown",
            "metadata": {},
            "source": [
                "# Introducción a Python\n",
                "\n",
                "En este notebook veremos conceptos básicos de Python, tales como:\n",
                "\n",
                "- Variables y asignación\n",
                "- Tipos de datos: `int`, `float`, `str` y `bool`\n",
                "- Operaciones básicas:\n",
                "  - Operaciones matemáticas: suma, resta, multiplicación, división y potencia\n",
                "  - Operaciones relacionales: mayor, menor, igual, distinto\n",
                "  - Operaciones lógicas: `and`, `or`, `not`\n"
            ]
        },
        {
            "cell_type": "code",
            "execution_count": 65,
            "metadata": {},
            "outputs": [],
            "source": [
                "## empecemos por la asignación de variables. Una variable es un \"nombre\" que le ponemos a una valor \n",
                "# lo que hacemos es asignarle a la variable_1 el valor \"Hola mundo\".\n",
                "\n",
                "variable_1 = \"Hola mundo\" \n"
            ]
        },
        {
            "cell_type": "code",
            "execution_count": 66,
            "metadata": {},
            "outputs": [
                {
                    "name": "stdout",
                    "output_type": "stream",
                    "text": [
                        "Hola mundo\n"
                    ]
                }
            ],
            "source": [
                "# Si queremos, podemos mostrar el valor de esa variable\n",
                "print(variable_1)\n"
            ]
        },
        {
            "cell_type": "code",
            "execution_count": 67,
            "metadata": {},
            "outputs": [
                {
                    "name": "stdout",
                    "output_type": "stream",
                    "text": [
                        "Hola banco provincia!\n"
                    ]
                }
            ],
            "source": [
                "# podemos reemplazar el valor de la variable por otro valor. Por ejemplo:\n",
                "variable_1 = \"Hola banco provincia!\"\n",
                "\n",
                "print(variable_1)\n"
            ]
        },
        {
            "cell_type": "code",
            "execution_count": 68,
            "metadata": {},
            "outputs": [],
            "source": [
                "# Ejercicio 1: Declara una variable con tu nombre. Luego, imprimí el valor de esa variable."
            ]
        },
        {
            "cell_type": "markdown",
            "metadata": {},
            "source": [
                "## Tipos de datos en Python\n",
                "\n",
                "- **int**: números enteros (por ejemplo, 5, -3)\n",
                "- **float**: números con punto decimal (por ejemplo, 3.14, -0.001)\n",
                "- **str**: cadenas de texto (por ejemplo, \"Hola mundo\")\n",
                "- **bool**: valores booleanos (True o False)\n"
            ]
        },
        {
            "cell_type": "code",
            "execution_count": 69,
            "metadata": {},
            "outputs": [
                {
                    "name": "stdout",
                    "output_type": "stream",
                    "text": [
                        "<class 'str'>\n"
                    ]
                }
            ],
            "source": [
                "## Cada variable tiene un tipo asociado. Por ejemplo, los nombres que vimos son \"strings\" o cadenas de texto.\n",
                "banco = \"Banco provincia\"\n",
                "print(type(banco))"
            ]
        },
        {
            "cell_type": "code",
            "execution_count": 70,
            "metadata": {},
            "outputs": [
                {
                    "name": "stdout",
                    "output_type": "stream",
                    "text": [
                        "Tipo de entero: <class 'int'>\n",
                        "Tipo de flotante: <class 'float'>\n",
                        "Tipo de cadena: <class 'str'>\n",
                        "Tipo de booleano: <class 'bool'>\n"
                    ]
                }
            ],
            "source": [
                "# Ejemplos de tipos de datos\n",
                "entero = 10\n",
                "flotante = 3.14\n",
                "cadena = \"Python\"\n",
                "booleano = True\n",
                "\n",
                "print(\"Tipo de entero:\", type(entero))\n",
                "print(\"Tipo de flotante:\", type(flotante))\n",
                "print(\"Tipo de cadena:\", type(cadena))\n",
                "print(\"Tipo de booleano:\", type(booleano))\n"
            ]
        },
        {
            "cell_type": "code",
            "execution_count": 71,
            "metadata": {},
            "outputs": [],
            "source": [
                "# Escribí un ejemplo de variable float y un ejemplo de variable int. Imprimí el tipo de cada variable."
            ]
        },
        {
            "cell_type": "markdown",
            "metadata": {},
            "source": [
                "Cada tipo de datos tiene sus características propias. Por ejemplo, los números pueden sumarse o restarse. Los strings pueden concatenarse, etc. \n",
                "A continuación vamos a ver algunos ejemplos de operaciones básicas."
            ]
        },
        {
            "cell_type": "markdown",
            "metadata": {},
            "source": [
                "## Operaciones básicas en Python\n",
                "\n",
                "### Operaciones matemáticas\n",
                "\n",
                "- **Suma:** `+`\n",
                "- **Resta:** `-`\n",
                "- **Multiplicación:** `*`\n",
                "- **División:** `/`\n",
                "- **Potencia:** `**`\n",
                "\n",
                "### Operaciones relacionales\n",
                "\n",
                "- **Mayor que:** `>`\n",
                "- **Menor que:** `<`\n",
                "- **Igual:** `==`\n",
                "- **Distinto:** `!=`\n",
                "\n",
                "### Operaciones lógicas\n",
                "\n",
                "- **AND:** `and`\n",
                "- **OR:** `or`\n",
                "- **NOT:** `not`\n"
            ]
        },
        {
            "cell_type": "code",
            "execution_count": null,
            "metadata": {},
            "outputs": [],
            "source": []
        },
        {
            "cell_type": "markdown",
            "metadata": {},
            "source": [
                "#### Operaciones Relacionales"
            ]
        },
        {
            "cell_type": "code",
            "execution_count": 72,
            "metadata": {},
            "outputs": [],
            "source": [
                "# Operaciones matemáticas\n",
                "a = 10\n",
                "b = 3"
            ]
        },
        {
            "cell_type": "code",
            "execution_count": 73,
            "metadata": {},
            "outputs": [
                {
                    "data": {
                        "text/plain": [
                            "13"
                        ]
                    },
                    "execution_count": 73,
                    "metadata": {},
                    "output_type": "execute_result"
                }
            ],
            "source": [
                "# Python puede funcionar un poco como una calculadora. Podemos sumar variables\n",
                "a + b "
            ]
        },
        {
            "cell_type": "code",
            "execution_count": 74,
            "metadata": {},
            "outputs": [
                {
                    "name": "stdout",
                    "output_type": "stream",
                    "text": [
                        "13\n"
                    ]
                }
            ],
            "source": [
                "# Podemos asignar esa suma a una variable\n",
                "c = a + b\n",
                "print(c)"
            ]
        },
        {
            "cell_type": "code",
            "execution_count": 75,
            "metadata": {},
            "outputs": [
                {
                    "name": "stdout",
                    "output_type": "stream",
                    "text": [
                        "18\n",
                        "31\n"
                    ]
                }
            ],
            "source": [
                "# y podemos sumar cosas a esa suma \n",
                "d = c + 5\n",
                "e = d + c \n",
                "\n",
                "print(d)\n",
                "print(e)"
            ]
        },
        {
            "cell_type": "code",
            "execution_count": 76,
            "metadata": {},
            "outputs": [
                {
                    "name": "stdout",
                    "output_type": "stream",
                    "text": [
                        "7\n"
                    ]
                }
            ],
            "source": [
                "## ademas de sumar, podemos restar, multiplicar o dividir\n",
                "\n",
                "resta = a - b\n",
                "print(resta)"
            ]
        },
        {
            "cell_type": "code",
            "execution_count": 77,
            "metadata": {},
            "outputs": [
                {
                    "name": "stdout",
                    "output_type": "stream",
                    "text": [
                        "30\n"
                    ]
                }
            ],
            "source": [
                "multiplicacion = a * b\n",
                "print(multiplicacion)"
            ]
        },
        {
            "cell_type": "code",
            "execution_count": 78,
            "metadata": {},
            "outputs": [
                {
                    "name": "stdout",
                    "output_type": "stream",
                    "text": [
                        "3.3333333333333335\n"
                    ]
                }
            ],
            "source": [
                "division= a / b\n",
                "print(division) "
            ]
        },
        {
            "cell_type": "code",
            "execution_count": 79,
            "metadata": {},
            "outputs": [
                {
                    "name": "stdout",
                    "output_type": "stream",
                    "text": [
                        "Suma: 13\n",
                        "Resta: 7\n",
                        "Multiplicación: 30\n",
                        "División: 3.3333333333333335\n"
                    ]
                }
            ],
            "source": [
                "\n",
                "suma = a + b\n",
                "resta = a - b\n",
                "multiplicacion = a * b\n",
                "division = a / b\n",
                "\n",
                "print(\"Suma:\", suma)\n",
                "print(\"Resta:\", resta)\n",
                "print(\"Multiplicación:\", multiplicacion)\n",
                "print(\"División:\", division)\n"
            ]
        },
        {
            "cell_type": "code",
            "execution_count": 80,
            "metadata": {},
            "outputs": [
                {
                    "name": "stdout",
                    "output_type": "stream",
                    "text": [
                        "2.0\n"
                    ]
                }
            ],
            "source": [
                "## Y tambien podemos combinar operaciones\n",
                "a = 10\n",
                "b = 2\n",
                "\n",
                "# podemos usar parentesis para indicar que operaciones se hacen primero:\n",
                "resultado = (a + b) / 2  - 4\n",
                "\n",
                "print(resultado)"
            ]
        },
        {
            "cell_type": "code",
            "execution_count": 81,
            "metadata": {},
            "outputs": [
                {
                    "name": "stdout",
                    "output_type": "stream",
                    "text": [
                        "8\n"
                    ]
                }
            ],
            "source": [
                "## tambien podemos hacer calcular potencia\n",
                "a = 3\n",
                "potencia = 2 ** a\n",
                "print(potencia)\n"
            ]
        },
        {
            "cell_type": "code",
            "execution_count": 82,
            "metadata": {},
            "outputs": [
                {
                    "name": "stdout",
                    "output_type": "stream",
                    "text": [
                        "3.0\n"
                    ]
                }
            ],
            "source": [
                "## y si quisieramos calcular la raiz cuadrada de un numero? Podemos importar el módulo math\n",
                "## importar un modulo es traer un conjunto de funciones que no estan disponibles por defecto en python\n",
                "## mas adelante vamos a ver mas sobre modulos e importaciones\n",
                "import math\n",
                "\n",
                "raiz_cuadrada = math.sqrt(9)\n",
                "print(raiz_cuadrada)"
            ]
        },
        {
            "cell_type": "code",
            "execution_count": 94,
            "metadata": {},
            "outputs": [
                {
                    "data": {
                        "text/plain": [
                            "2"
                        ]
                    },
                    "execution_count": 94,
                    "metadata": {},
                    "output_type": "execute_result"
                }
            ],
            "source": [
                "## valor absoluto:\n",
                "abs(-2)"
            ]
        },
        {
            "cell_type": "code",
            "execution_count": 83,
            "metadata": {},
            "outputs": [],
            "source": [
                "## Ejercicio:  si no queremos importar el modulo math ¿como creen que podríamos hacerlo?"
            ]
        },
        {
            "attachments": {
                "image.png": {
                    "image/png": "[encoded data removed]"
                }
            },
            "cell_type": "markdown",
            "metadata": {},
            "source": [
                "Ejercicio: \n",
                "\n",
                "La formula del interés compuesto es: \n",
                "\n",
                "![image.png](attachment:image.png)\n",
                "\n",
                "donde: \n",
                "\n",
                "Cf es el capital al final del enésimo período\n",
                " \n",
                "Ci es el capital inicial\n",
                " \n",
                "r es la tasa de interés (4 % = 0.04)\n",
                " \n",
                "n es el número de períodos.\n",
                "\n",
                "En la siguiente celda vemos definidas algunas de estas variables. Implemente la fórmula para calcular el interés"
            ]
        },
        {
            "cell_type": "code",
            "execution_count": 84,
            "metadata": {},
            "outputs": [
                {
                    "ename": "SyntaxError",
                    "evalue": "invalid syntax (321580452.py, line 6)",
                    "output_type": "error",
                    "traceback": [
                        "\u001b[1;36m  Cell \u001b[1;32mIn[84], line 6\u001b[1;36m\u001b[0m\n\u001b[1;33m    c_final =\u001b[0m\n\u001b[1;37m              ^\u001b[0m\n\u001b[1;31mSyntaxError\u001b[0m\u001b[1;31m:\u001b[0m invalid syntax\n"
                    ]
                }
            ],
            "source": [
                "c_inicial = 200\n",
                "tasa = 0.2\n",
                "periodos = 5\n",
                "\n",
                "## completar la formula para calcular el capital final\n",
                "c_final = \n",
                "\n",
                "## utilizamos la funcion round para redondear el resultado a dos decimales\n",
                "print(round(c_final,2))"
            ]
        },
        {
            "cell_type": "markdown",
            "metadata": {},
            "source": [
                "Más adelante veremos el concepto de \"función\" que nos simplificará y permitirá repetir este procedimiento"
            ]
        },
        {
            "cell_type": "markdown",
            "metadata": {},
            "source": [
                "#### Operaciones Relacionales"
            ]
        },
        {
            "cell_type": "markdown",
            "metadata": {},
            "source": [
                "Que pasa si queremos comparar valores en python? Ver si un valor es mas mayor, menor, igual o distinto que otro?"
            ]
        },
        {
            "cell_type": "code",
            "execution_count": null,
            "metadata": {},
            "outputs": [],
            "source": [
                "# Operaciones relacionales\n",
                "a = 10\n",
                "b = 5"
            ]
        },
        {
            "cell_type": "code",
            "execution_count": null,
            "metadata": {},
            "outputs": [
                {
                    "data": {
                        "text/plain": [
                            "True"
                        ]
                    },
                    "execution_count": 40,
                    "metadata": {},
                    "output_type": "execute_result"
                }
            ],
            "source": [
                "## a es mayor que b?\n",
                "a > b"
            ]
        },
        {
            "cell_type": "code",
            "execution_count": null,
            "metadata": {},
            "outputs": [
                {
                    "data": {
                        "text/plain": [
                            "False"
                        ]
                    },
                    "execution_count": 41,
                    "metadata": {},
                    "output_type": "execute_result"
                }
            ],
            "source": [
                "## y b es mayor que a?\n",
                "b > a"
            ]
        },
        {
            "cell_type": "code",
            "execution_count": null,
            "metadata": {},
            "outputs": [
                {
                    "data": {
                        "text/plain": [
                            "True"
                        ]
                    },
                    "execution_count": 42,
                    "metadata": {},
                    "output_type": "execute_result"
                }
            ],
            "source": [
                "## y si queremos saber si a es mayor o igual que b?\n",
                "a >= b\n"
            ]
        },
        {
            "cell_type": "code",
            "execution_count": null,
            "metadata": {},
            "outputs": [
                {
                    "data": {
                        "text/plain": [
                            "False"
                        ]
                    },
                    "execution_count": 43,
                    "metadata": {},
                    "output_type": "execute_result"
                }
            ],
            "source": [
                "## Tambien podemos comparar si dos valores son iguales o distintos\n",
                "a == b"
            ]
        },
        {
            "cell_type": "code",
            "execution_count": null,
            "metadata": {},
            "outputs": [
                {
                    "data": {
                        "text/plain": [
                            "True"
                        ]
                    },
                    "execution_count": 44,
                    "metadata": {},
                    "output_type": "execute_result"
                }
            ],
            "source": [
                "a != b"
            ]
        },
        {
            "cell_type": "code",
            "execution_count": null,
            "metadata": {},
            "outputs": [
                {
                    "data": {
                        "text/plain": [
                            "True"
                        ]
                    },
                    "execution_count": 46,
                    "metadata": {},
                    "output_type": "execute_result"
                }
            ],
            "source": [
                "## es posible comparar numeros de distinto tipo\n",
                "2 == 2.0"
            ]
        },
        {
            "cell_type": "code",
            "execution_count": null,
            "metadata": {},
            "outputs": [
                {
                    "data": {
                        "text/plain": [
                            "False"
                        ]
                    },
                    "execution_count": 51,
                    "metadata": {},
                    "output_type": "execute_result"
                }
            ],
            "source": [
                "2 != 2.0"
            ]
        },
        {
            "cell_type": "code",
            "execution_count": null,
            "metadata": {},
            "outputs": [
                {
                    "data": {
                        "text/plain": [
                            "False"
                        ]
                    },
                    "execution_count": 48,
                    "metadata": {},
                    "output_type": "execute_result"
                }
            ],
            "source": [
                "## y si queremos comparar cadenas de texto?\n",
                "2 == \"2\""
            ]
        },
        {
            "cell_type": "code",
            "execution_count": null,
            "metadata": {},
            "outputs": [
                {
                    "data": {
                        "text/plain": [
                            "False"
                        ]
                    },
                    "execution_count": 54,
                    "metadata": {},
                    "output_type": "execute_result"
                }
            ],
            "source": [
                "2.0 > 2"
            ]
        },
        {
            "cell_type": "code",
            "execution_count": null,
            "metadata": {},
            "outputs": [
                {
                    "ename": "TypeError",
                    "evalue": "'>' not supported between instances of 'str' and 'int'",
                    "output_type": "error",
                    "traceback": [
                        "\u001b[1;31m---------------------------------------------------------------------------\u001b[0m",
                        "\u001b[1;31mTypeError\u001b[0m                                 Traceback (most recent call last)",
                        "Cell \u001b[1;32mIn[55], line 1\u001b[0m\n\u001b[1;32m----> 1\u001b[0m \u001b[38;5;124;43m\"\u001b[39;49m\u001b[38;5;124;43m2\u001b[39;49m\u001b[38;5;124;43m\"\u001b[39;49m\u001b[43m \u001b[49m\u001b[38;5;241;43m>\u001b[39;49m\u001b[43m \u001b[49m\u001b[38;5;241;43m2\u001b[39;49m\n",
                        "\u001b[1;31mTypeError\u001b[0m: '>' not supported between instances of 'str' and 'int'"
                    ]
                }
            ],
            "source": [
                "\"2\" > 2"
            ]
        },
        {
            "cell_type": "markdown",
            "metadata": {},
            "source": [
                "#### Operaciones lógicas"
            ]
        },
        {
            "cell_type": "markdown",
            "metadata": {},
            "source": [
                "Además de las operaciones matemáticas y relacionales, podemos hacer operaciones lógicas entre booleanos. Esto será de mucha ayuda cuando veamos estructuras de control. "
            ]
        },
        {
            "cell_type": "code",
            "execution_count": 85,
            "metadata": {},
            "outputs": [],
            "source": [
                "# Operaciones lógicas se realizan entre booleanos:\n",
                "x = True\n",
                "y = False"
            ]
        },
        {
            "cell_type": "code",
            "execution_count": 86,
            "metadata": {},
            "outputs": [
                {
                    "name": "stdout",
                    "output_type": "stream",
                    "text": [
                        "x and y: False\n",
                        "x or y: True\n",
                        "not x: False\n"
                    ]
                }
            ],
            "source": [
                "\n",
                "## usamos las operaciones lógicas and, or y not\n",
                "\n",
                "print(\"x and y:\", x and y)\n",
                "print(\"x or y:\", x or y)\n",
                "print(\"not x:\", not x)\n"
            ]
        },
        {
            "cell_type": "code",
            "execution_count": 87,
            "metadata": {},
            "outputs": [
                {
                    "name": "stdout",
                    "output_type": "stream",
                    "text": [
                        "True\n",
                        "False\n",
                        "False\n"
                    ]
                }
            ],
            "source": [
                "## AND es el \"y\" lógico. Devuelve True si ambos valores son True\n",
                "print (True and True)\n",
                "print (True and False)\n",
                "print (False and True)"
            ]
        },
        {
            "cell_type": "code",
            "execution_count": 88,
            "metadata": {},
            "outputs": [
                {
                    "name": "stdout",
                    "output_type": "stream",
                    "text": [
                        "True\n",
                        "True\n",
                        "True\n",
                        "False\n"
                    ]
                }
            ],
            "source": [
                "## OR es el \"o\" lógico. Devuelve True si al menos uno de los valores es True\n",
                "print (True or True)\n",
                "print (True or False)\n",
                "print (False or True)\n",
                "print (False or False)"
            ]
        },
        {
            "cell_type": "code",
            "execution_count": 89,
            "metadata": {},
            "outputs": [
                {
                    "name": "stdout",
                    "output_type": "stream",
                    "text": [
                        "False\n",
                        "True\n"
                    ]
                }
            ],
            "source": [
                "## NOT es el \"no\" lógico. Devuelve True si el valor es False y viceversa\n",
                "print (not True)\n",
                "print (not False)"
            ]
        },
        {
            "cell_type": "code",
            "execution_count": 90,
            "metadata": {},
            "outputs": [
                {
                    "name": "stdout",
                    "output_type": "stream",
                    "text": [
                        "False\n"
                    ]
                }
            ],
            "source": [
                "## y tambien podemos hacer combinaciones de operaciones lógicas\n",
                "x = True\n",
                "y = False\n",
                "\n",
                "resultado = (x and y) or (not x)\n",
                "\n",
                "print(resultado)"
            ]
        },
        {
            "cell_type": "code",
            "execution_count": 91,
            "metadata": {},
            "outputs": [
                {
                    "name": "stdout",
                    "output_type": "stream",
                    "text": [
                        "True\n"
                    ]
                }
            ],
            "source": [
                "## además podemos comparar operaciones relacionales con operaciones lógicas\n",
                "\n",
                "a = 10\n",
                "b = 5\n",
                "\n",
                "resultado = (a > b) and (a != b)\n",
                "print(resultado)"
            ]
        },
        {
            "cell_type": "markdown",
            "metadata": {},
            "source": [
                "#### Operaciones de strings"
            ]
        },
        {
            "cell_type": "code",
            "execution_count": null,
            "metadata": {},
            "outputs": [
                {
                    "name": "stdout",
                    "output_type": "stream",
                    "text": [
                        "hola soy un programador\n"
                    ]
                }
            ],
            "source": [
                "## Los strings tambien tienen operaciones. Por ejemplo, podemos concatenar dos strings\n",
                "\n",
                "var1 = \"hola soy un \"\n",
                "var2 = \"programador hola soy un cambio\"\n",
                "var3 = \"banquero\"\n",
                "\n",
                "var4 = var1 + var2\n",
                "print(var4)"
            ]
        },
        {
            "cell_type": "code",
            "execution_count": 97,
            "metadata": {},
            "outputs": [
                {
                    "name": "stdout",
                    "output_type": "stream",
                    "text": [
                        "hola hola hola \n"
                    ]
                }
            ],
            "source": [
                "## tambien podemos multiplicar un string por un entero para repetirlo\n",
                "var5 = \"hola \"\n",
                "var6 = var5 * 3\n",
                "\n",
                "print(var6)"
            ]
        },
        {
            "cell_type": "code",
            "execution_count": 98,
            "metadata": {},
            "outputs": [
                {
                    "name": "stdout",
                    "output_type": "stream",
                    "text": [
                        "Hola Juan!\n"
                    ]
                }
            ],
            "source": [
                "## y podemos interpolar variables en un string\n",
                "nombre = \"Juan\"\n",
                "\n",
                "saludo = f\"Hola {nombre}!\"\n",
                "\n",
                "print(saludo)"
            ]
        },
        {
            "cell_type": "code",
            "execution_count": 1,
            "metadata": {},
            "outputs": [
                {
                    "name": "stdout",
                    "output_type": "stream",
                    "text": [
                        "HOLA\n",
                        "hola\n"
                    ]
                }
            ],
            "source": [
                "## podemos convertir un string a mayusculas o minusculas\n",
                "var7 = \"hola\"\n",
                "var8 = var7.upper()\n",
                "print(var8)\n",
                "\n",
                "var9 = \"HOLA\"\n",
                "var10 = var9.lower()\n",
                "print(var10)"
            ]
        },
        {
            "cell_type": "markdown",
            "metadata": {},
            "source": [
                "#### Input de datos \n"
            ]
        },
        {
            "cell_type": "code",
            "execution_count": 92,
            "metadata": {},
            "outputs": [],
            "source": [
                "## Hay forma de pedirle al usuario para que ingrese un valor. Para eso usamos la función input\n",
                "\n",
                "nombre = input(\"Ingrese su nombre: \")"
            ]
        },
        {
            "cell_type": "code",
            "execution_count": 99,
            "metadata": {},
            "outputs": [
                {
                    "name": "stdout",
                    "output_type": "stream",
                    "text": [
                        "Hola, mi nombre es Juan\n"
                    ]
                }
            ],
            "source": [
                "print(\"Hola, mi nombre es \" + nombre)"
            ]
        },
        {
            "cell_type": "code",
            "execution_count": null,
            "metadata": {},
            "outputs": [],
            "source": [
                "# Ejercicio: Pedirle al usuario que ingrese su edad y mostrarla en pantalla. ¿Qué tipo de dato es el que se ingresa?\n"
            ]
        },
        {
            "cell_type": "markdown",
            "metadata": {},
            "source": [
                "Escribí un programa que:\n",
                "\n",
                "1. Pida al usuario su edad y la de otra persona.\n",
                "2. Calcule la diferencia de edad y la imprima. \n",
                "3. Verifique quién es mayor o si tienen la misma edad. Lo imprima. \n",
                "4. Determine si ambos tienen más de 18 años. \n"
            ]
        },
        {
            "cell_type": "markdown",
            "metadata": {},
            "source": [
                "#### Casteo de tipos de datos"
            ]
        },
        {
            "cell_type": "markdown",
            "metadata": {},
            "source": [
                "Además, podemos cambiar de un tipo de datos a otro. Por ejemplo: de entero a string. De float a entero.\n",
                "Veamos algunos ejemplos"
            ]
        },
        {
            "cell_type": "code",
            "execution_count": 100,
            "metadata": {},
            "outputs": [
                {
                    "data": {
                        "text/plain": [
                            "2"
                        ]
                    },
                    "execution_count": 100,
                    "metadata": {},
                    "output_type": "execute_result"
                }
            ],
            "source": [
                "a = 2.0\n",
                "int(a)"
            ]
        },
        {
            "cell_type": "code",
            "execution_count": 102,
            "metadata": {},
            "outputs": [
                {
                    "data": {
                        "text/plain": [
                            "2"
                        ]
                    },
                    "execution_count": 102,
                    "metadata": {},
                    "output_type": "execute_result"
                }
            ],
            "source": [
                "## pero pasar a entero lo redondea hacia abajo\n",
                "a = 2.4\n",
                "int(a)\n"
            ]
        },
        {
            "cell_type": "code",
            "execution_count": 104,
            "metadata": {},
            "outputs": [
                {
                    "data": {
                        "text/plain": [
                            "2"
                        ]
                    },
                    "execution_count": 104,
                    "metadata": {},
                    "output_type": "execute_result"
                }
            ],
            "source": [
                "a = 2.9999\n",
                "int(a)"
            ]
        },
        {
            "cell_type": "code",
            "execution_count": 107,
            "metadata": {},
            "outputs": [
                {
                    "name": "stdout",
                    "output_type": "stream",
                    "text": [
                        "4 + 20\n"
                    ]
                }
            ],
            "source": [
                "a = \"4 + \"\n",
                "b = str(b)\n",
                "c = a + b\n",
                "\n",
                "print(c)"
            ]
        },
        {
            "cell_type": "code",
            "execution_count": 108,
            "metadata": {},
            "outputs": [],
            "source": [
                "## Ejercicio: pedirle al usuario que ingrese dos números y mostrarlos en pantalla. Castearlos a enteros y sumarlos. \n",
                "## ¿Qué pasa si el usuario ingresa un string en lugar de un número?"
            ]
        },
        {
            "cell_type": "code",
            "execution_count": null,
            "metadata": {},
            "outputs": [],
            "source": []
        }
    ],
    "metadata": {
        "kernelspec": {
            "display_name": "Python 3",
            "language": "python",
            "name": "python3"
        },
        "language_info": {
            "codemirror_mode": {
                "name": "ipython",
                "version": 3
            },
            "file_extension": ".py",
            "mimetype": "text/x-python",
            "name": "python",
            "nbconvert_exporter": "python",
            "pygments_lexer": "ipython3",
            "version": "3.10.0"
        }
    },
    "nbformat": 4,
    "nbformat_minor": 2
}