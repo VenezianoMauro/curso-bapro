{
 "cells": [
  {
   "cell_type": "markdown",
   "metadata": {},
   "source": [
    "# API de OpenAI"
   ]
  },
  {
   "cell_type": "code",
   "execution_count": 1,
   "metadata": {},
   "outputs": [],
   "source": [
    "import os\n",
    "from openai import OpenAI\n",
    "import requests\n",
    "import json\n",
    "\n",
    "os.environ[\"OPENAI_API_KEY\"] = \"ACA VA EL API KEY\"\n",
    "client = OpenAI()"
   ]
  },
  {
   "cell_type": "markdown",
   "metadata": {},
   "source": [
    "### Ejemplo de uso de la API de OpenAI\n"
   ]
  },
  {
   "cell_type": "code",
   "execution_count": null,
   "metadata": {},
   "outputs": [
    {
     "name": "stdout",
     "output_type": "stream",
     "text": [
      "Cuenta DNI, llave de conexión,  \n",
      "pulso digital que agiliza mi acción.  \n",
      "En cada QR brota la libertad,  \n",
      "sin efectivo ni pausa, pura agilidad.  \n",
      "Banco Provincia, aliado fiel,  \n",
      "en tu billetera mi ahorro a un nuevo nivel.\n"
     ]
    }
   ],
   "source": [
    "\n",
    "prompt = '''Generar un poema breve sobre \"cuenta dni\", la billetera virtual de banco provincia'''\n",
    "\n",
    "## la principal forma de interactuar con la API de OpenAI es utilizando la api de Responses.\n",
    "## esta api nos permite generar texto a partir de un prompt.\n",
    "\n",
    "response = client.responses.create(\n",
    "    model=\"o4-mini\",\n",
    "    input=prompt\n",
    ")\n",
    "\n",
    "print(response.output_text)"
   ]
  },
  {
   "cell_type": "markdown",
   "metadata": {},
   "source": [
    "Vamos a ver que tipo de cosas podemos hacer con la API de OpenAI que tengan que ver especificamente con datos. "
   ]
  },
  {
   "cell_type": "markdown",
   "metadata": {},
   "source": [
    "### Clasificación zero-shot de texto"
   ]
  },
  {
   "cell_type": "code",
   "execution_count": 18,
   "metadata": {},
   "outputs": [
    {
     "name": "stdout",
     "output_type": "stream",
     "text": [
      "Review: El producto es excelente, superó mis expectativas.\n",
      "Sentimiento: Positivo\n",
      "--------------------------------------------------\n",
      "Review: No estoy satisfecho con la compra, llegó dañado.\n",
      "Sentimiento: Negativo\n",
      "--------------------------------------------------\n",
      "Review: Funciona bien, pero la entrega tardó mucho.\n",
      "Sentimiento: Neutral\n",
      "--------------------------------------------------\n",
      "Review: ¡Increíble! Lo recomendaré a todos mis amigos.\n",
      "Sentimiento: Positivo\n",
      "--------------------------------------------------\n",
      "Review: Pésima atención al cliente, no resolverían mi problema.\n",
      "Sentimiento: Negativo\n",
      "--------------------------------------------------\n"
     ]
    }
   ],
   "source": [
    "# Ejemplo: Clasificación de sentimiento en reviews\n",
    "## podemos clasificar el sentimiento de un texto, es decir, si es positivo, neutral o negativo.\n",
    "## antes era necesario tener un dataset de ejemplos para poder entrenar un clasificador. \n",
    "## Ahora podemos hacerlo de manera directa con un LLM, que funciona bastante bien.\n",
    "\n",
    "reviews = [\n",
    "    \"El producto es excelente, superó mis expectativas.\",\n",
    "    \"No estoy satisfecho con la compra, llegó dañado.\",\n",
    "    \"Funciona bien, pero la entrega tardó mucho.\",\n",
    "    \"¡Increíble! Lo recomendaré a todos mis amigos.\",\n",
    "    \"Pésima atención al cliente, no resolverían mi problema.\",\n",
    "]\n",
    "\n",
    "instruccion = \"Clasifica el siguiente texto como 'positivo', 'neutral' o 'negativo'. Responde solo con una de estas tres palabras.\\n\\n\"\n",
    "\n",
    "for review in reviews:\n",
    "    prompt = instruccion + f\"Texto: {review}\"\n",
    "    response = client.responses.create(\n",
    "        model=\"gpt-4o-mini\",\n",
    "        input=prompt,\n",
    "    )\n",
    "    sentimiento = response.output_text\n",
    "    print(f\"Review: {review}\")\n",
    "    print(f\"Sentimiento: {sentimiento}\")\n",
    "    print(\"-\" * 50)\n"
   ]
  },
  {
   "cell_type": "markdown",
   "metadata": {},
   "source": [
    "### Estructurar dato no estructurado"
   ]
  },
  {
   "cell_type": "code",
   "execution_count": 19,
   "metadata": {},
   "outputs": [],
   "source": [
    "## vamos a tomar un texto de una noticia y vamos a extraer la información de la noticia.\n",
    "## y lo vamos a devolver como un json. De esta forma podemos convertir un dato no estructurado en un dato estructurado.\n",
    "\n",
    "import openai\n",
    "import requests\n",
    "import json\n",
    "\n",
    "client = openai.OpenAI()\n",
    "\n",
    "# Obtener texto de una página web (ejemplo: noticia de Argentina)\n",
    "url = \"https://www.infobae.com/economia/2025/04/25/el-gobierno-retoma-los-pagos-al-fmi-y-debera-devolver-por-intereses-usd-2000-millones-este-ano/\"\n",
    "response = requests.get(url)\n",
    "texto_noticia = response.text[:2000]  # Tomamos solo los primeros 2000 caracteres\n"
   ]
  },
  {
   "cell_type": "code",
   "execution_count": 32,
   "metadata": {},
   "outputs": [],
   "source": [
    "\n",
    "# Prompt unificado para el modelo 'responses'\n",
    "prompt = f\"\"\"\n",
    "Eres un asistente que extrae información estructurada de texto no estructurado y la devuelve como JSON.\n",
    "\n",
    "Extrae la siguiente información del texto como un objeto JSON:\n",
    "- titulo (string)\n",
    "- autor (string)\n",
    "- fecha (string en formato YYYY-MM-DD)\n",
    "- entidades_principales (array de strings)\n",
    "- resumen (string de 2 oraciones)\n",
    "- categoria (string)\n",
    "\n",
    "Texto:\n",
    "{texto_noticia}\n",
    "\"\"\"\n",
    "\n",
    "# Llamada a la nueva API\n",
    "response = client.responses.create(\n",
    "    model=\"gpt-4o-mini\",\n",
    "    input=prompt\n",
    ")\n",
    "\n"
   ]
  },
  {
   "cell_type": "code",
   "execution_count": 36,
   "metadata": {},
   "outputs": [],
   "source": [
    "salida = response.output_text\n",
    "salida = salida.replace(\"```json\", \"\").replace(\"```\", \"\")\n"
   ]
  },
  {
   "cell_type": "code",
   "execution_count": 38,
   "metadata": {},
   "outputs": [
    {
     "name": "stdout",
     "output_type": "stream",
     "text": [
      "{\n",
      "  \"titulo\": \"El Gobierno retoma los pagos al FMI y deberá devolver por intereses USD 2.000 millones este año - Infobae\",\n",
      "  \"autor\": \"Infobae\",\n",
      "  \"fecha\": \"2023-10-01\",\n",
      "  \"entidades_principales\": [\n",
      "    \"Gobierno\",\n",
      "    \"FMI\",\n",
      "    \"BCRA\"\n",
      "  ],\n",
      "  \"resumen\": \"La semana próxima vencen USD 630 millones y el calendario incluye nuevas obligaciones en agosto y noviembre. Economía recibió $11,7 billones desde el BCRA para afrontar deuda en pesos y dólares.\",\n",
      "  \"categoria\": \"Economía\"\n",
      "}\n"
     ]
    }
   ],
   "source": [
    "try:\n",
    "    datos_estructurados = json.loads(salida)\n",
    "    print(json.dumps(datos_estructurados, indent=2, ensure_ascii=False))\n",
    "except json.JSONDecodeError:\n",
    "    print(\"⚠️ No se pudo parsear la respuesta como JSON:\")\n",
    "    print(salida)\n"
   ]
  }
 ],
 "metadata": {
  "kernelspec": {
   "display_name": "Python 3",
   "language": "python",
   "name": "python3"
  },
  "language_info": {
   "codemirror_mode": {
    "name": "ipython",
    "version": 3
   },
   "file_extension": ".py",
   "mimetype": "text/x-python",
   "name": "python",
   "nbconvert_exporter": "python",
   "pygments_lexer": "ipython3",
   "version": "3.10.12"
  }
 },
 "nbformat": 4,
 "nbformat_minor": 2
}
