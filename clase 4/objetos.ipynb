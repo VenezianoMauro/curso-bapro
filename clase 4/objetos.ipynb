{
 "cells": [
  {
   "cell_type": "markdown",
   "metadata": {},
   "source": [
    "# Clase 4: Programación Orientada a Objetos en Python\n",
    "\n",
    "La Programación Orientada a Objetos (POO) es un paradigma de programación que organiza el código en \"objetos\" que contienen datos (atributos) y comportamientos (métodos). Python es un lenguaje que soporta completamente la POO.\n",
    "Basicamente, todo en Python es un objeto. "
   ]
  },
  {
   "cell_type": "markdown",
   "metadata": {},
   "source": [
    "## Conceptos Básicos\n",
    "\n",
    "- **Clase**: Es como un molde para crear objetos. Define los atributos y métodos que tendrán los objetos.\n",
    "- **Objeto**: Es una instancia de una clase. Cada objeto tiene su propio estado (valores de atributos).\n",
    "- **Atributo**: Son variables que pertenecen a un objeto/clase.\n",
    "- **Método**: Son funciones definidas dentro de una clase que describen comportamientos."
   ]
  },
  {
   "cell_type": "code",
   "execution_count": 2,
   "metadata": {},
   "outputs": [],
   "source": [
    "# Ejemplo básico de clase\n",
    "class Perro:\n",
    "    # Método especial __init__ (constructor)\n",
    "    def __init__(self, nombre, edad):\n",
    "        self.nombre = nombre  # Atributo de instancia\n",
    "        self.edad = edad\n",
    "    \n",
    "    # Método de instancia\n",
    "    def describirse(self):\n",
    "        print(f\"Hola, me llamo {self.nombre} y tengo {self.edad} años\")\n",
    "    \n",
    "    def ladrar(self):\n",
    "        print(\"Guau! Guau!\")"
   ]
  },
  {
   "cell_type": "code",
   "execution_count": 3,
   "metadata": {},
   "outputs": [
    {
     "name": "stdout",
     "output_type": "stream",
     "text": [
      "Hola, me llamo Max y tengo 5 años\n",
      "Guau! Guau!\n"
     ]
    }
   ],
   "source": [
    "mi_perro = Perro(\"Max\", 5)\n",
    "\n",
    "mi_perro.describirse()\n",
    "mi_perro.ladrar()"
   ]
  },
  {
   "cell_type": "markdown",
   "metadata": {},
   "source": [
    "## Self y Métodos Especiales\n",
    "\n",
    "- `self` es una referencia a la instancia actual de la clase.\n",
    "- Los métodos especiales (como `__init__`) tienen doble guión bajo al inicio y final."
   ]
  },
  {
   "cell_type": "code",
   "execution_count": 6,
   "metadata": {},
   "outputs": [
    {
     "name": "stdout",
     "output_type": "stream",
     "text": [
      "Libro: El principito, Autor: Antoine de Saint-Exupéry, 96 páginas\n"
     ]
    }
   ],
   "source": [
    "class Libro:\n",
    "    def __init__(self, titulo, autor, paginas):\n",
    "        self.titulo = titulo\n",
    "        self.autor = autor\n",
    "        self.paginas = paginas\n",
    "    \n",
    "    ## podria no llamarse self, pero es una buena práctica\n",
    "    def describir(self):\n",
    "        print(f\"Libro: {self.titulo}, Autor: {self.autor}, {self.paginas} páginas\")\n",
    "    \n",
    "   \n",
    "libro1 = Libro(\"El principito\", \"Antoine de Saint-Exupéry\", 96)\n",
    "libro1.describir()"
   ]
  },
  {
   "cell_type": "markdown",
   "metadata": {},
   "source": [
    "## Atributos de Clase vs Instancia"
   ]
  },
  {
   "cell_type": "code",
   "execution_count": 7,
   "metadata": {},
   "outputs": [
    {
     "name": "stdout",
     "output_type": "stream",
     "text": [
      "Contador: 2\n",
      "Especie: Canis lupus familiaris\n",
      "Nombre: Firulais\n",
      "Especie: Canis lupus familiaris\n"
     ]
    }
   ],
   "source": [
    "class Perro:\n",
    "    # Atributo de clase (compartido por todas las instancias)\n",
    "    especie = \"Canis lupus familiaris\"\n",
    "    contador = 0\n",
    "    \n",
    "    def __init__(self, nombre):\n",
    "        # Atributos de instancia (únicos para cada objeto)\n",
    "        self.nombre = nombre\n",
    "        Perro.contador += 1  # Podemos modificar el atributo de clase desde el constructor\n",
    "    \n",
    "    def info(self):\n",
    "        print(f\"Nombre: {self.nombre}\")\n",
    "        print(f\"Especie: {self.especie}\")\n",
    "\n",
    "perro1 = Perro(\"Fido\")\n",
    "perro2 = Perro(\"Firulais\")\n",
    "\n",
    "print(f\"Contador: {Perro.contador}\")\n",
    "print(f\"Especie: {Perro.especie}\")\n",
    "perro2.info()"
   ]
  },
  {
   "cell_type": "markdown",
   "metadata": {},
   "source": [
    "## Herencia\n",
    "\n",
    "Una clase puede \"heredar\" sus atributos y métodos de otra clase. "
   ]
  },
  {
   "cell_type": "code",
   "execution_count": 9,
   "metadata": {},
   "outputs": [
    {
     "name": "stdout",
     "output_type": "stream",
     "text": [
      "El animal está comiendo\n",
      "El perro está ladrando\n",
      "El gato está maullando\n",
      "El gato está comiendo\n"
     ]
    }
   ],
   "source": [
    "class Animal:\n",
    "    ## todos los animales van a tener un nombre:\n",
    "    def __init__(self, nombre):\n",
    "        self.nombre = nombre\n",
    "    \n",
    "    ## y todos los animales van a poder comer:\n",
    "    def comer(self):\n",
    "        print(\"El animal está comiendo\")\n",
    "\n",
    "## herencia: Perro y Gato son tipos de Animal. Van a tener nombre y van a poder comer.\n",
    "## pero además van a tener métodos propios:\n",
    "class Perro(Animal):\n",
    "    def ladrar(self):\n",
    "        print(\"El perro está ladrando\")\n",
    "\n",
    "class Gato(Animal):\n",
    "    def maullar(self):\n",
    "        print(\"El gato está maullando\")\n",
    "    \n",
    "    # Sobreescritura de método\n",
    "    def comer(self):\n",
    "        print(\"El gato está comiendo\")\n",
    "\n",
    "animal = Animal(\"Genérico\")\n",
    "animal.comer()\n",
    "\n",
    "perro = Perro(\"Max\")\n",
    "perro.ladrar()\n",
    "\n",
    "gato = Gato(\"Michi\")\n",
    "gato.maullar()\n",
    "gato.comer()"
   ]
  },
  {
   "cell_type": "markdown",
   "metadata": {},
   "source": [
    "## Ejercicio  \n",
    "Implementar un sistema simple de gestión de biblioteca con las siguientes clases  \n",
    "\n",
    "\n",
    "1. **Clase Libro**:\n",
    "   - **Atributos**:\n",
    "     - `título` (string)\n",
    "     - `autor` (string)\n",
    "     - `ISBN` (string)\n",
    "     - `disponible` (bool)\n",
    "\n",
    "2. **Clase Usuario**:\n",
    "   - **Atributos**:\n",
    "     - `nombre` (string)\n",
    "     - `ID` (string/int)\n",
    "     - `libros_prestados` (lista)\n",
    "   - **Métodos**:\n",
    "     - `tomar_prestado(libro)`\n",
    "     - `devolver_libro(libro)`\n",
    "\n",
    "3. **Clase Biblioteca**:\n",
    "   - **Atributos**:\n",
    "     - `catalogo` (lista de objetos Libro)\n",
    "     - `usuarios` (lista de objetos Usuario)\n",
    "   - **Métodos**:\n",
    "     - `agregar_libro(libro)`\n",
    "     - `registrar_usuario(usuario)`\n",
    "     - `buscar_libro(título)`\n",
    "\n",
    "Para testear que funcione, una vez implementadas las 3 clases:  \n",
    "1. Instanciar dos libros  \n",
    "2. Instanciar dos usuarios.  \n",
    "3. Instanciar una biblioteca. Agregar los libros. Agregar los usuarios. Buscar un libro.  \n",
    "4. Elegir un usuario, hacer que pida prestado un libro y lo devuelva. \n",
    "\n"
   ]
  }
 ],
 "metadata": {
  "kernelspec": {
   "display_name": "Python 3",
   "language": "python",
   "name": "python3"
  },
  "language_info": {
   "codemirror_mode": {
    "name": "ipython",
    "version": 3
   },
   "file_extension": ".py",
   "mimetype": "text/x-python",
   "name": "python",
   "nbconvert_exporter": "python",
   "pygments_lexer": "ipython3",
   "version": "3.12.0"
  }
 },
 "nbformat": 4,
 "nbformat_minor": 2
}
