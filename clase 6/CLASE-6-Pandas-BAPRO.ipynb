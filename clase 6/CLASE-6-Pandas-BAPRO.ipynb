{
 "cells": [
  {
   "cell_type": "markdown",
   "metadata": {},
   "source": [
    "# Código Clase 6 \n",
    "\n"
   ]
  },
  {
   "cell_type": "markdown",
   "metadata": {},
   "source": [
    "## Biblioteca Pandas\n"
   ]
  },
  {
   "cell_type": "code",
   "execution_count": null,
   "metadata": {},
   "outputs": [],
   "source": [
    "#!pip install pandas"
   ]
  },
  {
   "cell_type": "code",
   "execution_count": 1,
   "metadata": {},
   "outputs": [
    {
     "name": "stdout",
     "output_type": "stream",
     "text": [
      "2.2.3\n"
     ]
    }
   ],
   "source": [
    "# Verificar la versión de pandas\n",
    "import pandas as pd\n",
    "print(pd.__version__)"
   ]
  },
  {
   "cell_type": "markdown",
   "metadata": {},
   "source": [
    "## Introducción"
   ]
  },
  {
   "cell_type": "markdown",
   "metadata": {},
   "source": [
    "* Ideal para trabajar con archivos tipo Excel, CSV o bases de datos.\n",
    "\n",
    "* Facilita el trabajo con estructuras tipo tablas (Series y DataFrames).\n",
    "\n",
    "* Se basa en NumPy pero es más flexible para análisis de datos reales."
   ]
  },
  {
   "cell_type": "markdown",
   "metadata": {},
   "source": [
    "## `Series` en Pandas\n",
    "\n",
    "* Las Series son estructuras unidimensionales similares a arrays de NumPy, pero con un índice asociado. \n",
    "* Puede ser creado desde una lista:"
   ]
  },
  {
   "cell_type": "code",
   "execution_count": 6,
   "metadata": {},
   "outputs": [
    {
     "data": {
      "text/plain": [
       "0    10\n",
       "1    20\n",
       "2    30\n",
       "3    40\n",
       "4    50\n",
       "dtype: int64"
      ]
     },
     "execution_count": 6,
     "metadata": {},
     "output_type": "execute_result"
    }
   ],
   "source": [
    "# Creación desde una lista\n",
    "s1 = pd.Series([10, 20, 30, 40, 50])\n",
    "s1\n"
   ]
  },
  {
   "cell_type": "code",
   "execution_count": 7,
   "metadata": {},
   "outputs": [
    {
     "data": {
      "text/plain": [
       "0    0.25\n",
       "1    0.50\n",
       "2    0.75\n",
       "3    1.00\n",
       "4    1.30\n",
       "dtype: float64"
      ]
     },
     "execution_count": 7,
     "metadata": {},
     "output_type": "execute_result"
    }
   ],
   "source": [
    "data = pd.Series([0.25, 0.5, 0.75, 1.0, 1.3])\n",
    "data"
   ]
  },
  {
   "cell_type": "markdown",
   "metadata": {},
   "source": [
    "* Una ``Series`` encapsula tanto una secuencia de valores como una de índices.\n",
    "* Podemos acceder a ellos con los atributos `values` e `index`"
   ]
  },
  {
   "cell_type": "code",
   "execution_count": null,
   "metadata": {},
   "outputs": [
    {
     "data": {
      "text/plain": [
       "array([0.25, 0.5 , 0.75, 1.  , 1.3 ])"
      ]
     },
     "execution_count": 8,
     "metadata": {},
     "output_type": "execute_result"
    }
   ],
   "source": [
    "data.values   #internamente usa array para guardar los datos "
   ]
  },
  {
   "cell_type": "markdown",
   "metadata": {},
   "source": [
    "* Un `index` es un objeto similar a un array."
   ]
  },
  {
   "cell_type": "code",
   "execution_count": 9,
   "metadata": {},
   "outputs": [
    {
     "data": {
      "text/plain": [
       "RangeIndex(start=0, stop=5, step=1)"
      ]
     },
     "execution_count": 9,
     "metadata": {},
     "output_type": "execute_result"
    }
   ],
   "source": [
    "data.index"
   ]
  },
  {
   "cell_type": "code",
   "execution_count": 11,
   "metadata": {},
   "outputs": [
    {
     "data": {
      "text/plain": [
       "pandas.core.series.Series"
      ]
     },
     "execution_count": 11,
     "metadata": {},
     "output_type": "execute_result"
    }
   ],
   "source": [
    "type(data)"
   ]
  },
  {
   "cell_type": "markdown",
   "metadata": {},
   "source": [
    "* Podemos acceder a una `Series` a través del índice asociado de forma similar a los arrays de Numpy: con los `[]` \n"
   ]
  },
  {
   "cell_type": "code",
   "execution_count": 69,
   "metadata": {},
   "outputs": [
    {
     "data": {
      "text/plain": [
       "0.5"
      ]
     },
     "execution_count": 69,
     "metadata": {},
     "output_type": "execute_result"
    }
   ],
   "source": [
    "data[1]"
   ]
  },
  {
   "cell_type": "code",
   "execution_count": 5,
   "metadata": {},
   "outputs": [
    {
     "data": {
      "text/plain": [
       "2    0.75\n",
       "3    1.00\n",
       "4    1.30\n",
       "dtype: float64"
      ]
     },
     "execution_count": 5,
     "metadata": {},
     "output_type": "execute_result"
    }
   ],
   "source": [
    "data[2:]"
   ]
  },
  {
   "cell_type": "markdown",
   "metadata": {},
   "source": [
    "* Pueden ser `strings` "
   ]
  },
  {
   "cell_type": "code",
   "execution_count": 18,
   "metadata": {},
   "outputs": [
    {
     "data": {
      "text/plain": [
       "a    0.25\n",
       "b    0.50\n",
       "c    0.75\n",
       "d    1.00\n",
       "Name: proporciones, dtype: float64"
      ]
     },
     "execution_count": 18,
     "metadata": {},
     "output_type": "execute_result"
    }
   ],
   "source": [
    "data = pd.Series([0.25, 0.5, 0.75, 1.0],\n",
    "                 index=['a', 'b', 'c', 'd'], name='proporciones', dtype='float64')\n",
    "data"
   ]
  },
  {
   "cell_type": "code",
   "execution_count": 11,
   "metadata": {},
   "outputs": [
    {
     "data": {
      "text/plain": [
       "Index(['a', 'b', 'c', 'd'], dtype='object')"
      ]
     },
     "execution_count": 11,
     "metadata": {},
     "output_type": "execute_result"
    }
   ],
   "source": [
    "data.index"
   ]
  },
  {
   "cell_type": "markdown",
   "metadata": {},
   "source": [
    "* Y podemos acceder simplemente:"
   ]
  },
  {
   "cell_type": "code",
   "execution_count": 7,
   "metadata": {},
   "outputs": [
    {
     "data": {
      "text/plain": [
       "0.5"
      ]
     },
     "execution_count": 7,
     "metadata": {},
     "output_type": "execute_result"
    }
   ],
   "source": [
    "data['b']"
   ]
  },
  {
   "cell_type": "markdown",
   "metadata": {},
   "source": [
    "### ``Series`` como un `dict` especializado"
   ]
  },
  {
   "cell_type": "markdown",
   "metadata": {},
   "source": [
    "* Un `dict` es una estructura que mapea un set de keys arbitrarias a un set de valores de un tipo.\n",
    "* Puede hacerse, entonces, una analogía entre una `Series` y un `dict`"
   ]
  },
  {
   "cell_type": "code",
   "execution_count": 12,
   "metadata": {},
   "outputs": [
    {
     "data": {
      "text/plain": [
       "California    38332521\n",
       "Texas         26448193\n",
       "New York      19651127\n",
       "Florida       19552860\n",
       "Illinois      12882135\n",
       "dtype: int64"
      ]
     },
     "execution_count": 12,
     "metadata": {},
     "output_type": "execute_result"
    }
   ],
   "source": [
    "population_dict = {'California': 38332521,\n",
    "                   'Texas': 26448193,\n",
    "                   'New York': 19651127,\n",
    "                   'Florida': 19552860,\n",
    "                   'Illinois': 12882135}\n",
    "\n",
    "population = pd.Series(population_dict)\n",
    "population"
   ]
  },
  {
   "cell_type": "code",
   "execution_count": 13,
   "metadata": {},
   "outputs": [
    {
     "data": {
      "text/plain": [
       "array([38332521, 26448193, 19651127, 19552860, 12882135], dtype=int64)"
      ]
     },
     "execution_count": 13,
     "metadata": {},
     "output_type": "execute_result"
    }
   ],
   "source": [
    "population.values"
   ]
  },
  {
   "cell_type": "code",
   "execution_count": 14,
   "metadata": {},
   "outputs": [
    {
     "data": {
      "text/plain": [
       "Index(['California', 'Texas', 'New York', 'Florida', 'Illinois'], dtype='object')"
      ]
     },
     "execution_count": 14,
     "metadata": {},
     "output_type": "execute_result"
    }
   ],
   "source": [
    "population.index"
   ]
  },
  {
   "cell_type": "markdown",
   "metadata": {},
   "source": [
    "* Puede crearse una `Series` a partir de un `dict`: el índice se toma de las keys.\n",
    "* Así, puede accederse de forma análoga a un `dict`."
   ]
  },
  {
   "cell_type": "code",
   "execution_count": 15,
   "metadata": {},
   "outputs": [
    {
     "data": {
      "text/plain": [
       "38332521"
      ]
     },
     "execution_count": 15,
     "metadata": {},
     "output_type": "execute_result"
    }
   ],
   "source": [
    "population['California']"
   ]
  },
  {
   "cell_type": "markdown",
   "metadata": {},
   "source": [
    "* A diferencia de un `dict` una `Series` soporta algunas operaciones del estilo de un array, como por ejemplo, slicing:"
   ]
  },
  {
   "cell_type": "code",
   "execution_count": 14,
   "metadata": {},
   "outputs": [
    {
     "data": {
      "text/plain": [
       "Texas       26448193\n",
       "New York    19651127\n",
       "dtype: int64"
      ]
     },
     "execution_count": 14,
     "metadata": {},
     "output_type": "execute_result"
    }
   ],
   "source": [
    "population['Texas':'New York']"
   ]
  },
  {
   "cell_type": "markdown",
   "metadata": {},
   "source": [
    "## Objeto `DataFrame`"
   ]
  },
  {
   "cell_type": "markdown",
   "metadata": {},
   "source": [
    "* Otra estructura fundamental. \n",
    "* 2D, filas y columnas, representa una tabla. \n",
    "* Vamos a verlo armandolo nosotros, o trayendonos los datos desde un archivo (csv, xls, json)"
   ]
  },
  {
   "cell_type": "markdown",
   "metadata": {},
   "source": [
    "### Construyendo objetos `DataFrame`"
   ]
  },
  {
   "cell_type": "code",
   "execution_count": 19,
   "metadata": {},
   "outputs": [],
   "source": [
    "# Creación desde un diccionario de listas\n",
    "data = {\n",
    "    'Nombre': ['Juan', 'Ana', 'Carlos', 'María', 'Pedro'],\n",
    "    'Edad': [28, 34, 29, 42, 31],\n",
    "    'Ciudad': ['Madrid', 'Barcelona', 'Valencia', 'Sevilla', 'Bilbao'],\n",
    "    'Puntuación': [8.5, 9.0, 7.5, 8.0, 9.5]\n",
    "}"
   ]
  },
  {
   "cell_type": "code",
   "execution_count": null,
   "metadata": {},
   "outputs": [
    {
     "data": {
      "text/html": [
       "<div>\n",
       "<style scoped>\n",
       "    .dataframe tbody tr th:only-of-type {\n",
       "        vertical-align: middle;\n",
       "    }\n",
       "\n",
       "    .dataframe tbody tr th {\n",
       "        vertical-align: top;\n",
       "    }\n",
       "\n",
       "    .dataframe thead th {\n",
       "        text-align: right;\n",
       "    }\n",
       "</style>\n",
       "<table border=\"1\" class=\"dataframe\">\n",
       "  <thead>\n",
       "    <tr style=\"text-align: right;\">\n",
       "      <th></th>\n",
       "      <th>Nombre</th>\n",
       "      <th>Edad</th>\n",
       "      <th>Ciudad</th>\n",
       "      <th>Puntuación</th>\n",
       "    </tr>\n",
       "  </thead>\n",
       "  <tbody>\n",
       "    <tr>\n",
       "      <th>0</th>\n",
       "      <td>Juan</td>\n",
       "      <td>28</td>\n",
       "      <td>Madrid</td>\n",
       "      <td>8.5</td>\n",
       "    </tr>\n",
       "    <tr>\n",
       "      <th>1</th>\n",
       "      <td>Ana</td>\n",
       "      <td>34</td>\n",
       "      <td>Barcelona</td>\n",
       "      <td>9.0</td>\n",
       "    </tr>\n",
       "    <tr>\n",
       "      <th>2</th>\n",
       "      <td>Carlos</td>\n",
       "      <td>29</td>\n",
       "      <td>Valencia</td>\n",
       "      <td>7.5</td>\n",
       "    </tr>\n",
       "    <tr>\n",
       "      <th>3</th>\n",
       "      <td>María</td>\n",
       "      <td>42</td>\n",
       "      <td>Sevilla</td>\n",
       "      <td>8.0</td>\n",
       "    </tr>\n",
       "    <tr>\n",
       "      <th>4</th>\n",
       "      <td>Pedro</td>\n",
       "      <td>31</td>\n",
       "      <td>Bilbao</td>\n",
       "      <td>9.5</td>\n",
       "    </tr>\n",
       "  </tbody>\n",
       "</table>\n",
       "</div>"
      ],
      "text/plain": [
       "   Nombre  Edad     Ciudad  Puntuación\n",
       "0    Juan    28     Madrid         8.5\n",
       "1     Ana    34  Barcelona         9.0\n",
       "2  Carlos    29   Valencia         7.5\n",
       "3   María    42    Sevilla         8.0\n",
       "4   Pedro    31     Bilbao         9.5"
      ]
     },
     "execution_count": 21,
     "metadata": {},
     "output_type": "execute_result"
    }
   ],
   "source": [
    "df1= pd.DataFrame(data)\n",
    "df1"
   ]
  },
  {
   "cell_type": "code",
   "execution_count": 58,
   "metadata": {},
   "outputs": [
    {
     "name": "stdout",
     "output_type": "stream",
     "text": [
      "DataFrame desde lista de diccionarios:\n",
      "   Nombre  Edad     Ciudad\n",
      "0    Juan    28     Madrid\n",
      "1     Ana    34  Barcelona\n",
      "2  Carlos    29   Valencia\n"
     ]
    },
    {
     "data": {
      "text/html": [
       "<div>\n",
       "<style scoped>\n",
       "    .dataframe tbody tr th:only-of-type {\n",
       "        vertical-align: middle;\n",
       "    }\n",
       "\n",
       "    .dataframe tbody tr th {\n",
       "        vertical-align: top;\n",
       "    }\n",
       "\n",
       "    .dataframe thead th {\n",
       "        text-align: right;\n",
       "    }\n",
       "</style>\n",
       "<table border=\"1\" class=\"dataframe\">\n",
       "  <thead>\n",
       "    <tr style=\"text-align: right;\">\n",
       "      <th></th>\n",
       "      <th>Nombre</th>\n",
       "      <th>Edad</th>\n",
       "      <th>Ciudad</th>\n",
       "    </tr>\n",
       "  </thead>\n",
       "  <tbody>\n",
       "    <tr>\n",
       "      <th>0</th>\n",
       "      <td>Juan</td>\n",
       "      <td>28</td>\n",
       "      <td>Madrid</td>\n",
       "    </tr>\n",
       "    <tr>\n",
       "      <th>1</th>\n",
       "      <td>Ana</td>\n",
       "      <td>34</td>\n",
       "      <td>Barcelona</td>\n",
       "    </tr>\n",
       "    <tr>\n",
       "      <th>2</th>\n",
       "      <td>Carlos</td>\n",
       "      <td>29</td>\n",
       "      <td>Valencia</td>\n",
       "    </tr>\n",
       "  </tbody>\n",
       "</table>\n",
       "</div>"
      ],
      "text/plain": [
       "   Nombre  Edad     Ciudad\n",
       "0    Juan    28     Madrid\n",
       "1     Ana    34  Barcelona\n",
       "2  Carlos    29   Valencia"
      ]
     },
     "execution_count": 58,
     "metadata": {},
     "output_type": "execute_result"
    }
   ],
   "source": [
    "# Creación desde una lista de diccionarios\n",
    "personas = [\n",
    "    {'Nombre': 'Juan', 'Edad': 28, 'Ciudad': 'Madrid'},\n",
    "    {'Nombre': 'Ana', 'Edad': 34, 'Ciudad': 'Barcelona'},\n",
    "    {'Nombre': 'Carlos', 'Edad': 29, 'Ciudad': 'Valencia'}\n",
    "]\n",
    "\n",
    "df = pd.DataFrame(personas)\n",
    "print(\"DataFrame desde lista de diccionarios:\")\n",
    "print(df)\n",
    "df"
   ]
  },
  {
   "cell_type": "code",
   "execution_count": null,
   "metadata": {},
   "outputs": [],
   "source": [
    "# Información general\n",
    "df.info()  # Muestra información sobre el DataFrame, como columnas, tipos de datos y valores no nulos.   dtypes\n",
    "df.describe()  # Estadísticas descriptivas para columnas numéricas.\n",
    "df.shape  # Dimensiones del DataFrame (filas, columnas).\n",
    "df.columns  # Nombres de las columnas.\n",
    "df.index  # Índices del DataFrame.\n",
    "\n",
    "# Selección y acceso\n",
    "df.head(n)  # Muestra las primeras 'n' filas (por defecto 5).\n",
    "df.tail(n)  # Muestra las últimas 'n' filas (por defecto 5).\n",
    "df['columna']  # Acceso a una columna.\n",
    "df[['columna1', 'columna2']]  # Acceso a múltiples columnas.\n",
    "df.loc[fila, columna]  # Selección por etiquetas.\n",
    "df.iloc[fila, columna]  # Selección por posición/indices\n"
   ]
  },
  {
   "cell_type": "code",
   "execution_count": 40,
   "metadata": {},
   "outputs": [
    {
     "data": {
      "text/plain": [
       "'Ana'"
      ]
     },
     "execution_count": 40,
     "metadata": {},
     "output_type": "execute_result"
    }
   ],
   "source": [
    "df.iloc[1,0]\n"
   ]
  },
  {
   "cell_type": "code",
   "execution_count": 49,
   "metadata": {},
   "outputs": [
    {
     "data": {
      "text/plain": [
       "'Juan'"
      ]
     },
     "execution_count": 49,
     "metadata": {},
     "output_type": "execute_result"
    }
   ],
   "source": [
    "df.loc[0, 'Nombre']"
   ]
  },
  {
   "cell_type": "markdown",
   "metadata": {},
   "source": [
    "Funciones basicas de pandas"
   ]
  },
  {
   "cell_type": "code",
   "execution_count": null,
   "metadata": {},
   "outputs": [],
   "source": [
    "# Operaciones básicas\n",
    "df.sort_values(by='columna', ascending=True)  # Ordenar por una columna.\n",
    "df.drop('columna', axis=1)  # Eliminar una columna.\n",
    "df.drop(index, axis=0)  # Eliminar una fila.\n",
    "df['nueva_columna'] = valores  # Crear o modificar una columna.\n",
    "df.isnull()  # Identificar valores nulos.\n",
    "df.fillna(valor)  # Rellenar valores nulos.\n",
    "df.dropna()  # Eliminar filas con valores nulos.\n",
    "\n",
    "# Estadísticas\n",
    "df['columna'].unique()  # Valores únicos en una columna.\n",
    "df['columna'].value_counts()  # Conteo de valores únicos.\n",
    "df.corr()  # Correlación entre columnas numéricas."
   ]
  },
  {
   "cell_type": "markdown",
   "metadata": {},
   "source": [
    "Otro ejemplo desde un diccionario de listas"
   ]
  },
  {
   "cell_type": "code",
   "execution_count": 65,
   "metadata": {},
   "outputs": [
    {
     "data": {
      "text/html": [
       "<div>\n",
       "<style scoped>\n",
       "    .dataframe tbody tr th:only-of-type {\n",
       "        vertical-align: middle;\n",
       "    }\n",
       "\n",
       "    .dataframe tbody tr th {\n",
       "        vertical-align: top;\n",
       "    }\n",
       "\n",
       "    .dataframe thead th {\n",
       "        text-align: right;\n",
       "    }\n",
       "</style>\n",
       "<table border=\"1\" class=\"dataframe\">\n",
       "  <thead>\n",
       "    <tr style=\"text-align: right;\">\n",
       "      <th></th>\n",
       "      <th>cliente</th>\n",
       "      <th>edad</th>\n",
       "      <th>saldo</th>\n",
       "      <th>creditos</th>\n",
       "    </tr>\n",
       "  </thead>\n",
       "  <tbody>\n",
       "    <tr>\n",
       "      <th>0</th>\n",
       "      <td>Ana</td>\n",
       "      <td>25</td>\n",
       "      <td>10000.0</td>\n",
       "      <td>1</td>\n",
       "    </tr>\n",
       "    <tr>\n",
       "      <th>1</th>\n",
       "      <td>Luis</td>\n",
       "      <td>40</td>\n",
       "      <td>50000.0</td>\n",
       "      <td>2</td>\n",
       "    </tr>\n",
       "    <tr>\n",
       "      <th>2</th>\n",
       "      <td>Carla</td>\n",
       "      <td>35</td>\n",
       "      <td>30000.0</td>\n",
       "      <td>1</td>\n",
       "    </tr>\n",
       "    <tr>\n",
       "      <th>3</th>\n",
       "      <td>Pedro</td>\n",
       "      <td>50</td>\n",
       "      <td>NaN</td>\n",
       "      <td>3</td>\n",
       "    </tr>\n",
       "    <tr>\n",
       "      <th>4</th>\n",
       "      <td>Lucía</td>\n",
       "      <td>28</td>\n",
       "      <td>15000.0</td>\n",
       "      <td>2</td>\n",
       "    </tr>\n",
       "    <tr>\n",
       "      <th>5</th>\n",
       "      <td>Luis</td>\n",
       "      <td>40</td>\n",
       "      <td>50000.0</td>\n",
       "      <td>2</td>\n",
       "    </tr>\n",
       "  </tbody>\n",
       "</table>\n",
       "</div>"
      ],
      "text/plain": [
       "  cliente  edad    saldo  creditos\n",
       "0     Ana    25  10000.0         1\n",
       "1    Luis    40  50000.0         2\n",
       "2   Carla    35  30000.0         1\n",
       "3   Pedro    50      NaN         3\n",
       "4   Lucía    28  15000.0         2\n",
       "5    Luis    40  50000.0         2"
      ]
     },
     "execution_count": 65,
     "metadata": {},
     "output_type": "execute_result"
    }
   ],
   "source": [
    "datos = {\n",
    "    'cliente': ['Ana', 'Luis', 'Carla', 'Pedro', 'Lucía', 'Luis'],\n",
    "    'edad': [25, 40, 35, 50, 28, 40],\n",
    "    'saldo': [10000, 50000, 30000, None, 15000, 50000],\n",
    "    'creditos': [1, 2, 1, 3, 2, 2]\n",
    "}\n",
    "\n",
    "df2 = pd.DataFrame(datos)\n",
    "df2"
   ]
  },
  {
   "cell_type": "code",
   "execution_count": null,
   "metadata": {},
   "outputs": [
    {
     "data": {
      "text/html": [
       "<div>\n",
       "<style scoped>\n",
       "    .dataframe tbody tr th:only-of-type {\n",
       "        vertical-align: middle;\n",
       "    }\n",
       "\n",
       "    .dataframe tbody tr th {\n",
       "        vertical-align: top;\n",
       "    }\n",
       "\n",
       "    .dataframe thead th {\n",
       "        text-align: right;\n",
       "    }\n",
       "</style>\n",
       "<table border=\"1\" class=\"dataframe\">\n",
       "  <thead>\n",
       "    <tr style=\"text-align: right;\">\n",
       "      <th></th>\n",
       "      <th>cliente</th>\n",
       "      <th>edad</th>\n",
       "      <th>saldo</th>\n",
       "      <th>creditos</th>\n",
       "    </tr>\n",
       "  </thead>\n",
       "  <tbody>\n",
       "    <tr>\n",
       "      <th>0</th>\n",
       "      <td>Ana</td>\n",
       "      <td>25</td>\n",
       "      <td>10000.0</td>\n",
       "      <td>1</td>\n",
       "    </tr>\n",
       "    <tr>\n",
       "      <th>4</th>\n",
       "      <td>Lucía</td>\n",
       "      <td>28</td>\n",
       "      <td>15000.0</td>\n",
       "      <td>2</td>\n",
       "    </tr>\n",
       "    <tr>\n",
       "      <th>2</th>\n",
       "      <td>Carla</td>\n",
       "      <td>35</td>\n",
       "      <td>30000.0</td>\n",
       "      <td>1</td>\n",
       "    </tr>\n",
       "    <tr>\n",
       "      <th>1</th>\n",
       "      <td>Luis</td>\n",
       "      <td>40</td>\n",
       "      <td>50000.0</td>\n",
       "      <td>2</td>\n",
       "    </tr>\n",
       "    <tr>\n",
       "      <th>5</th>\n",
       "      <td>Luis</td>\n",
       "      <td>40</td>\n",
       "      <td>50000.0</td>\n",
       "      <td>2</td>\n",
       "    </tr>\n",
       "    <tr>\n",
       "      <th>3</th>\n",
       "      <td>Pedro</td>\n",
       "      <td>50</td>\n",
       "      <td>NaN</td>\n",
       "      <td>3</td>\n",
       "    </tr>\n",
       "  </tbody>\n",
       "</table>\n",
       "</div>"
      ],
      "text/plain": [
       "  cliente  edad    saldo  creditos\n",
       "0     Ana    25  10000.0         1\n",
       "4   Lucía    28  15000.0         2\n",
       "2   Carla    35  30000.0         1\n",
       "1    Luis    40  50000.0         2\n",
       "5    Luis    40  50000.0         2\n",
       "3   Pedro    50      NaN         3"
      ]
     },
     "execution_count": 51,
     "metadata": {},
     "output_type": "execute_result"
    }
   ],
   "source": [
    "# Ordenar por saldo\n",
    "df2.sort_values(by='saldo', ascending=True)"
   ]
  },
  {
   "cell_type": "code",
   "execution_count": null,
   "metadata": {},
   "outputs": [
    {
     "data": {
      "text/html": [
       "<div>\n",
       "<style scoped>\n",
       "    .dataframe tbody tr th:only-of-type {\n",
       "        vertical-align: middle;\n",
       "    }\n",
       "\n",
       "    .dataframe tbody tr th {\n",
       "        vertical-align: top;\n",
       "    }\n",
       "\n",
       "    .dataframe thead th {\n",
       "        text-align: right;\n",
       "    }\n",
       "</style>\n",
       "<table border=\"1\" class=\"dataframe\">\n",
       "  <thead>\n",
       "    <tr style=\"text-align: right;\">\n",
       "      <th></th>\n",
       "      <th>cliente</th>\n",
       "      <th>edad</th>\n",
       "      <th>saldo</th>\n",
       "    </tr>\n",
       "  </thead>\n",
       "  <tbody>\n",
       "    <tr>\n",
       "      <th>0</th>\n",
       "      <td>Ana</td>\n",
       "      <td>25</td>\n",
       "      <td>10000.0</td>\n",
       "    </tr>\n",
       "    <tr>\n",
       "      <th>1</th>\n",
       "      <td>Luis</td>\n",
       "      <td>40</td>\n",
       "      <td>50000.0</td>\n",
       "    </tr>\n",
       "    <tr>\n",
       "      <th>2</th>\n",
       "      <td>Carla</td>\n",
       "      <td>35</td>\n",
       "      <td>30000.0</td>\n",
       "    </tr>\n",
       "    <tr>\n",
       "      <th>3</th>\n",
       "      <td>Pedro</td>\n",
       "      <td>50</td>\n",
       "      <td>NaN</td>\n",
       "    </tr>\n",
       "    <tr>\n",
       "      <th>4</th>\n",
       "      <td>Lucía</td>\n",
       "      <td>28</td>\n",
       "      <td>15000.0</td>\n",
       "    </tr>\n",
       "    <tr>\n",
       "      <th>5</th>\n",
       "      <td>Luis</td>\n",
       "      <td>40</td>\n",
       "      <td>50000.0</td>\n",
       "    </tr>\n",
       "  </tbody>\n",
       "</table>\n",
       "</div>"
      ],
      "text/plain": [
       "  cliente  edad    saldo\n",
       "0     Ana    25  10000.0\n",
       "1    Luis    40  50000.0\n",
       "2   Carla    35  30000.0\n",
       "3   Pedro    50      NaN\n",
       "4   Lucía    28  15000.0\n",
       "5    Luis    40  50000.0"
      ]
     },
     "execution_count": 55,
     "metadata": {},
     "output_type": "execute_result"
    }
   ],
   "source": [
    "# Eliminar la columna 'creditos'\n",
    "df2.drop('creditos', axis=1)"
   ]
  },
  {
   "cell_type": "code",
   "execution_count": 67,
   "metadata": {},
   "outputs": [
    {
     "data": {
      "text/html": [
       "<div>\n",
       "<style scoped>\n",
       "    .dataframe tbody tr th:only-of-type {\n",
       "        vertical-align: middle;\n",
       "    }\n",
       "\n",
       "    .dataframe tbody tr th {\n",
       "        vertical-align: top;\n",
       "    }\n",
       "\n",
       "    .dataframe thead th {\n",
       "        text-align: right;\n",
       "    }\n",
       "</style>\n",
       "<table border=\"1\" class=\"dataframe\">\n",
       "  <thead>\n",
       "    <tr style=\"text-align: right;\">\n",
       "      <th></th>\n",
       "      <th>cliente</th>\n",
       "      <th>edad</th>\n",
       "      <th>saldo</th>\n",
       "      <th>creditos</th>\n",
       "    </tr>\n",
       "  </thead>\n",
       "  <tbody>\n",
       "    <tr>\n",
       "      <th>0</th>\n",
       "      <td>Ana</td>\n",
       "      <td>25</td>\n",
       "      <td>10000.0</td>\n",
       "      <td>1</td>\n",
       "    </tr>\n",
       "    <tr>\n",
       "      <th>1</th>\n",
       "      <td>Luis</td>\n",
       "      <td>40</td>\n",
       "      <td>50000.0</td>\n",
       "      <td>2</td>\n",
       "    </tr>\n",
       "    <tr>\n",
       "      <th>2</th>\n",
       "      <td>Carla</td>\n",
       "      <td>35</td>\n",
       "      <td>30000.0</td>\n",
       "      <td>1</td>\n",
       "    </tr>\n",
       "    <tr>\n",
       "      <th>4</th>\n",
       "      <td>Lucía</td>\n",
       "      <td>28</td>\n",
       "      <td>15000.0</td>\n",
       "      <td>2</td>\n",
       "    </tr>\n",
       "    <tr>\n",
       "      <th>5</th>\n",
       "      <td>Luis</td>\n",
       "      <td>40</td>\n",
       "      <td>50000.0</td>\n",
       "      <td>2</td>\n",
       "    </tr>\n",
       "  </tbody>\n",
       "</table>\n",
       "</div>"
      ],
      "text/plain": [
       "  cliente  edad    saldo  creditos\n",
       "0     Ana    25  10000.0         1\n",
       "1    Luis    40  50000.0         2\n",
       "2   Carla    35  30000.0         1\n",
       "4   Lucía    28  15000.0         2\n",
       "5    Luis    40  50000.0         2"
      ]
     },
     "execution_count": 67,
     "metadata": {},
     "output_type": "execute_result"
    }
   ],
   "source": [
    "# Eliminar la fila con índice 3\n",
    "df2.drop(3, axis=0)"
   ]
  },
  {
   "cell_type": "code",
   "execution_count": 68,
   "metadata": {},
   "outputs": [],
   "source": [
    "# Crear nueva columna \"saldo_promedio\" como saldo dividido por edad\n",
    "df2['saldo_promedio'] = df2['saldo'] / df2['edad']"
   ]
  },
  {
   "cell_type": "code",
   "execution_count": 69,
   "metadata": {},
   "outputs": [
    {
     "data": {
      "text/html": [
       "<div>\n",
       "<style scoped>\n",
       "    .dataframe tbody tr th:only-of-type {\n",
       "        vertical-align: middle;\n",
       "    }\n",
       "\n",
       "    .dataframe tbody tr th {\n",
       "        vertical-align: top;\n",
       "    }\n",
       "\n",
       "    .dataframe thead th {\n",
       "        text-align: right;\n",
       "    }\n",
       "</style>\n",
       "<table border=\"1\" class=\"dataframe\">\n",
       "  <thead>\n",
       "    <tr style=\"text-align: right;\">\n",
       "      <th></th>\n",
       "      <th>cliente</th>\n",
       "      <th>edad</th>\n",
       "      <th>saldo</th>\n",
       "      <th>creditos</th>\n",
       "      <th>saldo_promedio</th>\n",
       "    </tr>\n",
       "  </thead>\n",
       "  <tbody>\n",
       "    <tr>\n",
       "      <th>0</th>\n",
       "      <td>Ana</td>\n",
       "      <td>25</td>\n",
       "      <td>10000.0</td>\n",
       "      <td>1</td>\n",
       "      <td>400.000000</td>\n",
       "    </tr>\n",
       "    <tr>\n",
       "      <th>1</th>\n",
       "      <td>Luis</td>\n",
       "      <td>40</td>\n",
       "      <td>50000.0</td>\n",
       "      <td>2</td>\n",
       "      <td>1250.000000</td>\n",
       "    </tr>\n",
       "    <tr>\n",
       "      <th>2</th>\n",
       "      <td>Carla</td>\n",
       "      <td>35</td>\n",
       "      <td>30000.0</td>\n",
       "      <td>1</td>\n",
       "      <td>857.142857</td>\n",
       "    </tr>\n",
       "    <tr>\n",
       "      <th>3</th>\n",
       "      <td>Pedro</td>\n",
       "      <td>50</td>\n",
       "      <td>NaN</td>\n",
       "      <td>3</td>\n",
       "      <td>NaN</td>\n",
       "    </tr>\n",
       "    <tr>\n",
       "      <th>4</th>\n",
       "      <td>Lucía</td>\n",
       "      <td>28</td>\n",
       "      <td>15000.0</td>\n",
       "      <td>2</td>\n",
       "      <td>535.714286</td>\n",
       "    </tr>\n",
       "    <tr>\n",
       "      <th>5</th>\n",
       "      <td>Luis</td>\n",
       "      <td>40</td>\n",
       "      <td>50000.0</td>\n",
       "      <td>2</td>\n",
       "      <td>1250.000000</td>\n",
       "    </tr>\n",
       "  </tbody>\n",
       "</table>\n",
       "</div>"
      ],
      "text/plain": [
       "  cliente  edad    saldo  creditos  saldo_promedio\n",
       "0     Ana    25  10000.0         1      400.000000\n",
       "1    Luis    40  50000.0         2     1250.000000\n",
       "2   Carla    35  30000.0         1      857.142857\n",
       "3   Pedro    50      NaN         3             NaN\n",
       "4   Lucía    28  15000.0         2      535.714286\n",
       "5    Luis    40  50000.0         2     1250.000000"
      ]
     },
     "execution_count": 69,
     "metadata": {},
     "output_type": "execute_result"
    }
   ],
   "source": [
    "df2"
   ]
  },
  {
   "cell_type": "code",
   "execution_count": 71,
   "metadata": {},
   "outputs": [
    {
     "data": {
      "text/html": [
       "<div>\n",
       "<style scoped>\n",
       "    .dataframe tbody tr th:only-of-type {\n",
       "        vertical-align: middle;\n",
       "    }\n",
       "\n",
       "    .dataframe tbody tr th {\n",
       "        vertical-align: top;\n",
       "    }\n",
       "\n",
       "    .dataframe thead th {\n",
       "        text-align: right;\n",
       "    }\n",
       "</style>\n",
       "<table border=\"1\" class=\"dataframe\">\n",
       "  <thead>\n",
       "    <tr style=\"text-align: right;\">\n",
       "      <th></th>\n",
       "      <th>cliente</th>\n",
       "      <th>edad</th>\n",
       "      <th>saldo</th>\n",
       "      <th>creditos</th>\n",
       "      <th>saldo_promedio</th>\n",
       "    </tr>\n",
       "  </thead>\n",
       "  <tbody>\n",
       "    <tr>\n",
       "      <th>0</th>\n",
       "      <td>False</td>\n",
       "      <td>False</td>\n",
       "      <td>False</td>\n",
       "      <td>False</td>\n",
       "      <td>False</td>\n",
       "    </tr>\n",
       "    <tr>\n",
       "      <th>1</th>\n",
       "      <td>False</td>\n",
       "      <td>False</td>\n",
       "      <td>False</td>\n",
       "      <td>False</td>\n",
       "      <td>False</td>\n",
       "    </tr>\n",
       "    <tr>\n",
       "      <th>2</th>\n",
       "      <td>False</td>\n",
       "      <td>False</td>\n",
       "      <td>False</td>\n",
       "      <td>False</td>\n",
       "      <td>False</td>\n",
       "    </tr>\n",
       "    <tr>\n",
       "      <th>3</th>\n",
       "      <td>False</td>\n",
       "      <td>False</td>\n",
       "      <td>True</td>\n",
       "      <td>False</td>\n",
       "      <td>True</td>\n",
       "    </tr>\n",
       "    <tr>\n",
       "      <th>4</th>\n",
       "      <td>False</td>\n",
       "      <td>False</td>\n",
       "      <td>False</td>\n",
       "      <td>False</td>\n",
       "      <td>False</td>\n",
       "    </tr>\n",
       "    <tr>\n",
       "      <th>5</th>\n",
       "      <td>False</td>\n",
       "      <td>False</td>\n",
       "      <td>False</td>\n",
       "      <td>False</td>\n",
       "      <td>False</td>\n",
       "    </tr>\n",
       "  </tbody>\n",
       "</table>\n",
       "</div>"
      ],
      "text/plain": [
       "   cliente   edad  saldo  creditos  saldo_promedio\n",
       "0    False  False  False     False           False\n",
       "1    False  False  False     False           False\n",
       "2    False  False  False     False           False\n",
       "3    False  False   True     False            True\n",
       "4    False  False  False     False           False\n",
       "5    False  False  False     False           False"
      ]
     },
     "execution_count": 71,
     "metadata": {},
     "output_type": "execute_result"
    }
   ],
   "source": [
    "# Identificar valores nulos\n",
    "df2.isnull()"
   ]
  },
  {
   "cell_type": "code",
   "execution_count": 72,
   "metadata": {},
   "outputs": [
    {
     "data": {
      "text/html": [
       "<div>\n",
       "<style scoped>\n",
       "    .dataframe tbody tr th:only-of-type {\n",
       "        vertical-align: middle;\n",
       "    }\n",
       "\n",
       "    .dataframe tbody tr th {\n",
       "        vertical-align: top;\n",
       "    }\n",
       "\n",
       "    .dataframe thead th {\n",
       "        text-align: right;\n",
       "    }\n",
       "</style>\n",
       "<table border=\"1\" class=\"dataframe\">\n",
       "  <thead>\n",
       "    <tr style=\"text-align: right;\">\n",
       "      <th></th>\n",
       "      <th>cliente</th>\n",
       "      <th>edad</th>\n",
       "      <th>saldo</th>\n",
       "      <th>creditos</th>\n",
       "      <th>saldo_promedio</th>\n",
       "    </tr>\n",
       "  </thead>\n",
       "  <tbody>\n",
       "    <tr>\n",
       "      <th>0</th>\n",
       "      <td>Ana</td>\n",
       "      <td>25</td>\n",
       "      <td>10000.0</td>\n",
       "      <td>1</td>\n",
       "      <td>400.000000</td>\n",
       "    </tr>\n",
       "    <tr>\n",
       "      <th>1</th>\n",
       "      <td>Luis</td>\n",
       "      <td>40</td>\n",
       "      <td>50000.0</td>\n",
       "      <td>2</td>\n",
       "      <td>1250.000000</td>\n",
       "    </tr>\n",
       "    <tr>\n",
       "      <th>2</th>\n",
       "      <td>Carla</td>\n",
       "      <td>35</td>\n",
       "      <td>30000.0</td>\n",
       "      <td>1</td>\n",
       "      <td>857.142857</td>\n",
       "    </tr>\n",
       "    <tr>\n",
       "      <th>3</th>\n",
       "      <td>Pedro</td>\n",
       "      <td>50</td>\n",
       "      <td>0.0</td>\n",
       "      <td>3</td>\n",
       "      <td>0.000000</td>\n",
       "    </tr>\n",
       "    <tr>\n",
       "      <th>4</th>\n",
       "      <td>Lucía</td>\n",
       "      <td>28</td>\n",
       "      <td>15000.0</td>\n",
       "      <td>2</td>\n",
       "      <td>535.714286</td>\n",
       "    </tr>\n",
       "    <tr>\n",
       "      <th>5</th>\n",
       "      <td>Luis</td>\n",
       "      <td>40</td>\n",
       "      <td>50000.0</td>\n",
       "      <td>2</td>\n",
       "      <td>1250.000000</td>\n",
       "    </tr>\n",
       "  </tbody>\n",
       "</table>\n",
       "</div>"
      ],
      "text/plain": [
       "  cliente  edad    saldo  creditos  saldo_promedio\n",
       "0     Ana    25  10000.0         1      400.000000\n",
       "1    Luis    40  50000.0         2     1250.000000\n",
       "2   Carla    35  30000.0         1      857.142857\n",
       "3   Pedro    50      0.0         3        0.000000\n",
       "4   Lucía    28  15000.0         2      535.714286\n",
       "5    Luis    40  50000.0         2     1250.000000"
      ]
     },
     "execution_count": 72,
     "metadata": {},
     "output_type": "execute_result"
    }
   ],
   "source": [
    "# Rellenar nulos con 0\n",
    "df2.fillna(0)"
   ]
  },
  {
   "cell_type": "code",
   "execution_count": null,
   "metadata": {},
   "outputs": [
    {
     "data": {
      "text/html": [
       "<div>\n",
       "<style scoped>\n",
       "    .dataframe tbody tr th:only-of-type {\n",
       "        vertical-align: middle;\n",
       "    }\n",
       "\n",
       "    .dataframe tbody tr th {\n",
       "        vertical-align: top;\n",
       "    }\n",
       "\n",
       "    .dataframe thead th {\n",
       "        text-align: right;\n",
       "    }\n",
       "</style>\n",
       "<table border=\"1\" class=\"dataframe\">\n",
       "  <thead>\n",
       "    <tr style=\"text-align: right;\">\n",
       "      <th></th>\n",
       "      <th>cliente</th>\n",
       "      <th>edad</th>\n",
       "      <th>saldo</th>\n",
       "      <th>creditos</th>\n",
       "      <th>saldo_promedio</th>\n",
       "    </tr>\n",
       "  </thead>\n",
       "  <tbody>\n",
       "    <tr>\n",
       "      <th>0</th>\n",
       "      <td>Ana</td>\n",
       "      <td>25</td>\n",
       "      <td>10000.0</td>\n",
       "      <td>1</td>\n",
       "      <td>400.000000</td>\n",
       "    </tr>\n",
       "    <tr>\n",
       "      <th>1</th>\n",
       "      <td>Luis</td>\n",
       "      <td>40</td>\n",
       "      <td>50000.0</td>\n",
       "      <td>2</td>\n",
       "      <td>1250.000000</td>\n",
       "    </tr>\n",
       "    <tr>\n",
       "      <th>2</th>\n",
       "      <td>Carla</td>\n",
       "      <td>35</td>\n",
       "      <td>30000.0</td>\n",
       "      <td>1</td>\n",
       "      <td>857.142857</td>\n",
       "    </tr>\n",
       "    <tr>\n",
       "      <th>4</th>\n",
       "      <td>Lucía</td>\n",
       "      <td>28</td>\n",
       "      <td>15000.0</td>\n",
       "      <td>2</td>\n",
       "      <td>535.714286</td>\n",
       "    </tr>\n",
       "    <tr>\n",
       "      <th>5</th>\n",
       "      <td>Luis</td>\n",
       "      <td>40</td>\n",
       "      <td>50000.0</td>\n",
       "      <td>2</td>\n",
       "      <td>1250.000000</td>\n",
       "    </tr>\n",
       "  </tbody>\n",
       "</table>\n",
       "</div>"
      ],
      "text/plain": [
       "  cliente  edad    saldo  creditos  saldo_promedio\n",
       "0     Ana    25  10000.0         1      400.000000\n",
       "1    Luis    40  50000.0         2     1250.000000\n",
       "2   Carla    35  30000.0         1      857.142857\n",
       "4   Lucía    28  15000.0         2      535.714286\n",
       "5    Luis    40  50000.0         2     1250.000000"
      ]
     },
     "execution_count": 73,
     "metadata": {},
     "output_type": "execute_result"
    }
   ],
   "source": [
    "# Eliminar filas con nulos\n",
    "df2.dropna()   #inplace=True"
   ]
  },
  {
   "cell_type": "code",
   "execution_count": 81,
   "metadata": {},
   "outputs": [
    {
     "data": {
      "text/html": [
       "<div>\n",
       "<style scoped>\n",
       "    .dataframe tbody tr th:only-of-type {\n",
       "        vertical-align: middle;\n",
       "    }\n",
       "\n",
       "    .dataframe tbody tr th {\n",
       "        vertical-align: top;\n",
       "    }\n",
       "\n",
       "    .dataframe thead th {\n",
       "        text-align: right;\n",
       "    }\n",
       "</style>\n",
       "<table border=\"1\" class=\"dataframe\">\n",
       "  <thead>\n",
       "    <tr style=\"text-align: right;\">\n",
       "      <th></th>\n",
       "      <th>cliente</th>\n",
       "      <th>edad</th>\n",
       "      <th>saldo</th>\n",
       "      <th>creditos</th>\n",
       "      <th>saldo_promedio</th>\n",
       "    </tr>\n",
       "  </thead>\n",
       "  <tbody>\n",
       "    <tr>\n",
       "      <th>0</th>\n",
       "      <td>Ana</td>\n",
       "      <td>25</td>\n",
       "      <td>10000.0</td>\n",
       "      <td>1</td>\n",
       "      <td>400.000000</td>\n",
       "    </tr>\n",
       "    <tr>\n",
       "      <th>1</th>\n",
       "      <td>Luis</td>\n",
       "      <td>40</td>\n",
       "      <td>50000.0</td>\n",
       "      <td>2</td>\n",
       "      <td>1250.000000</td>\n",
       "    </tr>\n",
       "    <tr>\n",
       "      <th>2</th>\n",
       "      <td>Carla</td>\n",
       "      <td>35</td>\n",
       "      <td>30000.0</td>\n",
       "      <td>1</td>\n",
       "      <td>857.142857</td>\n",
       "    </tr>\n",
       "    <tr>\n",
       "      <th>3</th>\n",
       "      <td>Pedro</td>\n",
       "      <td>50</td>\n",
       "      <td>NaN</td>\n",
       "      <td>3</td>\n",
       "      <td>NaN</td>\n",
       "    </tr>\n",
       "    <tr>\n",
       "      <th>4</th>\n",
       "      <td>Lucía</td>\n",
       "      <td>28</td>\n",
       "      <td>15000.0</td>\n",
       "      <td>2</td>\n",
       "      <td>535.714286</td>\n",
       "    </tr>\n",
       "    <tr>\n",
       "      <th>5</th>\n",
       "      <td>Luis</td>\n",
       "      <td>40</td>\n",
       "      <td>50000.0</td>\n",
       "      <td>2</td>\n",
       "      <td>1250.000000</td>\n",
       "    </tr>\n",
       "  </tbody>\n",
       "</table>\n",
       "</div>"
      ],
      "text/plain": [
       "  cliente  edad    saldo  creditos  saldo_promedio\n",
       "0     Ana    25  10000.0         1      400.000000\n",
       "1    Luis    40  50000.0         2     1250.000000\n",
       "2   Carla    35  30000.0         1      857.142857\n",
       "3   Pedro    50      NaN         3             NaN\n",
       "4   Lucía    28  15000.0         2      535.714286\n",
       "5    Luis    40  50000.0         2     1250.000000"
      ]
     },
     "execution_count": 81,
     "metadata": {},
     "output_type": "execute_result"
    }
   ],
   "source": [
    "df2"
   ]
  },
  {
   "cell_type": "code",
   "execution_count": 76,
   "metadata": {},
   "outputs": [
    {
     "data": {
      "text/plain": [
       "cliente            object\n",
       "edad                int64\n",
       "saldo             float64\n",
       "creditos            int64\n",
       "saldo_promedio    float64\n",
       "dtype: object"
      ]
     },
     "execution_count": 76,
     "metadata": {},
     "output_type": "execute_result"
    }
   ],
   "source": [
    "df2.dtypes"
   ]
  },
  {
   "cell_type": "code",
   "execution_count": 78,
   "metadata": {},
   "outputs": [
    {
     "data": {
      "text/plain": [
       "array(['Ana', 'Luis', 'Carla', 'Pedro', 'Lucía'], dtype=object)"
      ]
     },
     "execution_count": 78,
     "metadata": {},
     "output_type": "execute_result"
    }
   ],
   "source": [
    "df2['cliente'].unique()         # Nombres únicos"
   ]
  },
  {
   "cell_type": "code",
   "execution_count": 80,
   "metadata": {},
   "outputs": [
    {
     "data": {
      "text/plain": [
       "cliente\n",
       "Luis     2\n",
       "Ana      1\n",
       "Carla    1\n",
       "Pedro    1\n",
       "Lucía    1\n",
       "Name: count, dtype: int64"
      ]
     },
     "execution_count": 80,
     "metadata": {},
     "output_type": "execute_result"
    }
   ],
   "source": [
    "df2['cliente'].value_counts() "
   ]
  },
  {
   "cell_type": "code",
   "execution_count": null,
   "metadata": {},
   "outputs": [
    {
     "data": {
      "text/plain": [
       "np.int64(1)"
      ]
     },
     "execution_count": 85,
     "metadata": {},
     "output_type": "execute_result"
    }
   ],
   "source": [
    "# Ver filas duplicadas completas\n",
    "df2.duplicated()        #.sum() cuantos hay"
   ]
  },
  {
   "cell_type": "code",
   "execution_count": 86,
   "metadata": {},
   "outputs": [
    {
     "data": {
      "text/html": [
       "<div>\n",
       "<style scoped>\n",
       "    .dataframe tbody tr th:only-of-type {\n",
       "        vertical-align: middle;\n",
       "    }\n",
       "\n",
       "    .dataframe tbody tr th {\n",
       "        vertical-align: top;\n",
       "    }\n",
       "\n",
       "    .dataframe thead th {\n",
       "        text-align: right;\n",
       "    }\n",
       "</style>\n",
       "<table border=\"1\" class=\"dataframe\">\n",
       "  <thead>\n",
       "    <tr style=\"text-align: right;\">\n",
       "      <th></th>\n",
       "      <th>cliente</th>\n",
       "      <th>edad</th>\n",
       "      <th>saldo</th>\n",
       "      <th>creditos</th>\n",
       "      <th>saldo_promedio</th>\n",
       "    </tr>\n",
       "  </thead>\n",
       "  <tbody>\n",
       "    <tr>\n",
       "      <th>5</th>\n",
       "      <td>Luis</td>\n",
       "      <td>40</td>\n",
       "      <td>50000.0</td>\n",
       "      <td>2</td>\n",
       "      <td>1250.0</td>\n",
       "    </tr>\n",
       "  </tbody>\n",
       "</table>\n",
       "</div>"
      ],
      "text/plain": [
       "  cliente  edad    saldo  creditos  saldo_promedio\n",
       "5    Luis    40  50000.0         2          1250.0"
      ]
     },
     "execution_count": 86,
     "metadata": {},
     "output_type": "execute_result"
    }
   ],
   "source": [
    "# Ver solo las filas duplicadas\n",
    "df2[df2.duplicated()]"
   ]
  },
  {
   "cell_type": "code",
   "execution_count": null,
   "metadata": {},
   "outputs": [
    {
     "data": {
      "text/html": [
       "<div>\n",
       "<style scoped>\n",
       "    .dataframe tbody tr th:only-of-type {\n",
       "        vertical-align: middle;\n",
       "    }\n",
       "\n",
       "    .dataframe tbody tr th {\n",
       "        vertical-align: top;\n",
       "    }\n",
       "\n",
       "    .dataframe thead th {\n",
       "        text-align: right;\n",
       "    }\n",
       "</style>\n",
       "<table border=\"1\" class=\"dataframe\">\n",
       "  <thead>\n",
       "    <tr style=\"text-align: right;\">\n",
       "      <th></th>\n",
       "      <th>cliente</th>\n",
       "      <th>edad</th>\n",
       "      <th>saldo</th>\n",
       "      <th>creditos</th>\n",
       "      <th>saldo_promedio</th>\n",
       "    </tr>\n",
       "  </thead>\n",
       "  <tbody>\n",
       "    <tr>\n",
       "      <th>0</th>\n",
       "      <td>Ana</td>\n",
       "      <td>25</td>\n",
       "      <td>10000.0</td>\n",
       "      <td>1</td>\n",
       "      <td>400.000000</td>\n",
       "    </tr>\n",
       "    <tr>\n",
       "      <th>1</th>\n",
       "      <td>Luis</td>\n",
       "      <td>40</td>\n",
       "      <td>50000.0</td>\n",
       "      <td>2</td>\n",
       "      <td>1250.000000</td>\n",
       "    </tr>\n",
       "    <tr>\n",
       "      <th>2</th>\n",
       "      <td>Carla</td>\n",
       "      <td>35</td>\n",
       "      <td>30000.0</td>\n",
       "      <td>1</td>\n",
       "      <td>857.142857</td>\n",
       "    </tr>\n",
       "    <tr>\n",
       "      <th>3</th>\n",
       "      <td>Pedro</td>\n",
       "      <td>50</td>\n",
       "      <td>NaN</td>\n",
       "      <td>3</td>\n",
       "      <td>NaN</td>\n",
       "    </tr>\n",
       "    <tr>\n",
       "      <th>4</th>\n",
       "      <td>Lucía</td>\n",
       "      <td>28</td>\n",
       "      <td>15000.0</td>\n",
       "      <td>2</td>\n",
       "      <td>535.714286</td>\n",
       "    </tr>\n",
       "  </tbody>\n",
       "</table>\n",
       "</div>"
      ],
      "text/plain": [
       "  cliente  edad    saldo  creditos  saldo_promedio\n",
       "0     Ana    25  10000.0         1      400.000000\n",
       "1    Luis    40  50000.0         2     1250.000000\n",
       "2   Carla    35  30000.0         1      857.142857\n",
       "3   Pedro    50      NaN         3             NaN\n",
       "4   Lucía    28  15000.0         2      535.714286"
      ]
     },
     "execution_count": 84,
     "metadata": {},
     "output_type": "execute_result"
    }
   ],
   "source": [
    "df2.drop_duplicates()#elimina cuando toda la fila esta duplicada     #### df.drop_duplicates(subset=['cliente'])"
   ]
  },
  {
   "cell_type": "code",
   "execution_count": 117,
   "metadata": {},
   "outputs": [
    {
     "data": {
      "text/html": [
       "<div>\n",
       "<style scoped>\n",
       "    .dataframe tbody tr th:only-of-type {\n",
       "        vertical-align: middle;\n",
       "    }\n",
       "\n",
       "    .dataframe tbody tr th {\n",
       "        vertical-align: top;\n",
       "    }\n",
       "\n",
       "    .dataframe thead th {\n",
       "        text-align: right;\n",
       "    }\n",
       "</style>\n",
       "<table border=\"1\" class=\"dataframe\">\n",
       "  <thead>\n",
       "    <tr style=\"text-align: right;\">\n",
       "      <th></th>\n",
       "      <th>cliente</th>\n",
       "      <th>edad</th>\n",
       "      <th>saldo</th>\n",
       "      <th>creditos</th>\n",
       "      <th>saldo_promedio</th>\n",
       "    </tr>\n",
       "  </thead>\n",
       "  <tbody>\n",
       "    <tr>\n",
       "      <th>1</th>\n",
       "      <td>Luis</td>\n",
       "      <td>40</td>\n",
       "      <td>50000.0</td>\n",
       "      <td>2</td>\n",
       "      <td>1250.000000</td>\n",
       "    </tr>\n",
       "    <tr>\n",
       "      <th>2</th>\n",
       "      <td>Carla</td>\n",
       "      <td>35</td>\n",
       "      <td>30000.0</td>\n",
       "      <td>1</td>\n",
       "      <td>857.142857</td>\n",
       "    </tr>\n",
       "    <tr>\n",
       "      <th>3</th>\n",
       "      <td>Pedro</td>\n",
       "      <td>50</td>\n",
       "      <td>NaN</td>\n",
       "      <td>3</td>\n",
       "      <td>NaN</td>\n",
       "    </tr>\n",
       "    <tr>\n",
       "      <th>5</th>\n",
       "      <td>Luis</td>\n",
       "      <td>40</td>\n",
       "      <td>50000.0</td>\n",
       "      <td>2</td>\n",
       "      <td>1250.000000</td>\n",
       "    </tr>\n",
       "  </tbody>\n",
       "</table>\n",
       "</div>"
      ],
      "text/plain": [
       "  cliente  edad    saldo  creditos  saldo_promedio\n",
       "1    Luis    40  50000.0         2     1250.000000\n",
       "2   Carla    35  30000.0         1      857.142857\n",
       "3   Pedro    50      NaN         3             NaN\n",
       "5    Luis    40  50000.0         2     1250.000000"
      ]
     },
     "execution_count": 117,
     "metadata": {},
     "output_type": "execute_result"
    }
   ],
   "source": [
    "filtro1=df2[df2['edad'] > 30]  # Filtrar filas donde la edad es mayor a 30\n",
    "filtro1"
   ]
  },
  {
   "cell_type": "code",
   "execution_count": null,
   "metadata": {},
   "outputs": [
    {
     "data": {
      "text/html": [
       "<div>\n",
       "<style scoped>\n",
       "    .dataframe tbody tr th:only-of-type {\n",
       "        vertical-align: middle;\n",
       "    }\n",
       "\n",
       "    .dataframe tbody tr th {\n",
       "        vertical-align: top;\n",
       "    }\n",
       "\n",
       "    .dataframe thead th {\n",
       "        text-align: right;\n",
       "    }\n",
       "</style>\n",
       "<table border=\"1\" class=\"dataframe\">\n",
       "  <thead>\n",
       "    <tr style=\"text-align: right;\">\n",
       "      <th></th>\n",
       "      <th>cliente</th>\n",
       "      <th>edad</th>\n",
       "      <th>saldo</th>\n",
       "      <th>creditos</th>\n",
       "      <th>saldo_promedio</th>\n",
       "    </tr>\n",
       "  </thead>\n",
       "  <tbody>\n",
       "    <tr>\n",
       "      <th>1</th>\n",
       "      <td>Luis</td>\n",
       "      <td>40</td>\n",
       "      <td>50000.0</td>\n",
       "      <td>2</td>\n",
       "      <td>1250.0</td>\n",
       "    </tr>\n",
       "    <tr>\n",
       "      <th>5</th>\n",
       "      <td>Luis</td>\n",
       "      <td>40</td>\n",
       "      <td>50000.0</td>\n",
       "      <td>2</td>\n",
       "      <td>1250.0</td>\n",
       "    </tr>\n",
       "  </tbody>\n",
       "</table>\n",
       "</div>"
      ],
      "text/plain": [
       "  cliente  edad    saldo  creditos  saldo_promedio\n",
       "1    Luis    40  50000.0         2          1250.0\n",
       "5    Luis    40  50000.0         2          1250.0"
      ]
     },
     "execution_count": 118,
     "metadata": {},
     "output_type": "execute_result"
    }
   ],
   "source": [
    "filtro2=df2[(df2['edad'] > 30) & (df2['creditos']==2)]  # Filtrar filas donde la edad es mayor a 30 y los creditos son 2\n",
    "filtro2"
   ]
  },
  {
   "cell_type": "code",
   "execution_count": 121,
   "metadata": {},
   "outputs": [
    {
     "data": {
      "text/html": [
       "<div>\n",
       "<style scoped>\n",
       "    .dataframe tbody tr th:only-of-type {\n",
       "        vertical-align: middle;\n",
       "    }\n",
       "\n",
       "    .dataframe tbody tr th {\n",
       "        vertical-align: top;\n",
       "    }\n",
       "\n",
       "    .dataframe thead th {\n",
       "        text-align: right;\n",
       "    }\n",
       "</style>\n",
       "<table border=\"1\" class=\"dataframe\">\n",
       "  <thead>\n",
       "    <tr style=\"text-align: right;\">\n",
       "      <th></th>\n",
       "      <th>cliente</th>\n",
       "      <th>años</th>\n",
       "      <th>saldo</th>\n",
       "      <th>creditos</th>\n",
       "      <th>saldo_prom</th>\n",
       "    </tr>\n",
       "  </thead>\n",
       "  <tbody>\n",
       "    <tr>\n",
       "      <th>0</th>\n",
       "      <td>Ana</td>\n",
       "      <td>25</td>\n",
       "      <td>10000.0</td>\n",
       "      <td>1</td>\n",
       "      <td>400.000000</td>\n",
       "    </tr>\n",
       "    <tr>\n",
       "      <th>1</th>\n",
       "      <td>Luis</td>\n",
       "      <td>40</td>\n",
       "      <td>50000.0</td>\n",
       "      <td>2</td>\n",
       "      <td>1250.000000</td>\n",
       "    </tr>\n",
       "    <tr>\n",
       "      <th>2</th>\n",
       "      <td>Carla</td>\n",
       "      <td>35</td>\n",
       "      <td>30000.0</td>\n",
       "      <td>1</td>\n",
       "      <td>857.142857</td>\n",
       "    </tr>\n",
       "    <tr>\n",
       "      <th>3</th>\n",
       "      <td>Pedro</td>\n",
       "      <td>50</td>\n",
       "      <td>NaN</td>\n",
       "      <td>3</td>\n",
       "      <td>NaN</td>\n",
       "    </tr>\n",
       "    <tr>\n",
       "      <th>4</th>\n",
       "      <td>Lucía</td>\n",
       "      <td>28</td>\n",
       "      <td>15000.0</td>\n",
       "      <td>2</td>\n",
       "      <td>535.714286</td>\n",
       "    </tr>\n",
       "    <tr>\n",
       "      <th>5</th>\n",
       "      <td>Luis</td>\n",
       "      <td>40</td>\n",
       "      <td>50000.0</td>\n",
       "      <td>2</td>\n",
       "      <td>1250.000000</td>\n",
       "    </tr>\n",
       "  </tbody>\n",
       "</table>\n",
       "</div>"
      ],
      "text/plain": [
       "  cliente  años    saldo  creditos   saldo_prom\n",
       "0     Ana    25  10000.0         1   400.000000\n",
       "1    Luis    40  50000.0         2  1250.000000\n",
       "2   Carla    35  30000.0         1   857.142857\n",
       "3   Pedro    50      NaN         3          NaN\n",
       "4   Lucía    28  15000.0         2   535.714286\n",
       "5    Luis    40  50000.0         2  1250.000000"
      ]
     },
     "execution_count": 121,
     "metadata": {},
     "output_type": "execute_result"
    }
   ],
   "source": [
    "# Renombrar columnas\n",
    "renombrar = df2.rename(columns={'saldo_promedio': 'saldo_prom', 'edad': 'años'})\n",
    "renombrar"
   ]
  },
  {
   "cell_type": "code",
   "execution_count": 122,
   "metadata": {},
   "outputs": [
    {
     "data": {
      "text/html": [
       "<div>\n",
       "<style scoped>\n",
       "    .dataframe tbody tr th:only-of-type {\n",
       "        vertical-align: middle;\n",
       "    }\n",
       "\n",
       "    .dataframe tbody tr th {\n",
       "        vertical-align: top;\n",
       "    }\n",
       "\n",
       "    .dataframe thead th {\n",
       "        text-align: right;\n",
       "    }\n",
       "</style>\n",
       "<table border=\"1\" class=\"dataframe\">\n",
       "  <thead>\n",
       "    <tr style=\"text-align: right;\">\n",
       "      <th></th>\n",
       "      <th>saldo</th>\n",
       "      <th>edad</th>\n",
       "      <th>cliente</th>\n",
       "      <th>creditos</th>\n",
       "      <th>saldo_promedio</th>\n",
       "    </tr>\n",
       "  </thead>\n",
       "  <tbody>\n",
       "    <tr>\n",
       "      <th>0</th>\n",
       "      <td>10000.0</td>\n",
       "      <td>25</td>\n",
       "      <td>Ana</td>\n",
       "      <td>1</td>\n",
       "      <td>400.000000</td>\n",
       "    </tr>\n",
       "    <tr>\n",
       "      <th>1</th>\n",
       "      <td>50000.0</td>\n",
       "      <td>40</td>\n",
       "      <td>Luis</td>\n",
       "      <td>2</td>\n",
       "      <td>1250.000000</td>\n",
       "    </tr>\n",
       "    <tr>\n",
       "      <th>2</th>\n",
       "      <td>30000.0</td>\n",
       "      <td>35</td>\n",
       "      <td>Carla</td>\n",
       "      <td>1</td>\n",
       "      <td>857.142857</td>\n",
       "    </tr>\n",
       "    <tr>\n",
       "      <th>3</th>\n",
       "      <td>NaN</td>\n",
       "      <td>50</td>\n",
       "      <td>Pedro</td>\n",
       "      <td>3</td>\n",
       "      <td>NaN</td>\n",
       "    </tr>\n",
       "    <tr>\n",
       "      <th>4</th>\n",
       "      <td>15000.0</td>\n",
       "      <td>28</td>\n",
       "      <td>Lucía</td>\n",
       "      <td>2</td>\n",
       "      <td>535.714286</td>\n",
       "    </tr>\n",
       "    <tr>\n",
       "      <th>5</th>\n",
       "      <td>50000.0</td>\n",
       "      <td>40</td>\n",
       "      <td>Luis</td>\n",
       "      <td>2</td>\n",
       "      <td>1250.000000</td>\n",
       "    </tr>\n",
       "  </tbody>\n",
       "</table>\n",
       "</div>"
      ],
      "text/plain": [
       "     saldo  edad cliente  creditos  saldo_promedio\n",
       "0  10000.0    25     Ana         1      400.000000\n",
       "1  50000.0    40    Luis         2     1250.000000\n",
       "2  30000.0    35   Carla         1      857.142857\n",
       "3      NaN    50   Pedro         3             NaN\n",
       "4  15000.0    28   Lucía         2      535.714286\n",
       "5  50000.0    40    Luis         2     1250.000000"
      ]
     },
     "execution_count": 122,
     "metadata": {},
     "output_type": "execute_result"
    }
   ],
   "source": [
    "# Reordenar columnas\n",
    "df_reordered = df2[['saldo', 'edad', 'cliente', 'creditos', 'saldo_promedio']]\n",
    "df_reordered"
   ]
  },
  {
   "cell_type": "code",
   "execution_count": 125,
   "metadata": {},
   "outputs": [
    {
     "data": {
      "text/html": [
       "<div>\n",
       "<style scoped>\n",
       "    .dataframe tbody tr th:only-of-type {\n",
       "        vertical-align: middle;\n",
       "    }\n",
       "\n",
       "    .dataframe tbody tr th {\n",
       "        vertical-align: top;\n",
       "    }\n",
       "\n",
       "    .dataframe thead th {\n",
       "        text-align: right;\n",
       "    }\n",
       "</style>\n",
       "<table border=\"1\" class=\"dataframe\">\n",
       "  <thead>\n",
       "    <tr style=\"text-align: right;\">\n",
       "      <th></th>\n",
       "      <th>cliente</th>\n",
       "      <th>saldo</th>\n",
       "    </tr>\n",
       "  </thead>\n",
       "  <tbody>\n",
       "    <tr>\n",
       "      <th>0</th>\n",
       "      <td>Ana</td>\n",
       "      <td>10000.0</td>\n",
       "    </tr>\n",
       "    <tr>\n",
       "      <th>1</th>\n",
       "      <td>Luis</td>\n",
       "      <td>50000.0</td>\n",
       "    </tr>\n",
       "    <tr>\n",
       "      <th>2</th>\n",
       "      <td>Carla</td>\n",
       "      <td>30000.0</td>\n",
       "    </tr>\n",
       "    <tr>\n",
       "      <th>3</th>\n",
       "      <td>Pedro</td>\n",
       "      <td>NaN</td>\n",
       "    </tr>\n",
       "    <tr>\n",
       "      <th>4</th>\n",
       "      <td>Lucía</td>\n",
       "      <td>15000.0</td>\n",
       "    </tr>\n",
       "    <tr>\n",
       "      <th>5</th>\n",
       "      <td>Luis</td>\n",
       "      <td>50000.0</td>\n",
       "    </tr>\n",
       "  </tbody>\n",
       "</table>\n",
       "</div>"
      ],
      "text/plain": [
       "  cliente    saldo\n",
       "0     Ana  10000.0\n",
       "1    Luis  50000.0\n",
       "2   Carla  30000.0\n",
       "3   Pedro      NaN\n",
       "4   Lucía  15000.0\n",
       "5    Luis  50000.0"
      ]
     },
     "execution_count": 125,
     "metadata": {},
     "output_type": "execute_result"
    }
   ],
   "source": [
    "dfnuevo=df2[['cliente','saldo']].copy()\n",
    "dfnuevo"
   ]
  },
  {
   "cell_type": "markdown",
   "metadata": {},
   "source": [
    "DataFrames"
   ]
  },
  {
   "cell_type": "markdown",
   "metadata": {},
   "source": [
    "### Cargando datos"
   ]
  },
  {
   "cell_type": "code",
   "execution_count": null,
   "metadata": {},
   "outputs": [],
   "source": [
    "##paso 1 importacion \n",
    "#CSV\n",
    "clientes= pd.read_csv('clientes_banco.csv')  #, sep=',', encoding='latin1', header=0, index_col=None)\n",
    "                                            # Opciones comunes de read_csv\n",
    "                                            # pd.read_csv('archivo.csv', sep=';')  # Cambiar separador\n",
    "                                            # pd.read_csv('archivo.csv', header=None)  # Sin encabezados\n",
    "                                            # pd.read_csv('archivo.csv', usecols=['col1', 'col3'])  # Solo ciertas columnas\n",
    "                                            # pd.read_csv('archivo.csv', nrows=100)  # Limitar número de filas\n"
   ]
  },
  {
   "cell_type": "code",
   "execution_count": 148,
   "metadata": {},
   "outputs": [
    {
     "data": {
      "text/html": [
       "<div>\n",
       "<style scoped>\n",
       "    .dataframe tbody tr th:only-of-type {\n",
       "        vertical-align: middle;\n",
       "    }\n",
       "\n",
       "    .dataframe tbody tr th {\n",
       "        vertical-align: top;\n",
       "    }\n",
       "\n",
       "    .dataframe thead th {\n",
       "        text-align: right;\n",
       "    }\n",
       "</style>\n",
       "<table border=\"1\" class=\"dataframe\">\n",
       "  <thead>\n",
       "    <tr style=\"text-align: right;\">\n",
       "      <th></th>\n",
       "      <th>ID_cliente</th>\n",
       "      <th>Nombre</th>\n",
       "      <th>Apellido</th>\n",
       "      <th>Edad</th>\n",
       "      <th>Provincia</th>\n",
       "      <th>Ocupacion</th>\n",
       "      <th>Saldo_cuenta</th>\n",
       "      <th>Limite_credito</th>\n",
       "      <th>Tiene_tarjeta</th>\n",
       "      <th>Producto_principal</th>\n",
       "      <th>Fecha_alta</th>\n",
       "      <th>Nivel_satisfaccion</th>\n",
       "    </tr>\n",
       "  </thead>\n",
       "  <tbody>\n",
       "    <tr>\n",
       "      <th>0</th>\n",
       "      <td>1</td>\n",
       "      <td>Diego</td>\n",
       "      <td>Fernández</td>\n",
       "      <td>67</td>\n",
       "      <td>Tucumán</td>\n",
       "      <td>Desempleado</td>\n",
       "      <td>NaN</td>\n",
       "      <td>123027.71</td>\n",
       "      <td>True</td>\n",
       "      <td>Tarjeta de crédito</td>\n",
       "      <td>2017-01-23</td>\n",
       "      <td>6.0</td>\n",
       "    </tr>\n",
       "    <tr>\n",
       "      <th>1</th>\n",
       "      <td>2</td>\n",
       "      <td>Lucía</td>\n",
       "      <td>García</td>\n",
       "      <td>77</td>\n",
       "      <td>Santa Fe</td>\n",
       "      <td>Empresario</td>\n",
       "      <td>112856.92</td>\n",
       "      <td>182542.98</td>\n",
       "      <td>True</td>\n",
       "      <td>Caja de ahorro</td>\n",
       "      <td>2017-01-16</td>\n",
       "      <td>8.0</td>\n",
       "    </tr>\n",
       "    <tr>\n",
       "      <th>2</th>\n",
       "      <td>3</td>\n",
       "      <td>Ana</td>\n",
       "      <td>Sánchez</td>\n",
       "      <td>60</td>\n",
       "      <td>Salta</td>\n",
       "      <td>Desempleado</td>\n",
       "      <td>175554.01</td>\n",
       "      <td>NaN</td>\n",
       "      <td>True</td>\n",
       "      <td>Plazo fijo</td>\n",
       "      <td>2016-11-18</td>\n",
       "      <td>5.0</td>\n",
       "    </tr>\n",
       "    <tr>\n",
       "      <th>3</th>\n",
       "      <td>4</td>\n",
       "      <td>Carlos</td>\n",
       "      <td>Díaz</td>\n",
       "      <td>54</td>\n",
       "      <td>Santa Fe</td>\n",
       "      <td>Empleado</td>\n",
       "      <td>-6681.79</td>\n",
       "      <td>142505.72</td>\n",
       "      <td>False</td>\n",
       "      <td>Cuenta corriente</td>\n",
       "      <td>2016-12-23</td>\n",
       "      <td>2.0</td>\n",
       "    </tr>\n",
       "    <tr>\n",
       "      <th>4</th>\n",
       "      <td>5</td>\n",
       "      <td>Diego</td>\n",
       "      <td>Gómez</td>\n",
       "      <td>32</td>\n",
       "      <td>Salta</td>\n",
       "      <td>NaN</td>\n",
       "      <td>22934.41</td>\n",
       "      <td>171855.97</td>\n",
       "      <td>False</td>\n",
       "      <td>Caja de ahorro</td>\n",
       "      <td>2019-04-16</td>\n",
       "      <td>4.0</td>\n",
       "    </tr>\n",
       "  </tbody>\n",
       "</table>\n",
       "</div>"
      ],
      "text/plain": [
       "   ID_cliente  Nombre   Apellido  Edad Provincia    Ocupacion  Saldo_cuenta  \\\n",
       "0           1   Diego  Fernández    67   Tucumán  Desempleado           NaN   \n",
       "1           2   Lucía     García    77  Santa Fe   Empresario     112856.92   \n",
       "2           3     Ana    Sánchez    60     Salta  Desempleado     175554.01   \n",
       "3           4  Carlos       Díaz    54  Santa Fe     Empleado      -6681.79   \n",
       "4           5   Diego      Gómez    32     Salta          NaN      22934.41   \n",
       "\n",
       "   Limite_credito  Tiene_tarjeta  Producto_principal  Fecha_alta  \\\n",
       "0       123027.71           True  Tarjeta de crédito  2017-01-23   \n",
       "1       182542.98           True      Caja de ahorro  2017-01-16   \n",
       "2             NaN           True          Plazo fijo  2016-11-18   \n",
       "3       142505.72          False    Cuenta corriente  2016-12-23   \n",
       "4       171855.97          False      Caja de ahorro  2019-04-16   \n",
       "\n",
       "   Nivel_satisfaccion  \n",
       "0                 6.0  \n",
       "1                 8.0  \n",
       "2                 5.0  \n",
       "3                 2.0  \n",
       "4                 4.0  "
      ]
     },
     "execution_count": 148,
     "metadata": {},
     "output_type": "execute_result"
    }
   ],
   "source": [
    "clientes.head()"
   ]
  },
  {
   "cell_type": "code",
   "execution_count": null,
   "metadata": {},
   "outputs": [],
   "source": [
    "#pd.set_option('display.max_columns', None)\n",
    "#pd.set_option('display.max_rows', None)"
   ]
  },
  {
   "cell_type": "code",
   "execution_count": null,
   "metadata": {},
   "outputs": [],
   "source": [
    "clientesxls=pd.read_excel('clientes_banco.xlsx')  #, sheet_name='nombre')"
   ]
  },
  {
   "cell_type": "code",
   "execution_count": 99,
   "metadata": {},
   "outputs": [
    {
     "data": {
      "text/html": [
       "<div>\n",
       "<style scoped>\n",
       "    .dataframe tbody tr th:only-of-type {\n",
       "        vertical-align: middle;\n",
       "    }\n",
       "\n",
       "    .dataframe tbody tr th {\n",
       "        vertical-align: top;\n",
       "    }\n",
       "\n",
       "    .dataframe thead th {\n",
       "        text-align: right;\n",
       "    }\n",
       "</style>\n",
       "<table border=\"1\" class=\"dataframe\">\n",
       "  <thead>\n",
       "    <tr style=\"text-align: right;\">\n",
       "      <th></th>\n",
       "      <th>ID_cliente</th>\n",
       "      <th>Nombre</th>\n",
       "      <th>Apellido</th>\n",
       "      <th>Edad</th>\n",
       "      <th>Provincia</th>\n",
       "      <th>Ocupación</th>\n",
       "      <th>Saldo_cuenta</th>\n",
       "      <th>Limite_credito</th>\n",
       "      <th>Tiene_tarjeta</th>\n",
       "      <th>Producto_principal</th>\n",
       "      <th>Fecha_alta</th>\n",
       "      <th>Nivel_satisfacción</th>\n",
       "    </tr>\n",
       "  </thead>\n",
       "  <tbody>\n",
       "    <tr>\n",
       "      <th>0</th>\n",
       "      <td>1</td>\n",
       "      <td>Diego</td>\n",
       "      <td>Fernández</td>\n",
       "      <td>67</td>\n",
       "      <td>Tucumán</td>\n",
       "      <td>Desempleado</td>\n",
       "      <td>NaN</td>\n",
       "      <td>123027.71</td>\n",
       "      <td>True</td>\n",
       "      <td>Tarjeta de crédito</td>\n",
       "      <td>2017-01-23</td>\n",
       "      <td>6.0</td>\n",
       "    </tr>\n",
       "    <tr>\n",
       "      <th>1</th>\n",
       "      <td>2</td>\n",
       "      <td>Lucía</td>\n",
       "      <td>García</td>\n",
       "      <td>77</td>\n",
       "      <td>Santa Fe</td>\n",
       "      <td>Empresario</td>\n",
       "      <td>112856.92</td>\n",
       "      <td>182542.98</td>\n",
       "      <td>True</td>\n",
       "      <td>Caja de ahorro</td>\n",
       "      <td>2017-01-16</td>\n",
       "      <td>8.0</td>\n",
       "    </tr>\n",
       "    <tr>\n",
       "      <th>2</th>\n",
       "      <td>3</td>\n",
       "      <td>Ana</td>\n",
       "      <td>Sánchez</td>\n",
       "      <td>60</td>\n",
       "      <td>Salta</td>\n",
       "      <td>Desempleado</td>\n",
       "      <td>175554.01</td>\n",
       "      <td>NaN</td>\n",
       "      <td>True</td>\n",
       "      <td>Plazo fijo</td>\n",
       "      <td>2016-11-18</td>\n",
       "      <td>5.0</td>\n",
       "    </tr>\n",
       "    <tr>\n",
       "      <th>3</th>\n",
       "      <td>4</td>\n",
       "      <td>Carlos</td>\n",
       "      <td>Díaz</td>\n",
       "      <td>54</td>\n",
       "      <td>Santa Fe</td>\n",
       "      <td>Empleado</td>\n",
       "      <td>-6681.79</td>\n",
       "      <td>142505.72</td>\n",
       "      <td>False</td>\n",
       "      <td>Cuenta corriente</td>\n",
       "      <td>2016-12-23</td>\n",
       "      <td>2.0</td>\n",
       "    </tr>\n",
       "    <tr>\n",
       "      <th>4</th>\n",
       "      <td>5</td>\n",
       "      <td>Diego</td>\n",
       "      <td>Gómez</td>\n",
       "      <td>32</td>\n",
       "      <td>Salta</td>\n",
       "      <td>NaN</td>\n",
       "      <td>22934.41</td>\n",
       "      <td>171855.97</td>\n",
       "      <td>False</td>\n",
       "      <td>Caja de ahorro</td>\n",
       "      <td>2019-04-16</td>\n",
       "      <td>4.0</td>\n",
       "    </tr>\n",
       "  </tbody>\n",
       "</table>\n",
       "</div>"
      ],
      "text/plain": [
       "   ID_cliente  Nombre   Apellido  Edad Provincia    Ocupación  Saldo_cuenta  \\\n",
       "0           1   Diego  Fernández    67   Tucumán  Desempleado           NaN   \n",
       "1           2   Lucía     García    77  Santa Fe   Empresario     112856.92   \n",
       "2           3     Ana    Sánchez    60     Salta  Desempleado     175554.01   \n",
       "3           4  Carlos       Díaz    54  Santa Fe     Empleado      -6681.79   \n",
       "4           5   Diego      Gómez    32     Salta          NaN      22934.41   \n",
       "\n",
       "   Limite_credito  Tiene_tarjeta  Producto_principal Fecha_alta  \\\n",
       "0       123027.71           True  Tarjeta de crédito 2017-01-23   \n",
       "1       182542.98           True      Caja de ahorro 2017-01-16   \n",
       "2             NaN           True          Plazo fijo 2016-11-18   \n",
       "3       142505.72          False    Cuenta corriente 2016-12-23   \n",
       "4       171855.97          False      Caja de ahorro 2019-04-16   \n",
       "\n",
       "   Nivel_satisfacción  \n",
       "0                 6.0  \n",
       "1                 8.0  \n",
       "2                 5.0  \n",
       "3                 2.0  \n",
       "4                 4.0  "
      ]
     },
     "execution_count": 99,
     "metadata": {},
     "output_type": "execute_result"
    }
   ],
   "source": [
    "clientesxls.head()"
   ]
  },
  {
   "cell_type": "code",
   "execution_count": 101,
   "metadata": {},
   "outputs": [],
   "source": [
    "clientesjson=pd.read_json('clientes_banco.json', lines=True)  # Use lines=True for newline-delimited JSON"
   ]
  },
  {
   "cell_type": "code",
   "execution_count": 102,
   "metadata": {},
   "outputs": [
    {
     "data": {
      "text/html": [
       "<div>\n",
       "<style scoped>\n",
       "    .dataframe tbody tr th:only-of-type {\n",
       "        vertical-align: middle;\n",
       "    }\n",
       "\n",
       "    .dataframe tbody tr th {\n",
       "        vertical-align: top;\n",
       "    }\n",
       "\n",
       "    .dataframe thead th {\n",
       "        text-align: right;\n",
       "    }\n",
       "</style>\n",
       "<table border=\"1\" class=\"dataframe\">\n",
       "  <thead>\n",
       "    <tr style=\"text-align: right;\">\n",
       "      <th></th>\n",
       "      <th>ID_cliente</th>\n",
       "      <th>Nombre</th>\n",
       "      <th>Apellido</th>\n",
       "      <th>Edad</th>\n",
       "      <th>Provincia</th>\n",
       "      <th>Ocupación</th>\n",
       "      <th>Saldo_cuenta</th>\n",
       "      <th>Limite_credito</th>\n",
       "      <th>Tiene_tarjeta</th>\n",
       "      <th>Producto_principal</th>\n",
       "      <th>Fecha_alta</th>\n",
       "      <th>Nivel_satisfacción</th>\n",
       "    </tr>\n",
       "  </thead>\n",
       "  <tbody>\n",
       "    <tr>\n",
       "      <th>0</th>\n",
       "      <td>1</td>\n",
       "      <td>Diego</td>\n",
       "      <td>Fernández</td>\n",
       "      <td>67</td>\n",
       "      <td>Tucumán</td>\n",
       "      <td>Desempleado</td>\n",
       "      <td>NaN</td>\n",
       "      <td>123027.71</td>\n",
       "      <td>True</td>\n",
       "      <td>Tarjeta de crédito</td>\n",
       "      <td>1485129600000</td>\n",
       "      <td>6.0</td>\n",
       "    </tr>\n",
       "    <tr>\n",
       "      <th>1</th>\n",
       "      <td>2</td>\n",
       "      <td>Lucía</td>\n",
       "      <td>García</td>\n",
       "      <td>77</td>\n",
       "      <td>Santa Fe</td>\n",
       "      <td>Empresario</td>\n",
       "      <td>112856.92</td>\n",
       "      <td>182542.98</td>\n",
       "      <td>True</td>\n",
       "      <td>Caja de ahorro</td>\n",
       "      <td>1484524800000</td>\n",
       "      <td>8.0</td>\n",
       "    </tr>\n",
       "    <tr>\n",
       "      <th>2</th>\n",
       "      <td>3</td>\n",
       "      <td>Ana</td>\n",
       "      <td>Sánchez</td>\n",
       "      <td>60</td>\n",
       "      <td>Salta</td>\n",
       "      <td>Desempleado</td>\n",
       "      <td>175554.01</td>\n",
       "      <td>NaN</td>\n",
       "      <td>True</td>\n",
       "      <td>Plazo fijo</td>\n",
       "      <td>1479427200000</td>\n",
       "      <td>5.0</td>\n",
       "    </tr>\n",
       "    <tr>\n",
       "      <th>3</th>\n",
       "      <td>4</td>\n",
       "      <td>Carlos</td>\n",
       "      <td>Díaz</td>\n",
       "      <td>54</td>\n",
       "      <td>Santa Fe</td>\n",
       "      <td>Empleado</td>\n",
       "      <td>-6681.79</td>\n",
       "      <td>142505.72</td>\n",
       "      <td>False</td>\n",
       "      <td>Cuenta corriente</td>\n",
       "      <td>1482451200000</td>\n",
       "      <td>2.0</td>\n",
       "    </tr>\n",
       "    <tr>\n",
       "      <th>4</th>\n",
       "      <td>5</td>\n",
       "      <td>Diego</td>\n",
       "      <td>Gómez</td>\n",
       "      <td>32</td>\n",
       "      <td>Salta</td>\n",
       "      <td>None</td>\n",
       "      <td>22934.41</td>\n",
       "      <td>171855.97</td>\n",
       "      <td>False</td>\n",
       "      <td>Caja de ahorro</td>\n",
       "      <td>1555372800000</td>\n",
       "      <td>4.0</td>\n",
       "    </tr>\n",
       "  </tbody>\n",
       "</table>\n",
       "</div>"
      ],
      "text/plain": [
       "   ID_cliente  Nombre   Apellido  Edad Provincia    Ocupación  Saldo_cuenta  \\\n",
       "0           1   Diego  Fernández    67   Tucumán  Desempleado           NaN   \n",
       "1           2   Lucía     García    77  Santa Fe   Empresario     112856.92   \n",
       "2           3     Ana    Sánchez    60     Salta  Desempleado     175554.01   \n",
       "3           4  Carlos       Díaz    54  Santa Fe     Empleado      -6681.79   \n",
       "4           5   Diego      Gómez    32     Salta         None      22934.41   \n",
       "\n",
       "   Limite_credito  Tiene_tarjeta  Producto_principal     Fecha_alta  \\\n",
       "0       123027.71           True  Tarjeta de crédito  1485129600000   \n",
       "1       182542.98           True      Caja de ahorro  1484524800000   \n",
       "2             NaN           True          Plazo fijo  1479427200000   \n",
       "3       142505.72          False    Cuenta corriente  1482451200000   \n",
       "4       171855.97          False      Caja de ahorro  1555372800000   \n",
       "\n",
       "   Nivel_satisfacción  \n",
       "0                 6.0  \n",
       "1                 8.0  \n",
       "2                 5.0  \n",
       "3                 2.0  \n",
       "4                 4.0  "
      ]
     },
     "execution_count": 102,
     "metadata": {},
     "output_type": "execute_result"
    }
   ],
   "source": [
    "clientesjson.head()"
   ]
  },
  {
   "cell_type": "code",
   "execution_count": null,
   "metadata": {},
   "outputs": [],
   "source": [
    "\n",
    "# Nota: También puede importar desde:\n",
    "# - SQL: pd.read_sql()\n",
    "# - HTML: pd.read_html()\n",
    "# - Clipboard: pd.read_clipboard()"
   ]
  },
  {
   "cell_type": "markdown",
   "metadata": {},
   "source": [
    "## Análisis descriptivo en Pandas\n",
    "### Ejemplo clientes. Ejercicio practico.\n",
    " \n"
   ]
  },
  {
   "cell_type": "markdown",
   "metadata": {},
   "source": [
    "\n",
    "¿Que tipos de datos tiene el DF? ¿Cuántos registros y columnas hay?\n",
    "\n",
    "¿Qué tipo de datos hay en cada columna? ¿Hay nulos, duplicados? ¿Como los manejo?"
   ]
  },
  {
   "cell_type": "code",
   "execution_count": 105,
   "metadata": {},
   "outputs": [
    {
     "name": "stdout",
     "output_type": "stream",
     "text": [
      "<class 'pandas.core.frame.DataFrame'>\n",
      "RangeIndex: 2000 entries, 0 to 1999\n",
      "Data columns (total 12 columns):\n",
      " #   Column              Non-Null Count  Dtype  \n",
      "---  ------              --------------  -----  \n",
      " 0   ID_cliente          2000 non-null   int64  \n",
      " 1   Nombre              2000 non-null   object \n",
      " 2   Apellido            2000 non-null   object \n",
      " 3   Edad                2000 non-null   int64  \n",
      " 4   Provincia           2000 non-null   object \n",
      " 5   Ocupacion           1800 non-null   object \n",
      " 6   Saldo_cuenta        1800 non-null   float64\n",
      " 7   Limite_credito      1800 non-null   float64\n",
      " 8   Tiene_tarjeta       2000 non-null   bool   \n",
      " 9   Producto_principal  2000 non-null   object \n",
      " 10  Fecha_alta          2000 non-null   object \n",
      " 11  Nivel_satisfaccion  1800 non-null   float64\n",
      "dtypes: bool(1), float64(3), int64(2), object(6)\n",
      "memory usage: 174.0+ KB\n"
     ]
    }
   ],
   "source": [
    "clientes.info()"
   ]
  },
  {
   "cell_type": "code",
   "execution_count": 150,
   "metadata": {},
   "outputs": [
    {
     "data": {
      "text/plain": [
       "(2002, 12)"
      ]
     },
     "execution_count": 150,
     "metadata": {},
     "output_type": "execute_result"
    }
   ],
   "source": [
    "clientes.shape"
   ]
  },
  {
   "cell_type": "code",
   "execution_count": 151,
   "metadata": {},
   "outputs": [
    {
     "data": {
      "text/plain": [
       "Index(['ID_cliente', 'Nombre', 'Apellido', 'Edad', 'Provincia', 'Ocupacion',\n",
       "       'Saldo_cuenta', 'Limite_credito', 'Tiene_tarjeta', 'Producto_principal',\n",
       "       'Fecha_alta', 'Nivel_satisfaccion'],\n",
       "      dtype='object')"
      ]
     },
     "execution_count": 151,
     "metadata": {},
     "output_type": "execute_result"
    }
   ],
   "source": [
    "clientes.columns"
   ]
  },
  {
   "cell_type": "code",
   "execution_count": 161,
   "metadata": {},
   "outputs": [
    {
     "data": {
      "text/html": [
       "<div>\n",
       "<style scoped>\n",
       "    .dataframe tbody tr th:only-of-type {\n",
       "        vertical-align: middle;\n",
       "    }\n",
       "\n",
       "    .dataframe tbody tr th {\n",
       "        vertical-align: top;\n",
       "    }\n",
       "\n",
       "    .dataframe thead th {\n",
       "        text-align: right;\n",
       "    }\n",
       "</style>\n",
       "<table border=\"1\" class=\"dataframe\">\n",
       "  <thead>\n",
       "    <tr style=\"text-align: right;\">\n",
       "      <th></th>\n",
       "      <th>ID_cliente</th>\n",
       "      <th>Nombre</th>\n",
       "      <th>Apellido</th>\n",
       "      <th>Edad</th>\n",
       "      <th>Provincia</th>\n",
       "      <th>Ocupacion</th>\n",
       "      <th>Saldo_cuenta</th>\n",
       "      <th>Limite_credito</th>\n",
       "      <th>Tiene_tarjeta</th>\n",
       "      <th>Producto_principal</th>\n",
       "      <th>Fecha_alta</th>\n",
       "      <th>Nivel_satisfaccion</th>\n",
       "    </tr>\n",
       "  </thead>\n",
       "  <tbody>\n",
       "    <tr>\n",
       "      <th>0</th>\n",
       "      <td>1</td>\n",
       "      <td>Diego</td>\n",
       "      <td>Fernández</td>\n",
       "      <td>67</td>\n",
       "      <td>Tucumán</td>\n",
       "      <td>Desempleado</td>\n",
       "      <td>0.00</td>\n",
       "      <td>123027.71</td>\n",
       "      <td>True</td>\n",
       "      <td>Tarjeta de crédito</td>\n",
       "      <td>2017-01-23</td>\n",
       "      <td>6.0</td>\n",
       "    </tr>\n",
       "    <tr>\n",
       "      <th>1</th>\n",
       "      <td>2</td>\n",
       "      <td>Lucía</td>\n",
       "      <td>García</td>\n",
       "      <td>77</td>\n",
       "      <td>Santa Fe</td>\n",
       "      <td>Empresario</td>\n",
       "      <td>112856.92</td>\n",
       "      <td>182542.98</td>\n",
       "      <td>True</td>\n",
       "      <td>Caja de ahorro</td>\n",
       "      <td>2017-01-16</td>\n",
       "      <td>8.0</td>\n",
       "    </tr>\n",
       "    <tr>\n",
       "      <th>2</th>\n",
       "      <td>3</td>\n",
       "      <td>Ana</td>\n",
       "      <td>Sánchez</td>\n",
       "      <td>60</td>\n",
       "      <td>Salta</td>\n",
       "      <td>Desempleado</td>\n",
       "      <td>175554.01</td>\n",
       "      <td>0.00</td>\n",
       "      <td>True</td>\n",
       "      <td>Plazo fijo</td>\n",
       "      <td>2016-11-18</td>\n",
       "      <td>5.0</td>\n",
       "    </tr>\n",
       "    <tr>\n",
       "      <th>3</th>\n",
       "      <td>4</td>\n",
       "      <td>Carlos</td>\n",
       "      <td>Díaz</td>\n",
       "      <td>54</td>\n",
       "      <td>Santa Fe</td>\n",
       "      <td>Empleado</td>\n",
       "      <td>-6681.79</td>\n",
       "      <td>142505.72</td>\n",
       "      <td>False</td>\n",
       "      <td>Cuenta corriente</td>\n",
       "      <td>2016-12-23</td>\n",
       "      <td>2.0</td>\n",
       "    </tr>\n",
       "    <tr>\n",
       "      <th>4</th>\n",
       "      <td>5</td>\n",
       "      <td>Diego</td>\n",
       "      <td>Gómez</td>\n",
       "      <td>32</td>\n",
       "      <td>Salta</td>\n",
       "      <td>0</td>\n",
       "      <td>22934.41</td>\n",
       "      <td>171855.97</td>\n",
       "      <td>False</td>\n",
       "      <td>Caja de ahorro</td>\n",
       "      <td>2019-04-16</td>\n",
       "      <td>4.0</td>\n",
       "    </tr>\n",
       "    <tr>\n",
       "      <th>5</th>\n",
       "      <td>6</td>\n",
       "      <td>Marta</td>\n",
       "      <td>Sánchez</td>\n",
       "      <td>45</td>\n",
       "      <td>Salta</td>\n",
       "      <td>Jubilado</td>\n",
       "      <td>133780.50</td>\n",
       "      <td>123626.87</td>\n",
       "      <td>False</td>\n",
       "      <td>Tarjeta de crédito</td>\n",
       "      <td>2017-01-16</td>\n",
       "      <td>0.0</td>\n",
       "    </tr>\n",
       "    <tr>\n",
       "      <th>6</th>\n",
       "      <td>7</td>\n",
       "      <td>Pedro</td>\n",
       "      <td>Romero</td>\n",
       "      <td>35</td>\n",
       "      <td>Mendoza</td>\n",
       "      <td>Desempleado</td>\n",
       "      <td>168198.39</td>\n",
       "      <td>191757.87</td>\n",
       "      <td>True</td>\n",
       "      <td>Tarjeta de crédito</td>\n",
       "      <td>2015-08-30</td>\n",
       "      <td>0.0</td>\n",
       "    </tr>\n",
       "    <tr>\n",
       "      <th>7</th>\n",
       "      <td>8</td>\n",
       "      <td>Diego</td>\n",
       "      <td>Rodríguez</td>\n",
       "      <td>51</td>\n",
       "      <td>Buenos Aires</td>\n",
       "      <td>Desempleado</td>\n",
       "      <td>75505.36</td>\n",
       "      <td>149290.36</td>\n",
       "      <td>False</td>\n",
       "      <td>Caja de ahorro</td>\n",
       "      <td>2022-06-05</td>\n",
       "      <td>6.0</td>\n",
       "    </tr>\n",
       "    <tr>\n",
       "      <th>10</th>\n",
       "      <td>9</td>\n",
       "      <td>Ana</td>\n",
       "      <td>López</td>\n",
       "      <td>39</td>\n",
       "      <td>Tucumán</td>\n",
       "      <td>Empresario</td>\n",
       "      <td>87.97</td>\n",
       "      <td>89675.23</td>\n",
       "      <td>False</td>\n",
       "      <td>Tarjeta de crédito</td>\n",
       "      <td>2016-12-08</td>\n",
       "      <td>2.0</td>\n",
       "    </tr>\n",
       "    <tr>\n",
       "      <th>11</th>\n",
       "      <td>10</td>\n",
       "      <td>Carlos</td>\n",
       "      <td>Fernández</td>\n",
       "      <td>28</td>\n",
       "      <td>Mendoza</td>\n",
       "      <td>Estudiante</td>\n",
       "      <td>171596.21</td>\n",
       "      <td>123199.89</td>\n",
       "      <td>False</td>\n",
       "      <td>Cuenta corriente</td>\n",
       "      <td>2016-03-10</td>\n",
       "      <td>6.0</td>\n",
       "    </tr>\n",
       "    <tr>\n",
       "      <th>12</th>\n",
       "      <td>11</td>\n",
       "      <td>Lucía</td>\n",
       "      <td>García</td>\n",
       "      <td>75</td>\n",
       "      <td>Mendoza</td>\n",
       "      <td>Estudiante</td>\n",
       "      <td>59446.74</td>\n",
       "      <td>202327.42</td>\n",
       "      <td>True</td>\n",
       "      <td>Cuenta corriente</td>\n",
       "      <td>2017-02-19</td>\n",
       "      <td>1.0</td>\n",
       "    </tr>\n",
       "    <tr>\n",
       "      <th>13</th>\n",
       "      <td>12</td>\n",
       "      <td>Ana</td>\n",
       "      <td>Fernández</td>\n",
       "      <td>74</td>\n",
       "      <td>Neuquén</td>\n",
       "      <td>Empresario</td>\n",
       "      <td>81937.68</td>\n",
       "      <td>112519.90</td>\n",
       "      <td>False</td>\n",
       "      <td>Tarjeta de crédito</td>\n",
       "      <td>2016-04-28</td>\n",
       "      <td>0.0</td>\n",
       "    </tr>\n",
       "    <tr>\n",
       "      <th>14</th>\n",
       "      <td>13</td>\n",
       "      <td>Ana</td>\n",
       "      <td>Sánchez</td>\n",
       "      <td>30</td>\n",
       "      <td>Salta</td>\n",
       "      <td>Estudiante</td>\n",
       "      <td>115952.24</td>\n",
       "      <td>185763.10</td>\n",
       "      <td>False</td>\n",
       "      <td>Tarjeta de crédito</td>\n",
       "      <td>2021-08-28</td>\n",
       "      <td>3.0</td>\n",
       "    </tr>\n",
       "    <tr>\n",
       "      <th>15</th>\n",
       "      <td>14</td>\n",
       "      <td>Pedro</td>\n",
       "      <td>López</td>\n",
       "      <td>21</td>\n",
       "      <td>Salta</td>\n",
       "      <td>Empleado</td>\n",
       "      <td>0.00</td>\n",
       "      <td>154866.94</td>\n",
       "      <td>True</td>\n",
       "      <td>Cuenta corriente</td>\n",
       "      <td>2019-03-14</td>\n",
       "      <td>9.0</td>\n",
       "    </tr>\n",
       "    <tr>\n",
       "      <th>16</th>\n",
       "      <td>15</td>\n",
       "      <td>Sofía</td>\n",
       "      <td>Romero</td>\n",
       "      <td>39</td>\n",
       "      <td>Tucumán</td>\n",
       "      <td>Estudiante</td>\n",
       "      <td>56193.51</td>\n",
       "      <td>143131.99</td>\n",
       "      <td>True</td>\n",
       "      <td>Tarjeta de crédito</td>\n",
       "      <td>2015-06-19</td>\n",
       "      <td>2.0</td>\n",
       "    </tr>\n",
       "    <tr>\n",
       "      <th>17</th>\n",
       "      <td>16</td>\n",
       "      <td>Carlos</td>\n",
       "      <td>Martínez</td>\n",
       "      <td>24</td>\n",
       "      <td>Santa Fe</td>\n",
       "      <td>Empresario</td>\n",
       "      <td>57109.99</td>\n",
       "      <td>250503.77</td>\n",
       "      <td>True</td>\n",
       "      <td>Préstamo personal</td>\n",
       "      <td>2017-10-17</td>\n",
       "      <td>8.0</td>\n",
       "    </tr>\n",
       "    <tr>\n",
       "      <th>18</th>\n",
       "      <td>17</td>\n",
       "      <td>María</td>\n",
       "      <td>Gómez</td>\n",
       "      <td>78</td>\n",
       "      <td>Santa Fe</td>\n",
       "      <td>Estudiante</td>\n",
       "      <td>192896.43</td>\n",
       "      <td>98631.35</td>\n",
       "      <td>True</td>\n",
       "      <td>Plazo fijo</td>\n",
       "      <td>2023-03-17</td>\n",
       "      <td>6.0</td>\n",
       "    </tr>\n",
       "    <tr>\n",
       "      <th>19</th>\n",
       "      <td>18</td>\n",
       "      <td>Ana</td>\n",
       "      <td>López</td>\n",
       "      <td>60</td>\n",
       "      <td>Chubut</td>\n",
       "      <td>Jubilado</td>\n",
       "      <td>157980.68</td>\n",
       "      <td>120394.66</td>\n",
       "      <td>True</td>\n",
       "      <td>Préstamo personal</td>\n",
       "      <td>2017-05-18</td>\n",
       "      <td>6.0</td>\n",
       "    </tr>\n",
       "    <tr>\n",
       "      <th>20</th>\n",
       "      <td>19</td>\n",
       "      <td>Sofía</td>\n",
       "      <td>Rodríguez</td>\n",
       "      <td>71</td>\n",
       "      <td>Mendoza</td>\n",
       "      <td>Desempleado</td>\n",
       "      <td>128725.87</td>\n",
       "      <td>149062.80</td>\n",
       "      <td>True</td>\n",
       "      <td>Tarjeta de crédito</td>\n",
       "      <td>2021-06-28</td>\n",
       "      <td>0.0</td>\n",
       "    </tr>\n",
       "    <tr>\n",
       "      <th>21</th>\n",
       "      <td>20</td>\n",
       "      <td>María</td>\n",
       "      <td>Díaz</td>\n",
       "      <td>41</td>\n",
       "      <td>Chubut</td>\n",
       "      <td>Empleado</td>\n",
       "      <td>-9321.66</td>\n",
       "      <td>246629.98</td>\n",
       "      <td>False</td>\n",
       "      <td>Tarjeta de crédito</td>\n",
       "      <td>2017-04-27</td>\n",
       "      <td>5.0</td>\n",
       "    </tr>\n",
       "  </tbody>\n",
       "</table>\n",
       "</div>"
      ],
      "text/plain": [
       "    ID_cliente  Nombre   Apellido  Edad     Provincia    Ocupacion  \\\n",
       "0            1   Diego  Fernández    67       Tucumán  Desempleado   \n",
       "1            2   Lucía     García    77      Santa Fe   Empresario   \n",
       "2            3     Ana    Sánchez    60         Salta  Desempleado   \n",
       "3            4  Carlos       Díaz    54      Santa Fe     Empleado   \n",
       "4            5   Diego      Gómez    32         Salta            0   \n",
       "5            6   Marta    Sánchez    45         Salta     Jubilado   \n",
       "6            7   Pedro     Romero    35       Mendoza  Desempleado   \n",
       "7            8   Diego  Rodríguez    51  Buenos Aires  Desempleado   \n",
       "10           9     Ana      López    39       Tucumán   Empresario   \n",
       "11          10  Carlos  Fernández    28       Mendoza   Estudiante   \n",
       "12          11   Lucía     García    75       Mendoza   Estudiante   \n",
       "13          12     Ana  Fernández    74       Neuquén   Empresario   \n",
       "14          13     Ana    Sánchez    30         Salta   Estudiante   \n",
       "15          14   Pedro      López    21         Salta     Empleado   \n",
       "16          15   Sofía     Romero    39       Tucumán   Estudiante   \n",
       "17          16  Carlos   Martínez    24      Santa Fe   Empresario   \n",
       "18          17   María      Gómez    78      Santa Fe   Estudiante   \n",
       "19          18     Ana      López    60        Chubut     Jubilado   \n",
       "20          19   Sofía  Rodríguez    71       Mendoza  Desempleado   \n",
       "21          20   María       Díaz    41        Chubut     Empleado   \n",
       "\n",
       "    Saldo_cuenta  Limite_credito  Tiene_tarjeta  Producto_principal  \\\n",
       "0           0.00       123027.71           True  Tarjeta de crédito   \n",
       "1      112856.92       182542.98           True      Caja de ahorro   \n",
       "2      175554.01            0.00           True          Plazo fijo   \n",
       "3       -6681.79       142505.72          False    Cuenta corriente   \n",
       "4       22934.41       171855.97          False      Caja de ahorro   \n",
       "5      133780.50       123626.87          False  Tarjeta de crédito   \n",
       "6      168198.39       191757.87           True  Tarjeta de crédito   \n",
       "7       75505.36       149290.36          False      Caja de ahorro   \n",
       "10         87.97        89675.23          False  Tarjeta de crédito   \n",
       "11     171596.21       123199.89          False    Cuenta corriente   \n",
       "12      59446.74       202327.42           True    Cuenta corriente   \n",
       "13      81937.68       112519.90          False  Tarjeta de crédito   \n",
       "14     115952.24       185763.10          False  Tarjeta de crédito   \n",
       "15          0.00       154866.94           True    Cuenta corriente   \n",
       "16      56193.51       143131.99           True  Tarjeta de crédito   \n",
       "17      57109.99       250503.77           True   Préstamo personal   \n",
       "18     192896.43        98631.35           True          Plazo fijo   \n",
       "19     157980.68       120394.66           True   Préstamo personal   \n",
       "20     128725.87       149062.80           True  Tarjeta de crédito   \n",
       "21      -9321.66       246629.98          False  Tarjeta de crédito   \n",
       "\n",
       "    Fecha_alta  Nivel_satisfaccion  \n",
       "0   2017-01-23                 6.0  \n",
       "1   2017-01-16                 8.0  \n",
       "2   2016-11-18                 5.0  \n",
       "3   2016-12-23                 2.0  \n",
       "4   2019-04-16                 4.0  \n",
       "5   2017-01-16                 0.0  \n",
       "6   2015-08-30                 0.0  \n",
       "7   2022-06-05                 6.0  \n",
       "10  2016-12-08                 2.0  \n",
       "11  2016-03-10                 6.0  \n",
       "12  2017-02-19                 1.0  \n",
       "13  2016-04-28                 0.0  \n",
       "14  2021-08-28                 3.0  \n",
       "15  2019-03-14                 9.0  \n",
       "16  2015-06-19                 2.0  \n",
       "17  2017-10-17                 8.0  \n",
       "18  2023-03-17                 6.0  \n",
       "19  2017-05-18                 6.0  \n",
       "20  2021-06-28                 0.0  \n",
       "21  2017-04-27                 5.0  "
      ]
     },
     "execution_count": 161,
     "metadata": {},
     "output_type": "execute_result"
    }
   ],
   "source": [
    "clientes.head(20)"
   ]
  },
  {
   "cell_type": "code",
   "execution_count": 153,
   "metadata": {
    "scrolled": true
   },
   "outputs": [
    {
     "data": {
      "text/html": [
       "<div>\n",
       "<style scoped>\n",
       "    .dataframe tbody tr th:only-of-type {\n",
       "        vertical-align: middle;\n",
       "    }\n",
       "\n",
       "    .dataframe tbody tr th {\n",
       "        vertical-align: top;\n",
       "    }\n",
       "\n",
       "    .dataframe thead th {\n",
       "        text-align: right;\n",
       "    }\n",
       "</style>\n",
       "<table border=\"1\" class=\"dataframe\">\n",
       "  <thead>\n",
       "    <tr style=\"text-align: right;\">\n",
       "      <th></th>\n",
       "      <th>ID_cliente</th>\n",
       "      <th>Nombre</th>\n",
       "      <th>Apellido</th>\n",
       "      <th>Edad</th>\n",
       "      <th>Provincia</th>\n",
       "      <th>Ocupacion</th>\n",
       "      <th>Saldo_cuenta</th>\n",
       "      <th>Limite_credito</th>\n",
       "      <th>Tiene_tarjeta</th>\n",
       "      <th>Producto_principal</th>\n",
       "      <th>Fecha_alta</th>\n",
       "      <th>Nivel_satisfaccion</th>\n",
       "    </tr>\n",
       "  </thead>\n",
       "  <tbody>\n",
       "    <tr>\n",
       "      <th>1998</th>\n",
       "      <td>1997</td>\n",
       "      <td>Diego</td>\n",
       "      <td>García</td>\n",
       "      <td>21</td>\n",
       "      <td>Chubut</td>\n",
       "      <td>Estudiante</td>\n",
       "      <td>156444.58</td>\n",
       "      <td>219933.48</td>\n",
       "      <td>True</td>\n",
       "      <td>Cuenta corriente</td>\n",
       "      <td>2020-08-21</td>\n",
       "      <td>2.0</td>\n",
       "    </tr>\n",
       "    <tr>\n",
       "      <th>1999</th>\n",
       "      <td>1998</td>\n",
       "      <td>Carlos</td>\n",
       "      <td>Fernández</td>\n",
       "      <td>68</td>\n",
       "      <td>Buenos Aires</td>\n",
       "      <td>Estudiante</td>\n",
       "      <td>173200.68</td>\n",
       "      <td>71142.03</td>\n",
       "      <td>False</td>\n",
       "      <td>Tarjeta de crédito</td>\n",
       "      <td>2018-04-29</td>\n",
       "      <td>1.0</td>\n",
       "    </tr>\n",
       "    <tr>\n",
       "      <th>2000</th>\n",
       "      <td>1999</td>\n",
       "      <td>María</td>\n",
       "      <td>Romero</td>\n",
       "      <td>71</td>\n",
       "      <td>Chubut</td>\n",
       "      <td>Desempleado</td>\n",
       "      <td>101537.86</td>\n",
       "      <td>128138.04</td>\n",
       "      <td>True</td>\n",
       "      <td>Plazo fijo</td>\n",
       "      <td>2018-11-24</td>\n",
       "      <td>3.0</td>\n",
       "    </tr>\n",
       "    <tr>\n",
       "      <th>2001</th>\n",
       "      <td>2000</td>\n",
       "      <td>Pedro</td>\n",
       "      <td>López</td>\n",
       "      <td>36</td>\n",
       "      <td>Salta</td>\n",
       "      <td>Empresario</td>\n",
       "      <td>81985.54</td>\n",
       "      <td>174885.53</td>\n",
       "      <td>True</td>\n",
       "      <td>Caja de ahorro</td>\n",
       "      <td>2019-04-10</td>\n",
       "      <td>8.0</td>\n",
       "    </tr>\n",
       "  </tbody>\n",
       "</table>\n",
       "</div>"
      ],
      "text/plain": [
       "      ID_cliente  Nombre   Apellido  Edad     Provincia    Ocupacion  \\\n",
       "1998        1997   Diego     García    21        Chubut   Estudiante   \n",
       "1999        1998  Carlos  Fernández    68  Buenos Aires   Estudiante   \n",
       "2000        1999   María     Romero    71        Chubut  Desempleado   \n",
       "2001        2000   Pedro      López    36         Salta   Empresario   \n",
       "\n",
       "      Saldo_cuenta  Limite_credito  Tiene_tarjeta  Producto_principal  \\\n",
       "1998     156444.58       219933.48           True    Cuenta corriente   \n",
       "1999     173200.68        71142.03          False  Tarjeta de crédito   \n",
       "2000     101537.86       128138.04           True          Plazo fijo   \n",
       "2001      81985.54       174885.53           True      Caja de ahorro   \n",
       "\n",
       "      Fecha_alta  Nivel_satisfaccion  \n",
       "1998  2020-08-21                 2.0  \n",
       "1999  2018-04-29                 1.0  \n",
       "2000  2018-11-24                 3.0  \n",
       "2001  2019-04-10                 8.0  "
      ]
     },
     "execution_count": 153,
     "metadata": {},
     "output_type": "execute_result"
    }
   ],
   "source": [
    "clientes.tail(4)"
   ]
  },
  {
   "cell_type": "code",
   "execution_count": 154,
   "metadata": {},
   "outputs": [
    {
     "data": {
      "text/plain": [
       "ID_cliente              0\n",
       "Nombre                  0\n",
       "Apellido                0\n",
       "Edad                    0\n",
       "Provincia               0\n",
       "Ocupacion             200\n",
       "Saldo_cuenta          200\n",
       "Limite_credito        200\n",
       "Tiene_tarjeta           0\n",
       "Producto_principal      0\n",
       "Fecha_alta              0\n",
       "Nivel_satisfaccion    200\n",
       "dtype: int64"
      ]
     },
     "execution_count": 154,
     "metadata": {},
     "output_type": "execute_result"
    }
   ],
   "source": [
    "# Verificar valores nulos en cada columna\n",
    "clientes.isnull().sum()"
   ]
  },
  {
   "cell_type": "code",
   "execution_count": null,
   "metadata": {},
   "outputs": [],
   "source": [
    "clientes.fillna(0, inplace=True)  # con 0  o # Eliminar filas con nulos df.dropna()"
   ]
  },
  {
   "cell_type": "code",
   "execution_count": 155,
   "metadata": {},
   "outputs": [
    {
     "data": {
      "text/plain": [
       "ID_cliente            2000\n",
       "Nombre                  10\n",
       "Apellido                10\n",
       "Edad                    62\n",
       "Provincia                8\n",
       "Ocupacion                5\n",
       "Saldo_cuenta          1800\n",
       "Limite_credito        1800\n",
       "Tiene_tarjeta            2\n",
       "Producto_principal       5\n",
       "Fecha_alta            1454\n",
       "Nivel_satisfaccion      10\n",
       "dtype: int64"
      ]
     },
     "execution_count": 155,
     "metadata": {},
     "output_type": "execute_result"
    }
   ],
   "source": [
    "# Verificar valores únicos en cada columna\n",
    "clientes.nunique()"
   ]
  },
  {
   "cell_type": "code",
   "execution_count": 156,
   "metadata": {},
   "outputs": [
    {
     "data": {
      "text/plain": [
       "np.int64(2)"
      ]
     },
     "execution_count": 156,
     "metadata": {},
     "output_type": "execute_result"
    }
   ],
   "source": [
    "# Verificar duplicados\n",
    "clientes.duplicated().sum()"
   ]
  },
  {
   "cell_type": "code",
   "execution_count": 159,
   "metadata": {},
   "outputs": [
    {
     "data": {
      "text/html": [
       "<div>\n",
       "<style scoped>\n",
       "    .dataframe tbody tr th:only-of-type {\n",
       "        vertical-align: middle;\n",
       "    }\n",
       "\n",
       "    .dataframe tbody tr th {\n",
       "        vertical-align: top;\n",
       "    }\n",
       "\n",
       "    .dataframe thead th {\n",
       "        text-align: right;\n",
       "    }\n",
       "</style>\n",
       "<table border=\"1\" class=\"dataframe\">\n",
       "  <thead>\n",
       "    <tr style=\"text-align: right;\">\n",
       "      <th></th>\n",
       "      <th>ID_cliente</th>\n",
       "      <th>Nombre</th>\n",
       "      <th>Apellido</th>\n",
       "      <th>Edad</th>\n",
       "      <th>Provincia</th>\n",
       "      <th>Ocupacion</th>\n",
       "      <th>Saldo_cuenta</th>\n",
       "      <th>Limite_credito</th>\n",
       "      <th>Tiene_tarjeta</th>\n",
       "      <th>Producto_principal</th>\n",
       "      <th>Fecha_alta</th>\n",
       "      <th>Nivel_satisfaccion</th>\n",
       "    </tr>\n",
       "  </thead>\n",
       "  <tbody>\n",
       "    <tr>\n",
       "      <th>8</th>\n",
       "      <td>8</td>\n",
       "      <td>Diego</td>\n",
       "      <td>Rodríguez</td>\n",
       "      <td>51</td>\n",
       "      <td>Buenos Aires</td>\n",
       "      <td>Desempleado</td>\n",
       "      <td>75505.36</td>\n",
       "      <td>149290.36</td>\n",
       "      <td>False</td>\n",
       "      <td>Caja de ahorro</td>\n",
       "      <td>2022-06-05</td>\n",
       "      <td>6.0</td>\n",
       "    </tr>\n",
       "    <tr>\n",
       "      <th>9</th>\n",
       "      <td>8</td>\n",
       "      <td>Diego</td>\n",
       "      <td>Rodríguez</td>\n",
       "      <td>51</td>\n",
       "      <td>Buenos Aires</td>\n",
       "      <td>Desempleado</td>\n",
       "      <td>75505.36</td>\n",
       "      <td>149290.36</td>\n",
       "      <td>False</td>\n",
       "      <td>Caja de ahorro</td>\n",
       "      <td>2022-06-05</td>\n",
       "      <td>6.0</td>\n",
       "    </tr>\n",
       "  </tbody>\n",
       "</table>\n",
       "</div>"
      ],
      "text/plain": [
       "   ID_cliente Nombre   Apellido  Edad     Provincia    Ocupacion  \\\n",
       "8           8  Diego  Rodríguez    51  Buenos Aires  Desempleado   \n",
       "9           8  Diego  Rodríguez    51  Buenos Aires  Desempleado   \n",
       "\n",
       "   Saldo_cuenta  Limite_credito  Tiene_tarjeta Producto_principal  Fecha_alta  \\\n",
       "8      75505.36       149290.36          False     Caja de ahorro  2022-06-05   \n",
       "9      75505.36       149290.36          False     Caja de ahorro  2022-06-05   \n",
       "\n",
       "   Nivel_satisfaccion  \n",
       "8                 6.0  \n",
       "9                 6.0  "
      ]
     },
     "execution_count": 159,
     "metadata": {},
     "output_type": "execute_result"
    }
   ],
   "source": [
    "clientes[clientes.duplicated()]"
   ]
  },
  {
   "cell_type": "code",
   "execution_count": 160,
   "metadata": {},
   "outputs": [],
   "source": [
    "clientes.drop_duplicates(inplace=True)  # Eliminar duplicados"
   ]
  },
  {
   "cell_type": "markdown",
   "metadata": {},
   "source": [
    "¿Cuál es el rango de edades de los clientes?"
   ]
  },
  {
   "cell_type": "code",
   "execution_count": 162,
   "metadata": {},
   "outputs": [
    {
     "name": "stdout",
     "output_type": "stream",
     "text": [
      "Los clientes tienen entre 18 y 79 años.\n"
     ]
    }
   ],
   "source": [
    "edad_min = clientes['Edad'].min()\n",
    "edad_max = clientes['Edad'].max()\n",
    "print(f\"Los clientes tienen entre {edad_min} y {edad_max} años.\")"
   ]
  },
  {
   "cell_type": "markdown",
   "metadata": {},
   "source": [
    "¿Cuántos clientes están desempleados?"
   ]
  },
  {
   "cell_type": "code",
   "execution_count": 163,
   "metadata": {},
   "outputs": [
    {
     "name": "stdout",
     "output_type": "stream",
     "text": [
      "Hay 355 clientes desempleados.\n"
     ]
    }
   ],
   "source": [
    "desempleados = clientes[clientes['Ocupacion'] == 'Desempleado']\n",
    "print(f\"Hay {desempleados.shape[0]} clientes desempleados.\")"
   ]
  },
  {
   "cell_type": "markdown",
   "metadata": {},
   "source": [
    "¿Cuales son los clientes menores de 21 años?"
   ]
  },
  {
   "cell_type": "code",
   "execution_count": 191,
   "metadata": {},
   "outputs": [
    {
     "data": {
      "text/html": [
       "<div>\n",
       "<style scoped>\n",
       "    .dataframe tbody tr th:only-of-type {\n",
       "        vertical-align: middle;\n",
       "    }\n",
       "\n",
       "    .dataframe tbody tr th {\n",
       "        vertical-align: top;\n",
       "    }\n",
       "\n",
       "    .dataframe thead th {\n",
       "        text-align: right;\n",
       "    }\n",
       "</style>\n",
       "<table border=\"1\" class=\"dataframe\">\n",
       "  <thead>\n",
       "    <tr style=\"text-align: right;\">\n",
       "      <th></th>\n",
       "      <th>ID_cliente</th>\n",
       "      <th>Nombre</th>\n",
       "      <th>Apellido</th>\n",
       "      <th>Edad</th>\n",
       "      <th>Provincia</th>\n",
       "      <th>Ocupacion</th>\n",
       "      <th>Saldo_cuenta</th>\n",
       "      <th>Limite_credito</th>\n",
       "      <th>Tiene_tarjeta</th>\n",
       "      <th>Producto_principal</th>\n",
       "      <th>Fecha_alta</th>\n",
       "      <th>Nivel_satisfaccion</th>\n",
       "    </tr>\n",
       "  </thead>\n",
       "  <tbody>\n",
       "    <tr>\n",
       "      <th>25</th>\n",
       "      <td>24</td>\n",
       "      <td>Sofía</td>\n",
       "      <td>Díaz</td>\n",
       "      <td>18</td>\n",
       "      <td>Santa Fe</td>\n",
       "      <td>Desempleado</td>\n",
       "      <td>112935.51</td>\n",
       "      <td>164345.14</td>\n",
       "      <td>True</td>\n",
       "      <td>Cuenta corriente</td>\n",
       "      <td>2015-02-01</td>\n",
       "      <td>4.0</td>\n",
       "    </tr>\n",
       "    <tr>\n",
       "      <th>27</th>\n",
       "      <td>26</td>\n",
       "      <td>Juan</td>\n",
       "      <td>López</td>\n",
       "      <td>20</td>\n",
       "      <td>Neuquén</td>\n",
       "      <td>Empleado</td>\n",
       "      <td>128468.30</td>\n",
       "      <td>177812.90</td>\n",
       "      <td>True</td>\n",
       "      <td>Plazo fijo</td>\n",
       "      <td>2023-02-12</td>\n",
       "      <td>7.0</td>\n",
       "    </tr>\n",
       "    <tr>\n",
       "      <th>32</th>\n",
       "      <td>31</td>\n",
       "      <td>Luis</td>\n",
       "      <td>Romero</td>\n",
       "      <td>18</td>\n",
       "      <td>Mendoza</td>\n",
       "      <td>Empleado</td>\n",
       "      <td>162714.24</td>\n",
       "      <td>206084.87</td>\n",
       "      <td>False</td>\n",
       "      <td>Plazo fijo</td>\n",
       "      <td>2022-03-29</td>\n",
       "      <td>4.0</td>\n",
       "    </tr>\n",
       "    <tr>\n",
       "      <th>45</th>\n",
       "      <td>44</td>\n",
       "      <td>Luis</td>\n",
       "      <td>García</td>\n",
       "      <td>20</td>\n",
       "      <td>Córdoba</td>\n",
       "      <td>Desempleado</td>\n",
       "      <td>64139.37</td>\n",
       "      <td>180666.15</td>\n",
       "      <td>False</td>\n",
       "      <td>Caja de ahorro</td>\n",
       "      <td>2021-03-07</td>\n",
       "      <td>7.0</td>\n",
       "    </tr>\n",
       "    <tr>\n",
       "      <th>53</th>\n",
       "      <td>52</td>\n",
       "      <td>Juan</td>\n",
       "      <td>Fernández</td>\n",
       "      <td>18</td>\n",
       "      <td>Tucumán</td>\n",
       "      <td>Desempleado</td>\n",
       "      <td>76249.84</td>\n",
       "      <td>225221.39</td>\n",
       "      <td>False</td>\n",
       "      <td>Préstamo personal</td>\n",
       "      <td>2022-03-27</td>\n",
       "      <td>2.0</td>\n",
       "    </tr>\n",
       "    <tr>\n",
       "      <th>...</th>\n",
       "      <td>...</td>\n",
       "      <td>...</td>\n",
       "      <td>...</td>\n",
       "      <td>...</td>\n",
       "      <td>...</td>\n",
       "      <td>...</td>\n",
       "      <td>...</td>\n",
       "      <td>...</td>\n",
       "      <td>...</td>\n",
       "      <td>...</td>\n",
       "      <td>...</td>\n",
       "      <td>...</td>\n",
       "    </tr>\n",
       "    <tr>\n",
       "      <th>1970</th>\n",
       "      <td>1969</td>\n",
       "      <td>Diego</td>\n",
       "      <td>García</td>\n",
       "      <td>20</td>\n",
       "      <td>Mendoza</td>\n",
       "      <td>Jubilado</td>\n",
       "      <td>55609.52</td>\n",
       "      <td>97788.30</td>\n",
       "      <td>True</td>\n",
       "      <td>Caja de ahorro</td>\n",
       "      <td>2015-03-22</td>\n",
       "      <td>5.0</td>\n",
       "    </tr>\n",
       "    <tr>\n",
       "      <th>1971</th>\n",
       "      <td>1970</td>\n",
       "      <td>Marta</td>\n",
       "      <td>Rodríguez</td>\n",
       "      <td>18</td>\n",
       "      <td>Buenos Aires</td>\n",
       "      <td>Empleado</td>\n",
       "      <td>57016.04</td>\n",
       "      <td>128447.39</td>\n",
       "      <td>False</td>\n",
       "      <td>Tarjeta de crédito</td>\n",
       "      <td>2020-11-04</td>\n",
       "      <td>6.0</td>\n",
       "    </tr>\n",
       "    <tr>\n",
       "      <th>1975</th>\n",
       "      <td>1974</td>\n",
       "      <td>Lucía</td>\n",
       "      <td>Fernández</td>\n",
       "      <td>18</td>\n",
       "      <td>Mendoza</td>\n",
       "      <td>Empleado</td>\n",
       "      <td>73653.75</td>\n",
       "      <td>131878.01</td>\n",
       "      <td>True</td>\n",
       "      <td>Préstamo personal</td>\n",
       "      <td>2015-07-04</td>\n",
       "      <td>6.0</td>\n",
       "    </tr>\n",
       "    <tr>\n",
       "      <th>1977</th>\n",
       "      <td>1976</td>\n",
       "      <td>Juan</td>\n",
       "      <td>Gómez</td>\n",
       "      <td>19</td>\n",
       "      <td>Mendoza</td>\n",
       "      <td>Empleado</td>\n",
       "      <td>133817.71</td>\n",
       "      <td>199459.50</td>\n",
       "      <td>False</td>\n",
       "      <td>Préstamo personal</td>\n",
       "      <td>2022-07-08</td>\n",
       "      <td>6.0</td>\n",
       "    </tr>\n",
       "    <tr>\n",
       "      <th>1986</th>\n",
       "      <td>1985</td>\n",
       "      <td>Carlos</td>\n",
       "      <td>Díaz</td>\n",
       "      <td>20</td>\n",
       "      <td>Córdoba</td>\n",
       "      <td>Jubilado</td>\n",
       "      <td>165438.92</td>\n",
       "      <td>157959.78</td>\n",
       "      <td>True</td>\n",
       "      <td>Caja de ahorro</td>\n",
       "      <td>2018-08-01</td>\n",
       "      <td>2.0</td>\n",
       "    </tr>\n",
       "  </tbody>\n",
       "</table>\n",
       "<p>96 rows × 12 columns</p>\n",
       "</div>"
      ],
      "text/plain": [
       "      ID_cliente  Nombre   Apellido  Edad     Provincia    Ocupacion  \\\n",
       "25            24   Sofía       Díaz    18      Santa Fe  Desempleado   \n",
       "27            26    Juan      López    20       Neuquén     Empleado   \n",
       "32            31    Luis     Romero    18       Mendoza     Empleado   \n",
       "45            44    Luis     García    20       Córdoba  Desempleado   \n",
       "53            52    Juan  Fernández    18       Tucumán  Desempleado   \n",
       "...          ...     ...        ...   ...           ...          ...   \n",
       "1970        1969   Diego     García    20       Mendoza     Jubilado   \n",
       "1971        1970   Marta  Rodríguez    18  Buenos Aires     Empleado   \n",
       "1975        1974   Lucía  Fernández    18       Mendoza     Empleado   \n",
       "1977        1976    Juan      Gómez    19       Mendoza     Empleado   \n",
       "1986        1985  Carlos       Díaz    20       Córdoba     Jubilado   \n",
       "\n",
       "      Saldo_cuenta  Limite_credito  Tiene_tarjeta  Producto_principal  \\\n",
       "25       112935.51       164345.14           True    Cuenta corriente   \n",
       "27       128468.30       177812.90           True          Plazo fijo   \n",
       "32       162714.24       206084.87          False          Plazo fijo   \n",
       "45        64139.37       180666.15          False      Caja de ahorro   \n",
       "53        76249.84       225221.39          False   Préstamo personal   \n",
       "...            ...             ...            ...                 ...   \n",
       "1970      55609.52        97788.30           True      Caja de ahorro   \n",
       "1971      57016.04       128447.39          False  Tarjeta de crédito   \n",
       "1975      73653.75       131878.01           True   Préstamo personal   \n",
       "1977     133817.71       199459.50          False   Préstamo personal   \n",
       "1986     165438.92       157959.78           True      Caja de ahorro   \n",
       "\n",
       "     Fecha_alta  Nivel_satisfaccion  \n",
       "25   2015-02-01                 4.0  \n",
       "27   2023-02-12                 7.0  \n",
       "32   2022-03-29                 4.0  \n",
       "45   2021-03-07                 7.0  \n",
       "53   2022-03-27                 2.0  \n",
       "...         ...                 ...  \n",
       "1970 2015-03-22                 5.0  \n",
       "1971 2020-11-04                 6.0  \n",
       "1975 2015-07-04                 6.0  \n",
       "1977 2022-07-08                 6.0  \n",
       "1986 2018-08-01                 2.0  \n",
       "\n",
       "[96 rows x 12 columns]"
      ]
     },
     "execution_count": 191,
     "metadata": {},
     "output_type": "execute_result"
    }
   ],
   "source": [
    "menoresde21= clientes[clientes['Edad'] < 21]\n",
    "menoresde21"
   ]
  },
  {
   "cell_type": "code",
   "execution_count": null,
   "metadata": {},
   "outputs": [],
   "source": [
    "# si quisiera guardar el resultado en un csv\n",
    "#menoresde21.to_csv('menores.csv', index=False)  # Guardar en CSV sin índice"
   ]
  },
  {
   "cell_type": "code",
   "execution_count": 193,
   "metadata": {},
   "outputs": [
    {
     "data": {
      "text/html": [
       "<div>\n",
       "<style scoped>\n",
       "    .dataframe tbody tr th:only-of-type {\n",
       "        vertical-align: middle;\n",
       "    }\n",
       "\n",
       "    .dataframe tbody tr th {\n",
       "        vertical-align: top;\n",
       "    }\n",
       "\n",
       "    .dataframe thead th {\n",
       "        text-align: right;\n",
       "    }\n",
       "</style>\n",
       "<table border=\"1\" class=\"dataframe\">\n",
       "  <thead>\n",
       "    <tr style=\"text-align: right;\">\n",
       "      <th></th>\n",
       "      <th>Nombre</th>\n",
       "      <th>Apellido</th>\n",
       "      <th>Edad</th>\n",
       "      <th>Provincia</th>\n",
       "    </tr>\n",
       "  </thead>\n",
       "  <tbody>\n",
       "    <tr>\n",
       "      <th>25</th>\n",
       "      <td>Sofía</td>\n",
       "      <td>Díaz</td>\n",
       "      <td>18</td>\n",
       "      <td>Santa Fe</td>\n",
       "    </tr>\n",
       "    <tr>\n",
       "      <th>27</th>\n",
       "      <td>Juan</td>\n",
       "      <td>López</td>\n",
       "      <td>20</td>\n",
       "      <td>Neuquén</td>\n",
       "    </tr>\n",
       "    <tr>\n",
       "      <th>32</th>\n",
       "      <td>Luis</td>\n",
       "      <td>Romero</td>\n",
       "      <td>18</td>\n",
       "      <td>Mendoza</td>\n",
       "    </tr>\n",
       "    <tr>\n",
       "      <th>45</th>\n",
       "      <td>Luis</td>\n",
       "      <td>García</td>\n",
       "      <td>20</td>\n",
       "      <td>Córdoba</td>\n",
       "    </tr>\n",
       "    <tr>\n",
       "      <th>53</th>\n",
       "      <td>Juan</td>\n",
       "      <td>Fernández</td>\n",
       "      <td>18</td>\n",
       "      <td>Tucumán</td>\n",
       "    </tr>\n",
       "    <tr>\n",
       "      <th>...</th>\n",
       "      <td>...</td>\n",
       "      <td>...</td>\n",
       "      <td>...</td>\n",
       "      <td>...</td>\n",
       "    </tr>\n",
       "    <tr>\n",
       "      <th>1970</th>\n",
       "      <td>Diego</td>\n",
       "      <td>García</td>\n",
       "      <td>20</td>\n",
       "      <td>Mendoza</td>\n",
       "    </tr>\n",
       "    <tr>\n",
       "      <th>1971</th>\n",
       "      <td>Marta</td>\n",
       "      <td>Rodríguez</td>\n",
       "      <td>18</td>\n",
       "      <td>Buenos Aires</td>\n",
       "    </tr>\n",
       "    <tr>\n",
       "      <th>1975</th>\n",
       "      <td>Lucía</td>\n",
       "      <td>Fernández</td>\n",
       "      <td>18</td>\n",
       "      <td>Mendoza</td>\n",
       "    </tr>\n",
       "    <tr>\n",
       "      <th>1977</th>\n",
       "      <td>Juan</td>\n",
       "      <td>Gómez</td>\n",
       "      <td>19</td>\n",
       "      <td>Mendoza</td>\n",
       "    </tr>\n",
       "    <tr>\n",
       "      <th>1986</th>\n",
       "      <td>Carlos</td>\n",
       "      <td>Díaz</td>\n",
       "      <td>20</td>\n",
       "      <td>Córdoba</td>\n",
       "    </tr>\n",
       "  </tbody>\n",
       "</table>\n",
       "<p>96 rows × 4 columns</p>\n",
       "</div>"
      ],
      "text/plain": [
       "      Nombre   Apellido  Edad     Provincia\n",
       "25     Sofía       Díaz    18      Santa Fe\n",
       "27      Juan      López    20       Neuquén\n",
       "32      Luis     Romero    18       Mendoza\n",
       "45      Luis     García    20       Córdoba\n",
       "53      Juan  Fernández    18       Tucumán\n",
       "...      ...        ...   ...           ...\n",
       "1970   Diego     García    20       Mendoza\n",
       "1971   Marta  Rodríguez    18  Buenos Aires\n",
       "1975   Lucía  Fernández    18       Mendoza\n",
       "1977    Juan      Gómez    19       Mendoza\n",
       "1986  Carlos       Díaz    20       Córdoba\n",
       "\n",
       "[96 rows x 4 columns]"
      ]
     },
     "execution_count": 193,
     "metadata": {},
     "output_type": "execute_result"
    }
   ],
   "source": [
    "menores4col= menoresde21[['Nombre','Apellido', 'Edad', 'Provincia']].copy()\n",
    "menores4col"
   ]
  },
  {
   "cell_type": "markdown",
   "metadata": {},
   "source": [
    "Creo una nueva columna con el nombre completo"
   ]
  },
  {
   "cell_type": "code",
   "execution_count": 194,
   "metadata": {},
   "outputs": [
    {
     "data": {
      "text/html": [
       "<div>\n",
       "<style scoped>\n",
       "    .dataframe tbody tr th:only-of-type {\n",
       "        vertical-align: middle;\n",
       "    }\n",
       "\n",
       "    .dataframe tbody tr th {\n",
       "        vertical-align: top;\n",
       "    }\n",
       "\n",
       "    .dataframe thead th {\n",
       "        text-align: right;\n",
       "    }\n",
       "</style>\n",
       "<table border=\"1\" class=\"dataframe\">\n",
       "  <thead>\n",
       "    <tr style=\"text-align: right;\">\n",
       "      <th></th>\n",
       "      <th>ID_cliente</th>\n",
       "      <th>Nombre</th>\n",
       "      <th>Apellido</th>\n",
       "      <th>Edad</th>\n",
       "      <th>Provincia</th>\n",
       "      <th>Ocupacion</th>\n",
       "      <th>Saldo_cuenta</th>\n",
       "      <th>Limite_credito</th>\n",
       "      <th>Tiene_tarjeta</th>\n",
       "      <th>Producto_principal</th>\n",
       "      <th>Fecha_alta</th>\n",
       "      <th>Nivel_satisfaccion</th>\n",
       "      <th>Nombre_Completo</th>\n",
       "    </tr>\n",
       "  </thead>\n",
       "  <tbody>\n",
       "    <tr>\n",
       "      <th>0</th>\n",
       "      <td>1</td>\n",
       "      <td>Diego</td>\n",
       "      <td>Fernández</td>\n",
       "      <td>67</td>\n",
       "      <td>Tucumán</td>\n",
       "      <td>Desempleado</td>\n",
       "      <td>0.00</td>\n",
       "      <td>123027.71</td>\n",
       "      <td>True</td>\n",
       "      <td>Tarjeta de crédito</td>\n",
       "      <td>2017-01-23</td>\n",
       "      <td>6.0</td>\n",
       "      <td>Diego Fernández</td>\n",
       "    </tr>\n",
       "    <tr>\n",
       "      <th>1</th>\n",
       "      <td>2</td>\n",
       "      <td>Lucía</td>\n",
       "      <td>García</td>\n",
       "      <td>77</td>\n",
       "      <td>Santa Fe</td>\n",
       "      <td>Empresario</td>\n",
       "      <td>112856.92</td>\n",
       "      <td>182542.98</td>\n",
       "      <td>True</td>\n",
       "      <td>Caja de ahorro</td>\n",
       "      <td>2017-01-16</td>\n",
       "      <td>8.0</td>\n",
       "      <td>Lucía García</td>\n",
       "    </tr>\n",
       "    <tr>\n",
       "      <th>2</th>\n",
       "      <td>3</td>\n",
       "      <td>Ana</td>\n",
       "      <td>Sánchez</td>\n",
       "      <td>60</td>\n",
       "      <td>Salta</td>\n",
       "      <td>Desempleado</td>\n",
       "      <td>175554.01</td>\n",
       "      <td>0.00</td>\n",
       "      <td>True</td>\n",
       "      <td>Plazo fijo</td>\n",
       "      <td>2016-11-18</td>\n",
       "      <td>5.0</td>\n",
       "      <td>Ana Sánchez</td>\n",
       "    </tr>\n",
       "    <tr>\n",
       "      <th>3</th>\n",
       "      <td>4</td>\n",
       "      <td>Carlos</td>\n",
       "      <td>Díaz</td>\n",
       "      <td>54</td>\n",
       "      <td>Santa Fe</td>\n",
       "      <td>Empleado</td>\n",
       "      <td>-6681.79</td>\n",
       "      <td>142505.72</td>\n",
       "      <td>False</td>\n",
       "      <td>Cuenta corriente</td>\n",
       "      <td>2016-12-23</td>\n",
       "      <td>2.0</td>\n",
       "      <td>Carlos Díaz</td>\n",
       "    </tr>\n",
       "    <tr>\n",
       "      <th>4</th>\n",
       "      <td>5</td>\n",
       "      <td>Diego</td>\n",
       "      <td>Gómez</td>\n",
       "      <td>32</td>\n",
       "      <td>Salta</td>\n",
       "      <td>0</td>\n",
       "      <td>22934.41</td>\n",
       "      <td>171855.97</td>\n",
       "      <td>False</td>\n",
       "      <td>Caja de ahorro</td>\n",
       "      <td>2019-04-16</td>\n",
       "      <td>4.0</td>\n",
       "      <td>Diego Gómez</td>\n",
       "    </tr>\n",
       "  </tbody>\n",
       "</table>\n",
       "</div>"
      ],
      "text/plain": [
       "   ID_cliente  Nombre   Apellido  Edad Provincia    Ocupacion  Saldo_cuenta  \\\n",
       "0           1   Diego  Fernández    67   Tucumán  Desempleado          0.00   \n",
       "1           2   Lucía     García    77  Santa Fe   Empresario     112856.92   \n",
       "2           3     Ana    Sánchez    60     Salta  Desempleado     175554.01   \n",
       "3           4  Carlos       Díaz    54  Santa Fe     Empleado      -6681.79   \n",
       "4           5   Diego      Gómez    32     Salta            0      22934.41   \n",
       "\n",
       "   Limite_credito  Tiene_tarjeta  Producto_principal Fecha_alta  \\\n",
       "0       123027.71           True  Tarjeta de crédito 2017-01-23   \n",
       "1       182542.98           True      Caja de ahorro 2017-01-16   \n",
       "2            0.00           True          Plazo fijo 2016-11-18   \n",
       "3       142505.72          False    Cuenta corriente 2016-12-23   \n",
       "4       171855.97          False      Caja de ahorro 2019-04-16   \n",
       "\n",
       "   Nivel_satisfaccion  Nombre_Completo  \n",
       "0                 6.0  Diego Fernández  \n",
       "1                 8.0     Lucía García  \n",
       "2                 5.0      Ana Sánchez  \n",
       "3                 2.0      Carlos Díaz  \n",
       "4                 4.0      Diego Gómez  "
      ]
     },
     "execution_count": 194,
     "metadata": {},
     "output_type": "execute_result"
    }
   ],
   "source": [
    "clientes['Nombre_Completo'] = clientes['Nombre'] + ' ' + clientes['Apellido']\n",
    "clientes.head()"
   ]
  },
  {
   "cell_type": "code",
   "execution_count": null,
   "metadata": {},
   "outputs": [],
   "source": [
    "#clientes.drop(['Nombre', 'Apellido'], axis=1, inplace=True)"
   ]
  },
  {
   "cell_type": "markdown",
   "metadata": {},
   "source": [
    "¿De qué provincias son los clientes? ¿Cuántos hay por provincia?"
   ]
  },
  {
   "cell_type": "code",
   "execution_count": 170,
   "metadata": {},
   "outputs": [
    {
     "name": "stdout",
     "output_type": "stream",
     "text": [
      "Provincia\n",
      "Córdoba         279\n",
      "Neuquén         256\n",
      "Tucumán         253\n",
      "Salta           253\n",
      "Chubut          244\n",
      "Buenos Aires    243\n",
      "Mendoza         237\n",
      "Santa Fe        235\n",
      "Name: count, dtype: int64\n"
     ]
    }
   ],
   "source": [
    "provincias = clientes['Provincia'].value_counts()\n",
    "print(provincias)"
   ]
  },
  {
   "cell_type": "markdown",
   "metadata": {},
   "source": [
    " ¿Cuál es el producto principal más común entre los clientes?"
   ]
  },
  {
   "cell_type": "code",
   "execution_count": 174,
   "metadata": {},
   "outputs": [
    {
     "name": "stdout",
     "output_type": "stream",
     "text": [
      "Producto_principal\n",
      "Cuenta corriente      437\n",
      "Caja de ahorro        405\n",
      "Plazo fijo            404\n",
      "Tarjeta de crédito    382\n",
      "Préstamo personal     372\n",
      "Name: count, dtype: int64\n"
     ]
    }
   ],
   "source": [
    "producto_mas_comun = clientes['Producto_principal'].value_counts()\n",
    "print(producto_mas_comun)"
   ]
  },
  {
   "cell_type": "markdown",
   "metadata": {},
   "source": [
    "¿Cómo se distribuyen los productos principales por provincia?"
   ]
  },
  {
   "cell_type": "code",
   "execution_count": null,
   "metadata": {},
   "outputs": [
    {
     "name": "stdout",
     "output_type": "stream",
     "text": [
      "Producto_principal  Caja de ahorro  Cuenta corriente  Plazo fijo  \\\n",
      "Provincia                                                          \n",
      "Buenos Aires                    49                56          47   \n",
      "Chubut                          49                56          51   \n",
      "Córdoba                         67                58          54   \n",
      "Mendoza                         45                52          45   \n",
      "Neuquén                         50                52          47   \n",
      "Salta                           57                57          54   \n",
      "Santa Fe                        43                54          39   \n",
      "Tucumán                         45                52          67   \n",
      "\n",
      "Producto_principal  Préstamo personal  Tarjeta de crédito  \n",
      "Provincia                                                  \n",
      "Buenos Aires                       47                  44  \n",
      "Chubut                             40                  48  \n",
      "Córdoba                            44                  56  \n",
      "Mendoza                            46                  49  \n",
      "Neuquén                            56                  51  \n",
      "Salta                              36                  49  \n",
      "Santa Fe                           54                  45  \n",
      "Tucumán                            49                  40  \n"
     ]
    }
   ],
   "source": [
    "productos_por_provincia =clientes.groupby(['Provincia', 'Producto_principal']).size().unstack(fill_value=0) ##el size cuenta filas por cada grupo, el unstack convierte el resultado en un DataFrame pivotea la tabla\n",
    "print(productos_por_provincia)"
   ]
  },
  {
   "cell_type": "markdown",
   "metadata": {},
   "source": [
    "¿Cuáles son los clientes más antiguos en el banco?"
   ]
  },
  {
   "cell_type": "code",
   "execution_count": 181,
   "metadata": {},
   "outputs": [
    {
     "name": "stdout",
     "output_type": "stream",
     "text": [
      "      ID_cliente Nombre  Apellido Fecha_alta\n",
      "922          921  Pedro      Díaz 2015-01-01\n",
      "686          685  Marta  Martínez 2015-01-01\n",
      "63            62  Sofía     López 2015-01-02\n",
      "314          313   Luis   Sánchez 2015-01-07\n",
      "1170        1169   Juan     Gómez 2015-01-08\n"
     ]
    }
   ],
   "source": [
    "clientes['Fecha_alta'] = pd.to_datetime(clientes['Fecha_alta']) ### convertimos el tipo de dato de object a datetime\n",
    "clientes_antiguos = clientes.sort_values('Fecha_alta').head(5)\n",
    "print(clientes_antiguos[['ID_cliente', 'Nombre','Apellido', 'Fecha_alta']])"
   ]
  },
  {
   "cell_type": "code",
   "execution_count": 182,
   "metadata": {},
   "outputs": [
    {
     "data": {
      "text/plain": [
       "Timestamp('2023-03-19 00:00:00')"
      ]
     },
     "execution_count": 182,
     "metadata": {},
     "output_type": "execute_result"
    }
   ],
   "source": [
    "clientes['Fecha_alta'].max() "
   ]
  },
  {
   "cell_type": "code",
   "execution_count": 186,
   "metadata": {},
   "outputs": [
    {
     "data": {
      "text/html": [
       "<div>\n",
       "<style scoped>\n",
       "    .dataframe tbody tr th:only-of-type {\n",
       "        vertical-align: middle;\n",
       "    }\n",
       "\n",
       "    .dataframe tbody tr th {\n",
       "        vertical-align: top;\n",
       "    }\n",
       "\n",
       "    .dataframe thead th {\n",
       "        text-align: right;\n",
       "    }\n",
       "</style>\n",
       "<table border=\"1\" class=\"dataframe\">\n",
       "  <thead>\n",
       "    <tr style=\"text-align: right;\">\n",
       "      <th></th>\n",
       "      <th>ID_cliente</th>\n",
       "      <th>Nombre</th>\n",
       "      <th>Apellido</th>\n",
       "      <th>Edad</th>\n",
       "      <th>Provincia</th>\n",
       "      <th>Ocupacion</th>\n",
       "      <th>Saldo_cuenta</th>\n",
       "      <th>Limite_credito</th>\n",
       "      <th>Tiene_tarjeta</th>\n",
       "      <th>Producto_principal</th>\n",
       "      <th>Fecha_alta</th>\n",
       "      <th>Nivel_satisfaccion</th>\n",
       "    </tr>\n",
       "  </thead>\n",
       "  <tbody>\n",
       "    <tr>\n",
       "      <th>686</th>\n",
       "      <td>685</td>\n",
       "      <td>Marta</td>\n",
       "      <td>Martínez</td>\n",
       "      <td>77</td>\n",
       "      <td>Tucumán</td>\n",
       "      <td>Empresario</td>\n",
       "      <td>109931.93</td>\n",
       "      <td>12968.19</td>\n",
       "      <td>False</td>\n",
       "      <td>Cuenta corriente</td>\n",
       "      <td>2015-01-01</td>\n",
       "      <td>9.0</td>\n",
       "    </tr>\n",
       "    <tr>\n",
       "      <th>922</th>\n",
       "      <td>921</td>\n",
       "      <td>Pedro</td>\n",
       "      <td>Díaz</td>\n",
       "      <td>67</td>\n",
       "      <td>Tucumán</td>\n",
       "      <td>Empresario</td>\n",
       "      <td>77251.48</td>\n",
       "      <td>172590.37</td>\n",
       "      <td>True</td>\n",
       "      <td>Tarjeta de crédito</td>\n",
       "      <td>2015-01-01</td>\n",
       "      <td>0.0</td>\n",
       "    </tr>\n",
       "  </tbody>\n",
       "</table>\n",
       "</div>"
      ],
      "text/plain": [
       "     ID_cliente Nombre  Apellido  Edad Provincia   Ocupacion  Saldo_cuenta  \\\n",
       "686         685  Marta  Martínez    77   Tucumán  Empresario     109931.93   \n",
       "922         921  Pedro      Díaz    67   Tucumán  Empresario      77251.48   \n",
       "\n",
       "     Limite_credito  Tiene_tarjeta  Producto_principal Fecha_alta  \\\n",
       "686        12968.19          False    Cuenta corriente 2015-01-01   \n",
       "922       172590.37           True  Tarjeta de crédito 2015-01-01   \n",
       "\n",
       "     Nivel_satisfaccion  \n",
       "686                 9.0  \n",
       "922                 0.0  "
      ]
     },
     "execution_count": 186,
     "metadata": {},
     "output_type": "execute_result"
    }
   ],
   "source": [
    "antiguo = clientes[clientes['Fecha_alta'] == clientes['Fecha_alta'].min()]\n",
    "antiguo"
   ]
  },
  {
   "cell_type": "markdown",
   "metadata": {},
   "source": [
    "¿Cuál es el promedio de satisfacción por ocupación?"
   ]
  },
  {
   "cell_type": "code",
   "execution_count": 188,
   "metadata": {},
   "outputs": [
    {
     "name": "stdout",
     "output_type": "stream",
     "text": [
      "Ocupacion\n",
      "Desempleado    5.008451\n",
      "0              4.970000\n",
      "Jubilado       4.947826\n",
      "Estudiante     4.843478\n",
      "Empresario     4.841432\n",
      "Empleado       4.747253\n",
      "Name: Nivel_satisfaccion, dtype: float64\n"
     ]
    }
   ],
   "source": [
    "satisfaccion_ocupacion = clientes.groupby('Ocupacion')['Nivel_satisfaccion'].mean().sort_values(ascending=False)\n",
    "print(satisfaccion_ocupacion)"
   ]
  },
  {
   "cell_type": "markdown",
   "metadata": {},
   "source": [
    "¿Qué porcentaje de clientes tiene tarjeta de crédito?"
   ]
  },
  {
   "cell_type": "code",
   "execution_count": 189,
   "metadata": {},
   "outputs": [
    {
     "name": "stdout",
     "output_type": "stream",
     "text": [
      "El 51.20% de los clientes tiene tarjeta de crédito.\n"
     ]
    }
   ],
   "source": [
    "porcentaje_tarjeta =clientes['Tiene_tarjeta'].mean() * 100\n",
    "print(f\"El {porcentaje_tarjeta:.2f}% de los clientes tiene tarjeta de crédito.\")"
   ]
  },
  {
   "cell_type": "markdown",
   "metadata": {},
   "source": [
    "¿Cuántos clientes tienen tarjeta y cuántos no?"
   ]
  },
  {
   "cell_type": "code",
   "execution_count": 190,
   "metadata": {},
   "outputs": [
    {
     "name": "stdout",
     "output_type": "stream",
     "text": [
      "Tiene_tarjeta\n",
      "True     1024\n",
      "False     976\n",
      "Name: count, dtype: int64\n",
      "\n",
      "Clientes con tarjeta: 1024\n",
      "Clientes sin tarjeta: 976\n"
     ]
    }
   ],
   "source": [
    "tarjeta_counts = clientes['Tiene_tarjeta'].value_counts()\n",
    "print(tarjeta_counts)\n",
    "\n",
    "# Si querés verlo más claro:\n",
    "print(f\"\\nClientes con tarjeta: {tarjeta_counts[True]}\")\n",
    "print(f\"Clientes sin tarjeta: {tarjeta_counts[False]}\")"
   ]
  },
  {
   "cell_type": "code",
   "execution_count": null,
   "metadata": {},
   "outputs": [],
   "source": []
  },
  {
   "cell_type": "code",
   "execution_count": null,
   "metadata": {},
   "outputs": [],
   "source": []
  },
  {
   "cell_type": "markdown",
   "metadata": {},
   "source": [
    "tipos de datos"
   ]
  },
  {
   "cell_type": "code",
   "execution_count": null,
   "metadata": {},
   "outputs": [],
   "source": [
    "# Supongamos que tienes una columna llamada 'columna_str' con valores de tipo str\n",
    "df['columna_str'] = ['1', '2', '3', '4', '5']\n",
    "\n",
    "# Convertir la columna de str a int\n",
    "df['columna_str'] = df['columna_str'].astype(int)\n",
    "\n",
    "# Verificar el cambio de tipo\n",
    "print(df.dtypes)"
   ]
  },
  {
   "cell_type": "markdown",
   "metadata": {},
   "source": [
    "### concat y append "
   ]
  },
  {
   "cell_type": "code",
   "execution_count": 126,
   "metadata": {},
   "outputs": [],
   "source": [
    "df1 = pd.DataFrame({'A': ['A0', 'A1', 'A2', 'A3'],\n",
    "                    'B': ['B0', 'B1', 'B2', 'B3'],\n",
    "                    'C': ['C0', 'C1', 'C2', 'C3'],\n",
    "                    'D': ['D0', 'D1', 'D2', 'D3']},\n",
    "                    index=[0, 1, 2, 3])\n",
    "   \n",
    "\n",
    "df2 = pd.DataFrame({'A': ['A4', 'A5', 'A6', 'A7'],\n",
    "                    'B': ['B4', 'B5', 'B6', 'B7'],\n",
    "                    'C': ['C4', 'C5', 'C6', 'C7'],\n",
    "                    'D': ['D4', 'D5', 'D6', 'D7']},\n",
    "                    index=[4, 5, 6, 7])\n",
    "\n",
    "\n",
    "df3 = pd.DataFrame({'A': ['A8', 'A9', 'A10', 'A11'],\n",
    "                    'B': ['B8', 'B9', 'B10', 'B11'],\n",
    "                    'C': ['C8', 'C9', 'C10', 'C11']},\n",
    "                    index=[8, 9, 10, 11])\n",
    "\n",
    "frames = [df1, df2, df3]\n"
   ]
  },
  {
   "cell_type": "code",
   "execution_count": 127,
   "metadata": {},
   "outputs": [
    {
     "data": {
      "text/html": [
       "<div>\n",
       "<style scoped>\n",
       "    .dataframe tbody tr th:only-of-type {\n",
       "        vertical-align: middle;\n",
       "    }\n",
       "\n",
       "    .dataframe tbody tr th {\n",
       "        vertical-align: top;\n",
       "    }\n",
       "\n",
       "    .dataframe thead th {\n",
       "        text-align: right;\n",
       "    }\n",
       "</style>\n",
       "<table border=\"1\" class=\"dataframe\">\n",
       "  <thead>\n",
       "    <tr style=\"text-align: right;\">\n",
       "      <th></th>\n",
       "      <th>A</th>\n",
       "      <th>B</th>\n",
       "      <th>C</th>\n",
       "    </tr>\n",
       "  </thead>\n",
       "  <tbody>\n",
       "    <tr>\n",
       "      <th>8</th>\n",
       "      <td>A8</td>\n",
       "      <td>B8</td>\n",
       "      <td>C8</td>\n",
       "    </tr>\n",
       "    <tr>\n",
       "      <th>9</th>\n",
       "      <td>A9</td>\n",
       "      <td>B9</td>\n",
       "      <td>C9</td>\n",
       "    </tr>\n",
       "    <tr>\n",
       "      <th>10</th>\n",
       "      <td>A10</td>\n",
       "      <td>B10</td>\n",
       "      <td>C10</td>\n",
       "    </tr>\n",
       "    <tr>\n",
       "      <th>11</th>\n",
       "      <td>A11</td>\n",
       "      <td>B11</td>\n",
       "      <td>C11</td>\n",
       "    </tr>\n",
       "  </tbody>\n",
       "</table>\n",
       "</div>"
      ],
      "text/plain": [
       "      A    B    C\n",
       "8    A8   B8   C8\n",
       "9    A9   B9   C9\n",
       "10  A10  B10  C10\n",
       "11  A11  B11  C11"
      ]
     },
     "execution_count": 127,
     "metadata": {},
     "output_type": "execute_result"
    }
   ],
   "source": [
    "df3"
   ]
  },
  {
   "cell_type": "code",
   "execution_count": 128,
   "metadata": {},
   "outputs": [
    {
     "data": {
      "text/html": [
       "<div>\n",
       "<style scoped>\n",
       "    .dataframe tbody tr th:only-of-type {\n",
       "        vertical-align: middle;\n",
       "    }\n",
       "\n",
       "    .dataframe tbody tr th {\n",
       "        vertical-align: top;\n",
       "    }\n",
       "\n",
       "    .dataframe thead th {\n",
       "        text-align: right;\n",
       "    }\n",
       "</style>\n",
       "<table border=\"1\" class=\"dataframe\">\n",
       "  <thead>\n",
       "    <tr style=\"text-align: right;\">\n",
       "      <th></th>\n",
       "      <th>A</th>\n",
       "      <th>B</th>\n",
       "      <th>C</th>\n",
       "      <th>D</th>\n",
       "    </tr>\n",
       "  </thead>\n",
       "  <tbody>\n",
       "    <tr>\n",
       "      <th>0</th>\n",
       "      <td>A0</td>\n",
       "      <td>B0</td>\n",
       "      <td>C0</td>\n",
       "      <td>D0</td>\n",
       "    </tr>\n",
       "    <tr>\n",
       "      <th>1</th>\n",
       "      <td>A1</td>\n",
       "      <td>B1</td>\n",
       "      <td>C1</td>\n",
       "      <td>D1</td>\n",
       "    </tr>\n",
       "    <tr>\n",
       "      <th>2</th>\n",
       "      <td>A2</td>\n",
       "      <td>B2</td>\n",
       "      <td>C2</td>\n",
       "      <td>D2</td>\n",
       "    </tr>\n",
       "    <tr>\n",
       "      <th>3</th>\n",
       "      <td>A3</td>\n",
       "      <td>B3</td>\n",
       "      <td>C3</td>\n",
       "      <td>D3</td>\n",
       "    </tr>\n",
       "    <tr>\n",
       "      <th>4</th>\n",
       "      <td>A4</td>\n",
       "      <td>B4</td>\n",
       "      <td>C4</td>\n",
       "      <td>D4</td>\n",
       "    </tr>\n",
       "    <tr>\n",
       "      <th>5</th>\n",
       "      <td>A5</td>\n",
       "      <td>B5</td>\n",
       "      <td>C5</td>\n",
       "      <td>D5</td>\n",
       "    </tr>\n",
       "    <tr>\n",
       "      <th>6</th>\n",
       "      <td>A6</td>\n",
       "      <td>B6</td>\n",
       "      <td>C6</td>\n",
       "      <td>D6</td>\n",
       "    </tr>\n",
       "    <tr>\n",
       "      <th>7</th>\n",
       "      <td>A7</td>\n",
       "      <td>B7</td>\n",
       "      <td>C7</td>\n",
       "      <td>D7</td>\n",
       "    </tr>\n",
       "    <tr>\n",
       "      <th>8</th>\n",
       "      <td>A8</td>\n",
       "      <td>B8</td>\n",
       "      <td>C8</td>\n",
       "      <td>NaN</td>\n",
       "    </tr>\n",
       "    <tr>\n",
       "      <th>9</th>\n",
       "      <td>A9</td>\n",
       "      <td>B9</td>\n",
       "      <td>C9</td>\n",
       "      <td>NaN</td>\n",
       "    </tr>\n",
       "    <tr>\n",
       "      <th>10</th>\n",
       "      <td>A10</td>\n",
       "      <td>B10</td>\n",
       "      <td>C10</td>\n",
       "      <td>NaN</td>\n",
       "    </tr>\n",
       "    <tr>\n",
       "      <th>11</th>\n",
       "      <td>A11</td>\n",
       "      <td>B11</td>\n",
       "      <td>C11</td>\n",
       "      <td>NaN</td>\n",
       "    </tr>\n",
       "  </tbody>\n",
       "</table>\n",
       "</div>"
      ],
      "text/plain": [
       "      A    B    C    D\n",
       "0    A0   B0   C0   D0\n",
       "1    A1   B1   C1   D1\n",
       "2    A2   B2   C2   D2\n",
       "3    A3   B3   C3   D3\n",
       "4    A4   B4   C4   D4\n",
       "5    A5   B5   C5   D5\n",
       "6    A6   B6   C6   D6\n",
       "7    A7   B7   C7   D7\n",
       "8    A8   B8   C8  NaN\n",
       "9    A9   B9   C9  NaN\n",
       "10  A10  B10  C10  NaN\n",
       "11  A11  B11  C11  NaN"
      ]
     },
     "execution_count": 128,
     "metadata": {},
     "output_type": "execute_result"
    }
   ],
   "source": [
    "pd.concat(frames)"
   ]
  },
  {
   "cell_type": "code",
   "execution_count": 129,
   "metadata": {},
   "outputs": [
    {
     "data": {
      "text/html": [
       "<div>\n",
       "<style scoped>\n",
       "    .dataframe tbody tr th:only-of-type {\n",
       "        vertical-align: middle;\n",
       "    }\n",
       "\n",
       "    .dataframe tbody tr th {\n",
       "        vertical-align: top;\n",
       "    }\n",
       "\n",
       "    .dataframe thead th {\n",
       "        text-align: right;\n",
       "    }\n",
       "</style>\n",
       "<table border=\"1\" class=\"dataframe\">\n",
       "  <thead>\n",
       "    <tr style=\"text-align: right;\">\n",
       "      <th></th>\n",
       "      <th>B</th>\n",
       "      <th>D</th>\n",
       "      <th>F</th>\n",
       "    </tr>\n",
       "  </thead>\n",
       "  <tbody>\n",
       "    <tr>\n",
       "      <th>2</th>\n",
       "      <td>B2</td>\n",
       "      <td>D2</td>\n",
       "      <td>F2</td>\n",
       "    </tr>\n",
       "    <tr>\n",
       "      <th>3</th>\n",
       "      <td>B3</td>\n",
       "      <td>D3</td>\n",
       "      <td>F3</td>\n",
       "    </tr>\n",
       "    <tr>\n",
       "      <th>6</th>\n",
       "      <td>B6</td>\n",
       "      <td>D6</td>\n",
       "      <td>F6</td>\n",
       "    </tr>\n",
       "    <tr>\n",
       "      <th>7</th>\n",
       "      <td>B7</td>\n",
       "      <td>D7</td>\n",
       "      <td>F7</td>\n",
       "    </tr>\n",
       "  </tbody>\n",
       "</table>\n",
       "</div>"
      ],
      "text/plain": [
       "    B   D   F\n",
       "2  B2  D2  F2\n",
       "3  B3  D3  F3\n",
       "6  B6  D6  F6\n",
       "7  B7  D7  F7"
      ]
     },
     "execution_count": 129,
     "metadata": {},
     "output_type": "execute_result"
    }
   ],
   "source": [
    "df4 = pd.DataFrame({'B': ['B2', 'B3', 'B6', 'B7'],\n",
    "                    'D': ['D2', 'D3', 'D6', 'D7'],\n",
    "                    'F': ['F2', 'F3', 'F6', 'F7']},\n",
    "                     index=[2, 3, 6, 7])\n",
    "df4"
   ]
  },
  {
   "cell_type": "code",
   "execution_count": 130,
   "metadata": {},
   "outputs": [
    {
     "data": {
      "text/html": [
       "<div>\n",
       "<style scoped>\n",
       "    .dataframe tbody tr th:only-of-type {\n",
       "        vertical-align: middle;\n",
       "    }\n",
       "\n",
       "    .dataframe tbody tr th {\n",
       "        vertical-align: top;\n",
       "    }\n",
       "\n",
       "    .dataframe thead th {\n",
       "        text-align: right;\n",
       "    }\n",
       "</style>\n",
       "<table border=\"1\" class=\"dataframe\">\n",
       "  <thead>\n",
       "    <tr style=\"text-align: right;\">\n",
       "      <th></th>\n",
       "      <th>A</th>\n",
       "      <th>B</th>\n",
       "      <th>C</th>\n",
       "      <th>D</th>\n",
       "      <th>F</th>\n",
       "    </tr>\n",
       "  </thead>\n",
       "  <tbody>\n",
       "    <tr>\n",
       "      <th>0</th>\n",
       "      <td>A0</td>\n",
       "      <td>B0</td>\n",
       "      <td>C0</td>\n",
       "      <td>D0</td>\n",
       "      <td>NaN</td>\n",
       "    </tr>\n",
       "    <tr>\n",
       "      <th>1</th>\n",
       "      <td>A1</td>\n",
       "      <td>B1</td>\n",
       "      <td>C1</td>\n",
       "      <td>D1</td>\n",
       "      <td>NaN</td>\n",
       "    </tr>\n",
       "    <tr>\n",
       "      <th>2</th>\n",
       "      <td>A2</td>\n",
       "      <td>B2</td>\n",
       "      <td>C2</td>\n",
       "      <td>D2</td>\n",
       "      <td>NaN</td>\n",
       "    </tr>\n",
       "    <tr>\n",
       "      <th>3</th>\n",
       "      <td>A3</td>\n",
       "      <td>B3</td>\n",
       "      <td>C3</td>\n",
       "      <td>D3</td>\n",
       "      <td>NaN</td>\n",
       "    </tr>\n",
       "    <tr>\n",
       "      <th>4</th>\n",
       "      <td>A4</td>\n",
       "      <td>B4</td>\n",
       "      <td>C4</td>\n",
       "      <td>D4</td>\n",
       "      <td>NaN</td>\n",
       "    </tr>\n",
       "    <tr>\n",
       "      <th>5</th>\n",
       "      <td>A5</td>\n",
       "      <td>B5</td>\n",
       "      <td>C5</td>\n",
       "      <td>D5</td>\n",
       "      <td>NaN</td>\n",
       "    </tr>\n",
       "    <tr>\n",
       "      <th>6</th>\n",
       "      <td>A6</td>\n",
       "      <td>B6</td>\n",
       "      <td>C6</td>\n",
       "      <td>D6</td>\n",
       "      <td>NaN</td>\n",
       "    </tr>\n",
       "    <tr>\n",
       "      <th>7</th>\n",
       "      <td>A7</td>\n",
       "      <td>B7</td>\n",
       "      <td>C7</td>\n",
       "      <td>D7</td>\n",
       "      <td>NaN</td>\n",
       "    </tr>\n",
       "    <tr>\n",
       "      <th>8</th>\n",
       "      <td>A8</td>\n",
       "      <td>B8</td>\n",
       "      <td>C8</td>\n",
       "      <td>NaN</td>\n",
       "      <td>NaN</td>\n",
       "    </tr>\n",
       "    <tr>\n",
       "      <th>9</th>\n",
       "      <td>A9</td>\n",
       "      <td>B9</td>\n",
       "      <td>C9</td>\n",
       "      <td>NaN</td>\n",
       "      <td>NaN</td>\n",
       "    </tr>\n",
       "    <tr>\n",
       "      <th>10</th>\n",
       "      <td>A10</td>\n",
       "      <td>B10</td>\n",
       "      <td>C10</td>\n",
       "      <td>NaN</td>\n",
       "      <td>NaN</td>\n",
       "    </tr>\n",
       "    <tr>\n",
       "      <th>11</th>\n",
       "      <td>A11</td>\n",
       "      <td>B11</td>\n",
       "      <td>C11</td>\n",
       "      <td>NaN</td>\n",
       "      <td>NaN</td>\n",
       "    </tr>\n",
       "    <tr>\n",
       "      <th>2</th>\n",
       "      <td>NaN</td>\n",
       "      <td>B2</td>\n",
       "      <td>NaN</td>\n",
       "      <td>D2</td>\n",
       "      <td>F2</td>\n",
       "    </tr>\n",
       "    <tr>\n",
       "      <th>3</th>\n",
       "      <td>NaN</td>\n",
       "      <td>B3</td>\n",
       "      <td>NaN</td>\n",
       "      <td>D3</td>\n",
       "      <td>F3</td>\n",
       "    </tr>\n",
       "    <tr>\n",
       "      <th>6</th>\n",
       "      <td>NaN</td>\n",
       "      <td>B6</td>\n",
       "      <td>NaN</td>\n",
       "      <td>D6</td>\n",
       "      <td>F6</td>\n",
       "    </tr>\n",
       "    <tr>\n",
       "      <th>7</th>\n",
       "      <td>NaN</td>\n",
       "      <td>B7</td>\n",
       "      <td>NaN</td>\n",
       "      <td>D7</td>\n",
       "      <td>F7</td>\n",
       "    </tr>\n",
       "  </tbody>\n",
       "</table>\n",
       "</div>"
      ],
      "text/plain": [
       "      A    B    C    D    F\n",
       "0    A0   B0   C0   D0  NaN\n",
       "1    A1   B1   C1   D1  NaN\n",
       "2    A2   B2   C2   D2  NaN\n",
       "3    A3   B3   C3   D3  NaN\n",
       "4    A4   B4   C4   D4  NaN\n",
       "5    A5   B5   C5   D5  NaN\n",
       "6    A6   B6   C6   D6  NaN\n",
       "7    A7   B7   C7   D7  NaN\n",
       "8    A8   B8   C8  NaN  NaN\n",
       "9    A9   B9   C9  NaN  NaN\n",
       "10  A10  B10  C10  NaN  NaN\n",
       "11  A11  B11  C11  NaN  NaN\n",
       "2   NaN   B2  NaN   D2   F2\n",
       "3   NaN   B3  NaN   D3   F3\n",
       "6   NaN   B6  NaN   D6   F6\n",
       "7   NaN   B7  NaN   D7   F7"
      ]
     },
     "execution_count": 130,
     "metadata": {},
     "output_type": "execute_result"
    }
   ],
   "source": [
    "frames = [df1, df2, df3, df4]\n",
    "pd.concat(frames)"
   ]
  },
  {
   "cell_type": "code",
   "execution_count": 73,
   "metadata": {},
   "outputs": [
    {
     "data": {
      "text/html": [
       "<div>\n",
       "<style scoped>\n",
       "    .dataframe tbody tr th:only-of-type {\n",
       "        vertical-align: middle;\n",
       "    }\n",
       "\n",
       "    .dataframe tbody tr th {\n",
       "        vertical-align: top;\n",
       "    }\n",
       "\n",
       "    .dataframe thead th {\n",
       "        text-align: right;\n",
       "    }\n",
       "</style>\n",
       "<table border=\"1\" class=\"dataframe\">\n",
       "  <thead>\n",
       "    <tr style=\"text-align: right;\">\n",
       "      <th></th>\n",
       "      <th>A</th>\n",
       "      <th>B</th>\n",
       "      <th>C</th>\n",
       "      <th>D</th>\n",
       "      <th>B</th>\n",
       "      <th>D</th>\n",
       "      <th>F</th>\n",
       "    </tr>\n",
       "  </thead>\n",
       "  <tbody>\n",
       "    <tr>\n",
       "      <th>0</th>\n",
       "      <td>A0</td>\n",
       "      <td>B0</td>\n",
       "      <td>C0</td>\n",
       "      <td>D0</td>\n",
       "      <td>NaN</td>\n",
       "      <td>NaN</td>\n",
       "      <td>NaN</td>\n",
       "    </tr>\n",
       "    <tr>\n",
       "      <th>1</th>\n",
       "      <td>A1</td>\n",
       "      <td>B1</td>\n",
       "      <td>C1</td>\n",
       "      <td>D1</td>\n",
       "      <td>NaN</td>\n",
       "      <td>NaN</td>\n",
       "      <td>NaN</td>\n",
       "    </tr>\n",
       "    <tr>\n",
       "      <th>2</th>\n",
       "      <td>A2</td>\n",
       "      <td>B2</td>\n",
       "      <td>C2</td>\n",
       "      <td>D2</td>\n",
       "      <td>B2</td>\n",
       "      <td>D2</td>\n",
       "      <td>F2</td>\n",
       "    </tr>\n",
       "    <tr>\n",
       "      <th>3</th>\n",
       "      <td>A3</td>\n",
       "      <td>B3</td>\n",
       "      <td>C3</td>\n",
       "      <td>D3</td>\n",
       "      <td>B3</td>\n",
       "      <td>D3</td>\n",
       "      <td>F3</td>\n",
       "    </tr>\n",
       "    <tr>\n",
       "      <th>6</th>\n",
       "      <td>NaN</td>\n",
       "      <td>NaN</td>\n",
       "      <td>NaN</td>\n",
       "      <td>NaN</td>\n",
       "      <td>B6</td>\n",
       "      <td>D6</td>\n",
       "      <td>F6</td>\n",
       "    </tr>\n",
       "    <tr>\n",
       "      <th>7</th>\n",
       "      <td>NaN</td>\n",
       "      <td>NaN</td>\n",
       "      <td>NaN</td>\n",
       "      <td>NaN</td>\n",
       "      <td>B7</td>\n",
       "      <td>D7</td>\n",
       "      <td>F7</td>\n",
       "    </tr>\n",
       "  </tbody>\n",
       "</table>\n",
       "</div>"
      ],
      "text/plain": [
       "     A    B    C    D    B    D    F\n",
       "0   A0   B0   C0   D0  NaN  NaN  NaN\n",
       "1   A1   B1   C1   D1  NaN  NaN  NaN\n",
       "2   A2   B2   C2   D2   B2   D2   F2\n",
       "3   A3   B3   C3   D3   B3   D3   F3\n",
       "6  NaN  NaN  NaN  NaN   B6   D6   F6\n",
       "7  NaN  NaN  NaN  NaN   B7   D7   F7"
      ]
     },
     "execution_count": 73,
     "metadata": {},
     "output_type": "execute_result"
    }
   ],
   "source": [
    "pd.concat([df1, df4], axis=1) # Concatenación horizontal"
   ]
  },
  {
   "cell_type": "code",
   "execution_count": 134,
   "metadata": {},
   "outputs": [
    {
     "data": {
      "text/html": [
       "<div>\n",
       "<style scoped>\n",
       "    .dataframe tbody tr th:only-of-type {\n",
       "        vertical-align: middle;\n",
       "    }\n",
       "\n",
       "    .dataframe tbody tr th {\n",
       "        vertical-align: top;\n",
       "    }\n",
       "\n",
       "    .dataframe thead th {\n",
       "        text-align: right;\n",
       "    }\n",
       "</style>\n",
       "<table border=\"1\" class=\"dataframe\">\n",
       "  <thead>\n",
       "    <tr style=\"text-align: right;\">\n",
       "      <th></th>\n",
       "      <th>A</th>\n",
       "      <th>B</th>\n",
       "      <th>C</th>\n",
       "      <th>D</th>\n",
       "      <th>B</th>\n",
       "      <th>D</th>\n",
       "      <th>F</th>\n",
       "    </tr>\n",
       "  </thead>\n",
       "  <tbody>\n",
       "    <tr>\n",
       "      <th>2</th>\n",
       "      <td>A2</td>\n",
       "      <td>B2</td>\n",
       "      <td>C2</td>\n",
       "      <td>D2</td>\n",
       "      <td>B2</td>\n",
       "      <td>D2</td>\n",
       "      <td>F2</td>\n",
       "    </tr>\n",
       "    <tr>\n",
       "      <th>3</th>\n",
       "      <td>A3</td>\n",
       "      <td>B3</td>\n",
       "      <td>C3</td>\n",
       "      <td>D3</td>\n",
       "      <td>B3</td>\n",
       "      <td>D3</td>\n",
       "      <td>F3</td>\n",
       "    </tr>\n",
       "  </tbody>\n",
       "</table>\n",
       "</div>"
      ],
      "text/plain": [
       "    A   B   C   D   B   D   F\n",
       "2  A2  B2  C2  D2  B2  D2  F2\n",
       "3  A3  B3  C3  D3  B3  D3  F3"
      ]
     },
     "execution_count": 134,
     "metadata": {},
     "output_type": "execute_result"
    }
   ],
   "source": [
    "pd.concat([df1, df4], axis=1, join='inner') # Cambiando la forma de concatenar con join"
   ]
  },
  {
   "cell_type": "code",
   "execution_count": 135,
   "metadata": {},
   "outputs": [
    {
     "data": {
      "text/html": [
       "<div>\n",
       "<style scoped>\n",
       "    .dataframe tbody tr th:only-of-type {\n",
       "        vertical-align: middle;\n",
       "    }\n",
       "\n",
       "    .dataframe tbody tr th {\n",
       "        vertical-align: top;\n",
       "    }\n",
       "\n",
       "    .dataframe thead th {\n",
       "        text-align: right;\n",
       "    }\n",
       "</style>\n",
       "<table border=\"1\" class=\"dataframe\">\n",
       "  <thead>\n",
       "    <tr style=\"text-align: right;\">\n",
       "      <th></th>\n",
       "      <th>A</th>\n",
       "      <th>B</th>\n",
       "      <th>C</th>\n",
       "      <th>D</th>\n",
       "    </tr>\n",
       "  </thead>\n",
       "  <tbody>\n",
       "    <tr>\n",
       "      <th>0</th>\n",
       "      <td>A0</td>\n",
       "      <td>B0</td>\n",
       "      <td>C0</td>\n",
       "      <td>D0</td>\n",
       "    </tr>\n",
       "    <tr>\n",
       "      <th>1</th>\n",
       "      <td>A1</td>\n",
       "      <td>B1</td>\n",
       "      <td>C1</td>\n",
       "      <td>D1</td>\n",
       "    </tr>\n",
       "    <tr>\n",
       "      <th>2</th>\n",
       "      <td>A2</td>\n",
       "      <td>B2</td>\n",
       "      <td>C2</td>\n",
       "      <td>D2</td>\n",
       "    </tr>\n",
       "    <tr>\n",
       "      <th>3</th>\n",
       "      <td>A3</td>\n",
       "      <td>B3</td>\n",
       "      <td>C3</td>\n",
       "      <td>D3</td>\n",
       "    </tr>\n",
       "    <tr>\n",
       "      <th>4</th>\n",
       "      <td>A4</td>\n",
       "      <td>B4</td>\n",
       "      <td>C4</td>\n",
       "      <td>D4</td>\n",
       "    </tr>\n",
       "    <tr>\n",
       "      <th>5</th>\n",
       "      <td>A5</td>\n",
       "      <td>B5</td>\n",
       "      <td>C5</td>\n",
       "      <td>D5</td>\n",
       "    </tr>\n",
       "    <tr>\n",
       "      <th>6</th>\n",
       "      <td>A6</td>\n",
       "      <td>B6</td>\n",
       "      <td>C6</td>\n",
       "      <td>D6</td>\n",
       "    </tr>\n",
       "    <tr>\n",
       "      <th>7</th>\n",
       "      <td>A7</td>\n",
       "      <td>B7</td>\n",
       "      <td>C7</td>\n",
       "      <td>D7</td>\n",
       "    </tr>\n",
       "  </tbody>\n",
       "</table>\n",
       "</div>"
      ],
      "text/plain": [
       "    A   B   C   D\n",
       "0  A0  B0  C0  D0\n",
       "1  A1  B1  C1  D1\n",
       "2  A2  B2  C2  D2\n",
       "3  A3  B3  C3  D3\n",
       "4  A4  B4  C4  D4\n",
       "5  A5  B5  C5  D5\n",
       "6  A6  B6  C6  D6\n",
       "7  A7  B7  C7  D7"
      ]
     },
     "execution_count": 135,
     "metadata": {},
     "output_type": "execute_result"
    }
   ],
   "source": [
    "df1.append(df2) # Append es otra forma de fácilmente concatenerar"
   ]
  },
  {
   "cell_type": "markdown",
   "metadata": {},
   "source": [
    "### Merge"
   ]
  },
  {
   "cell_type": "code",
   "execution_count": 131,
   "metadata": {},
   "outputs": [
    {
     "data": {
      "text/html": [
       "<div>\n",
       "<style scoped>\n",
       "    .dataframe tbody tr th:only-of-type {\n",
       "        vertical-align: middle;\n",
       "    }\n",
       "\n",
       "    .dataframe tbody tr th {\n",
       "        vertical-align: top;\n",
       "    }\n",
       "\n",
       "    .dataframe thead th {\n",
       "        text-align: right;\n",
       "    }\n",
       "</style>\n",
       "<table border=\"1\" class=\"dataframe\">\n",
       "  <thead>\n",
       "    <tr style=\"text-align: right;\">\n",
       "      <th></th>\n",
       "      <th>key</th>\n",
       "      <th>A</th>\n",
       "      <th>B</th>\n",
       "      <th>C</th>\n",
       "      <th>D</th>\n",
       "    </tr>\n",
       "  </thead>\n",
       "  <tbody>\n",
       "    <tr>\n",
       "      <th>0</th>\n",
       "      <td>K0</td>\n",
       "      <td>A0</td>\n",
       "      <td>B0</td>\n",
       "      <td>C0</td>\n",
       "      <td>D0</td>\n",
       "    </tr>\n",
       "    <tr>\n",
       "      <th>1</th>\n",
       "      <td>K1</td>\n",
       "      <td>A1</td>\n",
       "      <td>B1</td>\n",
       "      <td>C1</td>\n",
       "      <td>D1</td>\n",
       "    </tr>\n",
       "    <tr>\n",
       "      <th>2</th>\n",
       "      <td>K2</td>\n",
       "      <td>A2</td>\n",
       "      <td>B2</td>\n",
       "      <td>C2</td>\n",
       "      <td>D2</td>\n",
       "    </tr>\n",
       "  </tbody>\n",
       "</table>\n",
       "</div>"
      ],
      "text/plain": [
       "  key   A   B   C   D\n",
       "0  K0  A0  B0  C0  D0\n",
       "1  K1  A1  B1  C1  D1\n",
       "2  K2  A2  B2  C2  D2"
      ]
     },
     "execution_count": 131,
     "metadata": {},
     "output_type": "execute_result"
    }
   ],
   "source": [
    "left = pd.DataFrame({'key': ['K0', 'K1', 'K2', 'K3'],\n",
    "                    'A': ['A0', 'A1', 'A2', 'A3'],\n",
    "                    'B': ['B0', 'B1', 'B2', 'B3']})\n",
    "\n",
    "\n",
    "right = pd.DataFrame({'key': ['K0', 'K1', 'K2'],\n",
    "                    'C': ['C0', 'C1', 'C2'],\n",
    "                    'D': ['D0', 'D1', 'D2']})\n",
    "\n",
    "\n",
    "pd.merge(left, right, on='key')"
   ]
  },
  {
   "cell_type": "markdown",
   "metadata": {},
   "source": [
    "### Join"
   ]
  },
  {
   "cell_type": "code",
   "execution_count": 132,
   "metadata": {},
   "outputs": [
    {
     "name": "stdout",
     "output_type": "stream",
     "text": [
      "     A   B   C   D\n",
      "K0  A0  B0  C0  D0\n",
      "K2  A2  B2  C1  D1\n"
     ]
    }
   ],
   "source": [
    "# Crear dos DataFrames de ejemplo\n",
    "df_left = pd.DataFrame({\n",
    "    'A': ['A0', 'A1', 'A2'],\n",
    "    'B': ['B0', 'B1', 'B2']\n",
    "}, index=['K0', 'K1', 'K2'])\n",
    "\n",
    "df_right = pd.DataFrame({\n",
    "    'C': ['C0', 'C1', 'C2'],\n",
    "    'D': ['D0', 'D1', 'D2']\n",
    "}, index=['K0', 'K2', 'K3'])\n",
    "\n",
    "# Realizar el join\n",
    "result = df_left.join(df_right, how='inner')\n",
    "print(result)"
   ]
  },
  {
   "cell_type": "code",
   "execution_count": 133,
   "metadata": {},
   "outputs": [
    {
     "data": {
      "text/html": [
       "<div>\n",
       "<style scoped>\n",
       "    .dataframe tbody tr th:only-of-type {\n",
       "        vertical-align: middle;\n",
       "    }\n",
       "\n",
       "    .dataframe tbody tr th {\n",
       "        vertical-align: top;\n",
       "    }\n",
       "\n",
       "    .dataframe thead th {\n",
       "        text-align: right;\n",
       "    }\n",
       "</style>\n",
       "<table border=\"1\" class=\"dataframe\">\n",
       "  <thead>\n",
       "    <tr style=\"text-align: right;\">\n",
       "      <th></th>\n",
       "      <th>A</th>\n",
       "      <th>B</th>\n",
       "    </tr>\n",
       "  </thead>\n",
       "  <tbody>\n",
       "    <tr>\n",
       "      <th>K0</th>\n",
       "      <td>A0</td>\n",
       "      <td>B0</td>\n",
       "    </tr>\n",
       "    <tr>\n",
       "      <th>K1</th>\n",
       "      <td>A1</td>\n",
       "      <td>B1</td>\n",
       "    </tr>\n",
       "    <tr>\n",
       "      <th>K2</th>\n",
       "      <td>A2</td>\n",
       "      <td>B2</td>\n",
       "    </tr>\n",
       "  </tbody>\n",
       "</table>\n",
       "</div>"
      ],
      "text/plain": [
       "     A   B\n",
       "K0  A0  B0\n",
       "K1  A1  B1\n",
       "K2  A2  B2"
      ]
     },
     "execution_count": 133,
     "metadata": {},
     "output_type": "execute_result"
    }
   ],
   "source": [
    "df_left"
   ]
  },
  {
   "cell_type": "code",
   "execution_count": 134,
   "metadata": {},
   "outputs": [
    {
     "data": {
      "text/html": [
       "<div>\n",
       "<style scoped>\n",
       "    .dataframe tbody tr th:only-of-type {\n",
       "        vertical-align: middle;\n",
       "    }\n",
       "\n",
       "    .dataframe tbody tr th {\n",
       "        vertical-align: top;\n",
       "    }\n",
       "\n",
       "    .dataframe thead th {\n",
       "        text-align: right;\n",
       "    }\n",
       "</style>\n",
       "<table border=\"1\" class=\"dataframe\">\n",
       "  <thead>\n",
       "    <tr style=\"text-align: right;\">\n",
       "      <th></th>\n",
       "      <th>C</th>\n",
       "      <th>D</th>\n",
       "    </tr>\n",
       "  </thead>\n",
       "  <tbody>\n",
       "    <tr>\n",
       "      <th>K0</th>\n",
       "      <td>C0</td>\n",
       "      <td>D0</td>\n",
       "    </tr>\n",
       "    <tr>\n",
       "      <th>K2</th>\n",
       "      <td>C1</td>\n",
       "      <td>D1</td>\n",
       "    </tr>\n",
       "    <tr>\n",
       "      <th>K3</th>\n",
       "      <td>C2</td>\n",
       "      <td>D2</td>\n",
       "    </tr>\n",
       "  </tbody>\n",
       "</table>\n",
       "</div>"
      ],
      "text/plain": [
       "     C   D\n",
       "K0  C0  D0\n",
       "K2  C1  D1\n",
       "K3  C2  D2"
      ]
     },
     "execution_count": 134,
     "metadata": {},
     "output_type": "execute_result"
    }
   ],
   "source": [
    "df_right"
   ]
  }
 ],
 "metadata": {
  "kernelspec": {
   "display_name": "Python 3",
   "language": "python",
   "name": "python3"
  },
  "language_info": {
   "codemirror_mode": {
    "name": "ipython",
    "version": 3
   },
   "file_extension": ".py",
   "mimetype": "text/x-python",
   "name": "python",
   "nbconvert_exporter": "python",
   "pygments_lexer": "ipython3",
   "version": "3.12.4"
  },
  "toc": {
   "base_numbering": 1,
   "nav_menu": {},
   "number_sections": false,
   "sideBar": false,
   "skip_h1_title": false,
   "title_cell": "Table of Contents",
   "title_sidebar": "Contents",
   "toc_cell": false,
   "toc_position": {},
   "toc_section_display": false,
   "toc_window_display": false
  }
 },
 "nbformat": 4,
 "nbformat_minor": 4
}
