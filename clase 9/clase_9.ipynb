{
 "cells": [
  {
   "cell_type": "markdown",
   "id": "84a545e1",
   "metadata": {},
   "source": [
    "\n",
    "# Data lakes y Teradata\n"
   ]
  },
  {
   "cell_type": "markdown",
   "id": "244a90e7",
   "metadata": {},
   "source": [
    "\n",
    "## Qué es un data lake?\n"
   ]
  },
  {
   "cell_type": "markdown",
   "id": "0d758988",
   "metadata": {},
   "source": [
    "Un data lake es un repositorio centralizado que permite almacenar datos en su forma más cruda:\n",
    "- Estructurados, como archivos CSV\n",
    "- Semiestructurados, como JSON y XML\n",
    "- No estructurados, como videos, logs, imágenes y PDFs\n",
    "\n",
    "Características clave:\n",
    "- No necesita un esquema rígido al ingresar los datos (schema-on-read)\n",
    "- Ideal para Big Data y Machine Learning\n",
    "- Permite almacenar grandes volúmenes a bajo costo\n",
    "\n",
    "Ejemplos de tecnologías:\n",
    "- Azure Data Lake\n",
    "- Amazon S3\n",
    "- Hadoop Distributed File System (HDFS)"
   ]
  },
  {
   "cell_type": "markdown",
   "id": "b5da6ec7",
   "metadata": {},
   "source": [
    "\n",
    "## Diferencias clave entre base de datos y data lake\n"
   ]
  },
  {
   "cell_type": "markdown",
   "id": "b289b571",
   "metadata": {},
   "source": [
    "Base de datos:\n",
    "- Tipo de datos: Estructurados\n",
    "- Esquema: Fijo (schema-on-write)\n",
    "- Velocidad de consulta: Alta para datos bien indexados\n",
    "- Casos de uso: Operacionales, reportes BI\n",
    "- Tecnologías de ejemplo: RDBMS, SQL\n",
    "\n",
    "Data Lake:\n",
    "- Tipo de datos: Estructurados, semiestructurados y no estructurados\n",
    "- Esquema: Flexible (schema-on-read)\n",
    "- Velocidad de consulta: Lenta si no se preparan los datos\n",
    "- Casos de uso: Análisis exploratorio, ciencia de datos, ML\n",
    "- Tecnologías de ejemplo: Hadoop, Spark, Cloud Storage"
   ]
  },
  {
   "cell_type": "markdown",
   "id": "f9fe3f76",
   "metadata": {},
   "source": [
    "\n",
    "## Por qué se usa ELT con data lakes?\n"
   ]
  },
  {
   "cell_type": "markdown",
   "id": "1f9f90cb",
   "metadata": {},
   "source": [
    "- Cargar sin transformar permite velocidad y flexibilidad\n",
    "- Tenés históricos crudos para auditar, reentrenar modelos o cambiar lógica\n",
    "- Separás responsabilidades: los ingenieros cargan, los analistas transforman"
   ]
  },
  {
   "cell_type": "markdown",
   "id": "ac7c447f",
   "metadata": {},
   "source": [
    "\n",
    "## On-prem vs. cloud\n"
   ]
  },
  {
   "cell_type": "markdown",
   "id": "7d8149cc",
   "metadata": {},
   "source": [
    "### On-premise\n",
    "- Ventajas:\n",
    "  - Control total de hardware y seguridad\n",
    "  - Cumplimiento de regulaciones estrictas (por ej., en bancos o gobiernos)\n",
    "  - Bajos costos si ya hay infraestructura existente\n",
    "- Desventajas:\n",
    "  - Alto costo inicial de instalación y mantenimiento\n",
    "  - Escalabilidad limitada\n",
    "  - Requiere personal técnico in-house\n",
    "\n",
    "- Cuándo usarlo:\n",
    "  - Si se necesita cumplir normas muy estrictas de residencia de datos\n",
    "  - Si ya se cuenta con un datacenter corporativo y equipo especializado"
   ]
  },
  {
   "cell_type": "markdown",
   "id": "be3021c8",
   "metadata": {},
   "source": [
    "### Cloud\n",
    "- Ventajas:\n",
    "  - Escalable y elástico (pagás por lo que usás)\n",
    "  - Bajo tiempo de implementación\n",
    "  - Acceso desde cualquier lugar\n",
    "  - Ideal para modelos ágiles y experimentación\n",
    "- Desventajas:\n",
    "  - Costos variables si no se gestionan bien\n",
    "  - Dependencia del proveedor\n",
    "  - Puede haber riesgos de compliance si no se configura correctamente\n",
    "- Cuándo usarlo:\n",
    "  - Para proyectos que necesitan escalar rápidamente\n",
    "  - Para analytics, IA, ciencia de datos o cargas temporales\n",
    "  - Cuando no se cuenta con infraestructura propia robusta"
   ]
  },
  {
   "cell_type": "markdown",
   "id": "e4ba8d4a",
   "metadata": {},
   "source": [
    "\n",
    "## Teradata: qué es y para qué sirve\n"
   ]
  },
  {
   "cell_type": "markdown",
   "id": "b9f91624",
   "metadata": {},
   "source": [
    "Teradata es una plataforma de análisis de datos, reconocida por su capacidad de procesar grandes volúmenes de información estructurada de forma rápida, robusta y escalable.\n",
    "\n",
    "Las siguientes características destacan Teradata:\n",
    "- Procesamiento Masivamente Paralelo (MPP)\n",
    "  - Divide las tareas en múltiples nodos para ejecutar operaciones complejas rápidamente.\n",
    "  - Ideal para grandes volúmenes de datos.\n",
    "- Alta escalabilidad\n",
    "  - Puede manejar desde GB hasta petabytes sin cambiar de motor.\n",
    "- Enfocado en análisis, no solo almacenamiento\n",
    "  - Optimizaciones avanzadas para consultas analíticas (OLAP), no solo transaccionales (OLTP).\n",
    "- Amplia integración\n",
    "  - Compatible con herramientas de BI (Power BI, Tableau), lenguajes (SQL, Python, R) y entornos cloud (AWS, Azure, GCP)."
   ]
  },
  {
   "cell_type": "markdown",
   "id": "ddb1b6d8",
   "metadata": {},
   "source": [
    "*Importante*: Teradata no reemplaza un data lake, dado que es más bien un data warehouse moderno. Es el lugar donde se trabaja con datos estructurados y listos para análisis o decisiones de negocio."
   ]
  },
  {
   "cell_type": "markdown",
   "id": "11c7c446",
   "metadata": {},
   "source": [
    "\n",
    "## Ejercicios\n"
   ]
  },
  {
   "cell_type": "code",
   "execution_count": 83,
   "id": "bb56e534",
   "metadata": {},
   "outputs": [],
   "source": [
    "import pandas as pd\n",
    "import teradatasql\n",
    "import requests"
   ]
  },
  {
   "cell_type": "code",
   "execution_count": 84,
   "id": "cea8a530",
   "metadata": {},
   "outputs": [],
   "source": [
    "import warnings\n",
    "warnings.filterwarnings('ignore')"
   ]
  },
  {
   "cell_type": "markdown",
   "id": "d92fab2b",
   "metadata": {},
   "source": [
    "- teradatasql: es el cliente oficial de Teradata basado en ODBC, puro Python, soportado por Teradata. Ideal para conectar desde cualquier notebook.\n",
    "- teradataml: cliente más orientado a data science y análisis con Pandas-like syntax, forma parte de ClearScape. Puede usarse junto con teradatasql para análisis más ricos.\n",
    "- sqlalchemy-teradata: integra Teradata con SQLAlchemy. Permite usar pandas.read_sql() o df.to_sql() con una interfaz común. No siempre está actualizado.\n",
    "- pyodbc: cliente genérico ODBC que también puede conectarse a Teradata, aunque menos recomendado que teradatasql por ser más pesado y menos específico."
   ]
  },
  {
   "cell_type": "markdown",
   "id": "678282f3",
   "metadata": {},
   "source": [
    "Teradata, a diferencia de MySQL o PostgreSQL, no tiene una GUI gráfica propia embebida en Clearscape. Si alguna vez querés una UI como SQL Server Management Studio o pgAdmin, podés descargar Teradata Studio, un cliente oficial."
   ]
  },
  {
   "cell_type": "code",
   "execution_count": 85,
   "id": "b405978f",
   "metadata": {},
   "outputs": [],
   "source": [
    "# Coordenadas de algunas ciudades argentinas\n",
    "ciudades = {\n",
    "    \"Buenos Aires\": (-34.61, -58.38),\n",
    "    \"Córdoba\": (-31.42, -64.18),\n",
    "    \"Mendoza\": (-32.89, -68.84),\n",
    "    \"Rosario\": (-32.95, -60.66),\n",
    "    \"Salta\": (-24.78, -65.41)\n",
    "}"
   ]
  },
  {
   "cell_type": "code",
   "execution_count": 86,
   "id": "47e94c5a",
   "metadata": {},
   "outputs": [],
   "source": [
    "datos_clima_lista = []\n",
    "\n",
    "# Recorremos cada ciudad y consultamos la API\n",
    "for ciudad, (lat, lon) in ciudades.items():\n",
    "    url = \"https://api.open-meteo.com/v1/forecast\"\n",
    "    params = {\n",
    "        \"latitude\": lat,\n",
    "        \"longitude\": lon,\n",
    "        \"current_weather\": \"true\"\n",
    "    }\n",
    "    response = requests.get(url, params=params)\n",
    "\n",
    "    if response.status_code == 200:\n",
    "        datos_clima = response.json()[\"current_weather\"]\n",
    "        #datos_clima[\"time\"] = pd.to_datetime(datos_clima[\"time\"])\n",
    "        datos_clima[\"ciudad\"] = ciudad\n",
    "        datos_clima_lista.append(datos_clima)\n",
    "    else:\n",
    "        print(f\"Error al obtener datos para {ciudad}: {response.status_code}\")\n"
   ]
  },
  {
   "cell_type": "code",
   "execution_count": 87,
   "id": "74a51556",
   "metadata": {},
   "outputs": [
    {
     "data": {
      "text/html": [
       "<div>\n",
       "<style scoped>\n",
       "    .dataframe tbody tr th:only-of-type {\n",
       "        vertical-align: middle;\n",
       "    }\n",
       "\n",
       "    .dataframe tbody tr th {\n",
       "        vertical-align: top;\n",
       "    }\n",
       "\n",
       "    .dataframe thead th {\n",
       "        text-align: right;\n",
       "    }\n",
       "</style>\n",
       "<table border=\"1\" class=\"dataframe\">\n",
       "  <thead>\n",
       "    <tr style=\"text-align: right;\">\n",
       "      <th></th>\n",
       "      <th>time</th>\n",
       "      <th>interval</th>\n",
       "      <th>temperature</th>\n",
       "      <th>windspeed</th>\n",
       "      <th>winddirection</th>\n",
       "      <th>is_day</th>\n",
       "      <th>weathercode</th>\n",
       "      <th>ciudad</th>\n",
       "    </tr>\n",
       "  </thead>\n",
       "  <tbody>\n",
       "    <tr>\n",
       "      <th>0</th>\n",
       "      <td>2025-04-23T14:45</td>\n",
       "      <td>900</td>\n",
       "      <td>20.5</td>\n",
       "      <td>6.9</td>\n",
       "      <td>351</td>\n",
       "      <td>1</td>\n",
       "      <td>3</td>\n",
       "      <td>Buenos Aires</td>\n",
       "    </tr>\n",
       "    <tr>\n",
       "      <th>1</th>\n",
       "      <td>2025-04-23T14:45</td>\n",
       "      <td>900</td>\n",
       "      <td>21.5</td>\n",
       "      <td>4.2</td>\n",
       "      <td>121</td>\n",
       "      <td>1</td>\n",
       "      <td>3</td>\n",
       "      <td>Córdoba</td>\n",
       "    </tr>\n",
       "    <tr>\n",
       "      <th>2</th>\n",
       "      <td>2025-04-23T14:45</td>\n",
       "      <td>900</td>\n",
       "      <td>21.5</td>\n",
       "      <td>9.6</td>\n",
       "      <td>110</td>\n",
       "      <td>1</td>\n",
       "      <td>0</td>\n",
       "      <td>Mendoza</td>\n",
       "    </tr>\n",
       "    <tr>\n",
       "      <th>3</th>\n",
       "      <td>2025-04-23T14:45</td>\n",
       "      <td>900</td>\n",
       "      <td>22.3</td>\n",
       "      <td>6.6</td>\n",
       "      <td>311</td>\n",
       "      <td>1</td>\n",
       "      <td>3</td>\n",
       "      <td>Rosario</td>\n",
       "    </tr>\n",
       "    <tr>\n",
       "      <th>4</th>\n",
       "      <td>2025-04-23T14:45</td>\n",
       "      <td>900</td>\n",
       "      <td>19.4</td>\n",
       "      <td>5.8</td>\n",
       "      <td>68</td>\n",
       "      <td>1</td>\n",
       "      <td>3</td>\n",
       "      <td>Salta</td>\n",
       "    </tr>\n",
       "  </tbody>\n",
       "</table>\n",
       "</div>"
      ],
      "text/plain": [
       "               time  interval  temperature  windspeed  winddirection  is_day  \\\n",
       "0  2025-04-23T14:45       900         20.5        6.9            351       1   \n",
       "1  2025-04-23T14:45       900         21.5        4.2            121       1   \n",
       "2  2025-04-23T14:45       900         21.5        9.6            110       1   \n",
       "3  2025-04-23T14:45       900         22.3        6.6            311       1   \n",
       "4  2025-04-23T14:45       900         19.4        5.8             68       1   \n",
       "\n",
       "   weathercode        ciudad  \n",
       "0            3  Buenos Aires  \n",
       "1            3       Córdoba  \n",
       "2            0       Mendoza  \n",
       "3            3       Rosario  \n",
       "4            3         Salta  "
      ]
     },
     "execution_count": 87,
     "metadata": {},
     "output_type": "execute_result"
    }
   ],
   "source": [
    "clima_df = pd.DataFrame(datos_clima_lista)\n",
    "clima_df"
   ]
  },
  {
   "cell_type": "markdown",
   "id": "54d41563",
   "metadata": {},
   "source": [
    "A continuación, establecemos la conexión con una instancia demo de Teradata"
   ]
  },
  {
   "cell_type": "code",
   "execution_count": 88,
   "id": "32b41501",
   "metadata": {},
   "outputs": [],
   "source": [
    "conn = teradatasql.connect(\n",
    "    host='bapro-clases-h7fjrvs721akksms.env.clearscape.teradata.com',\n",
    "    user='demo_user',\n",
    "    password='b4.b4Pr0!'\n",
    ")"
   ]
  },
  {
   "cell_type": "code",
   "execution_count": 89,
   "id": "207fcf79",
   "metadata": {},
   "outputs": [
    {
     "name": "stdout",
     "output_type": "stream",
     "text": [
      "['space_report']\n",
      "['remove_data']\n",
      "['get_data']\n",
      "['ClimaActual']\n"
     ]
    }
   ],
   "source": [
    "cursor = conn.cursor()\n",
    "\n",
    "# Mostrar tablas del esquema demo_user\n",
    "cursor.execute(\"\"\"\n",
    "    SELECT TableName \n",
    "    FROM DBC.TablesV \n",
    "    WHERE DatabaseName = 'demo_user'\n",
    "\"\"\")\n",
    "\n",
    "for row in cursor.fetchall():\n",
    "    print(row)"
   ]
  },
  {
   "cell_type": "markdown",
   "id": "470767c3",
   "metadata": {},
   "source": [
    "Todo lo que se vio de manipulación de strings se puede usar acá\n",
    "- Interpolación\n",
    "- Generar las queries dinámicamente\n",
    "- Iterar queries con distintas fechas\n",
    "- Etc"
   ]
  },
  {
   "cell_type": "code",
   "execution_count": 90,
   "id": "dd194961",
   "metadata": {},
   "outputs": [],
   "source": [
    "# Intenta eliminar la tabla si existe\n",
    "tabla_a_trabajar = 'ClimaActual'\n",
    "\n",
    "try:\n",
    "    cursor.execute(f\"DROP TABLE {tabla_a_trabajar}\")\n",
    "except teradatasql.OperationalError as e:\n",
    "    if \"3807\" in str(e):\n",
    "        print(\"La tabla no existe\")\n",
    "    else:\n",
    "        raise e\n"
   ]
  },
  {
   "cell_type": "code",
   "execution_count": 91,
   "id": "f1997cab",
   "metadata": {},
   "outputs": [
    {
     "data": {
      "text/plain": [
       "TeradataCursor uRowsHandle=51 bClosed=False"
      ]
     },
     "execution_count": 91,
     "metadata": {},
     "output_type": "execute_result"
    }
   ],
   "source": [
    "cursor.execute(\"\"\"\n",
    "    CREATE MULTISET TABLE ClimaActual (\n",
    "        ciudad VARCHAR(50),\n",
    "        temperature FLOAT,\n",
    "        windspeed FLOAT,\n",
    "        winddirection FLOAT,\n",
    "        weathercode INTEGER,\n",
    "        fecha_hora TIMESTAMP(0)\n",
    "    );\n",
    "\"\"\")\n"
   ]
  },
  {
   "cell_type": "code",
   "execution_count": 92,
   "id": "c2449090",
   "metadata": {},
   "outputs": [
    {
     "ename": "OperationalError",
     "evalue": "[Version 20.0.0.28] [Session 1262] [Teradata Database] [Error 6760] Invalid timestamp.\n at gosqldriver/teradatasql.formatError ErrorUtil.go:85\n at gosqldriver/teradatasql.(*teradataConnection).formatDatabaseError ErrorUtil.go:223\n at gosqldriver/teradatasql.(*teradataConnection).makeChainedDatabaseError ErrorUtil.go:239\n at gosqldriver/teradatasql.(*teradataConnection).processErrorParcel TeradataConnection.go:814\n at gosqldriver/teradatasql.(*TeradataRows).processResponseBundle TeradataRows.go:2412\n at gosqldriver/teradatasql.(*TeradataRows).executeSQLRequest TeradataRows.go:898\n at gosqldriver/teradatasql.newTeradataRows TeradataRows.go:736\n at gosqldriver/teradatasql.(*teradataStatement).QueryContext TeradataStatement.go:122\n at gosqldriver/teradatasql.(*teradataConnection).QueryContext TeradataConnection.go:1333\n at database/sql.ctxDriverQuery ctxutil.go:48\n at database/sql.(*DB).queryDC.func1 sql.go:1786\n at database/sql.withLock sql.go:3574\n at database/sql.(*DB).queryDC sql.go:1781\n at database/sql.(*Conn).QueryContext sql.go:2037\n at main.createRows goside.go:1081\n at main.goCreateRows goside.go:959\n at _cgoexp_ff5e33a08e40_goCreateRows _cgo_gotypes.go:417\n at runtime.cgocallbackg1 cgocall.go:444\n at runtime.cgocallbackg cgocall.go:350\n at runtime.cgocallback asm_amd64.s:1084\n at runtime.goexit asm_amd64.s:1700",
     "output_type": "error",
     "traceback": [
      "\u001b[1;31m---------------------------------------------------------------------------\u001b[0m",
      "\u001b[1;31mOperationalError\u001b[0m                          Traceback (most recent call last)",
      "Cell \u001b[1;32mIn[92], line 2\u001b[0m\n\u001b[0;32m      1\u001b[0m \u001b[38;5;28;01mfor\u001b[39;00m _, row \u001b[38;5;129;01min\u001b[39;00m clima_df\u001b[38;5;241m.\u001b[39miterrows():\n\u001b[1;32m----> 2\u001b[0m     \u001b[43mcursor\u001b[49m\u001b[38;5;241;43m.\u001b[39;49m\u001b[43mexecute\u001b[49m\u001b[43m(\u001b[49m\u001b[38;5;124;43m\"\"\"\u001b[39;49m\n\u001b[0;32m      3\u001b[0m \u001b[38;5;124;43m        INSERT INTO ClimaActual \u001b[39;49m\n\u001b[0;32m      4\u001b[0m \u001b[38;5;124;43m        (ciudad, temperature, windspeed, winddirection, weathercode, fecha_hora)\u001b[39;49m\n\u001b[0;32m      5\u001b[0m \u001b[38;5;124;43m        VALUES (?, ?, ?, ?, ?, ?)\u001b[39;49m\n\u001b[0;32m      6\u001b[0m \u001b[38;5;124;43m    \u001b[39;49m\u001b[38;5;124;43m\"\"\"\u001b[39;49m\u001b[43m,\u001b[49m\u001b[43m \u001b[49m\u001b[43m(\u001b[49m\n\u001b[0;32m      7\u001b[0m \u001b[43m        \u001b[49m\u001b[43mrow\u001b[49m\u001b[43m[\u001b[49m\u001b[38;5;124;43m\"\u001b[39;49m\u001b[38;5;124;43mciudad\u001b[39;49m\u001b[38;5;124;43m\"\u001b[39;49m\u001b[43m]\u001b[49m\u001b[43m,\u001b[49m\u001b[43m \u001b[49m\n\u001b[0;32m      8\u001b[0m \u001b[43m        \u001b[49m\u001b[43mrow\u001b[49m\u001b[43m[\u001b[49m\u001b[38;5;124;43m\"\u001b[39;49m\u001b[38;5;124;43mtemperature\u001b[39;49m\u001b[38;5;124;43m\"\u001b[39;49m\u001b[43m]\u001b[49m\u001b[43m,\u001b[49m\u001b[43m \u001b[49m\n\u001b[0;32m      9\u001b[0m \u001b[43m        \u001b[49m\u001b[43mrow\u001b[49m\u001b[43m[\u001b[49m\u001b[38;5;124;43m\"\u001b[39;49m\u001b[38;5;124;43mwindspeed\u001b[39;49m\u001b[38;5;124;43m\"\u001b[39;49m\u001b[43m]\u001b[49m\u001b[43m,\u001b[49m\u001b[43m \u001b[49m\n\u001b[0;32m     10\u001b[0m \u001b[43m        \u001b[49m\u001b[43mrow\u001b[49m\u001b[43m[\u001b[49m\u001b[38;5;124;43m\"\u001b[39;49m\u001b[38;5;124;43mwinddirection\u001b[39;49m\u001b[38;5;124;43m\"\u001b[39;49m\u001b[43m]\u001b[49m\u001b[43m,\u001b[49m\u001b[43m \u001b[49m\n\u001b[0;32m     11\u001b[0m \u001b[43m        \u001b[49m\u001b[43mrow\u001b[49m\u001b[43m[\u001b[49m\u001b[38;5;124;43m\"\u001b[39;49m\u001b[38;5;124;43mweathercode\u001b[39;49m\u001b[38;5;124;43m\"\u001b[39;49m\u001b[43m]\u001b[49m\u001b[43m,\u001b[49m\u001b[43m \u001b[49m\n\u001b[0;32m     12\u001b[0m \u001b[43m        \u001b[49m\u001b[43mrow\u001b[49m\u001b[43m[\u001b[49m\u001b[38;5;124;43m\"\u001b[39;49m\u001b[38;5;124;43mtime\u001b[39;49m\u001b[38;5;124;43m\"\u001b[39;49m\u001b[43m]\u001b[49m\n\u001b[0;32m     13\u001b[0m \u001b[43m    \u001b[49m\u001b[43m)\u001b[49m\u001b[43m)\u001b[49m\n",
      "File \u001b[1;32mc:\\Users\\Estefano\\AppData\\Local\\Programs\\Python\\Python312\\Lib\\site-packages\\teradatasql\\__init__.py:764\u001b[0m, in \u001b[0;36mTeradataCursor.execute\u001b[1;34m(self, sOperation, params, ignoreErrors)\u001b[0m\n\u001b[0;32m    761\u001b[0m         \u001b[38;5;28mself\u001b[39m\u001b[38;5;241m.\u001b[39mexecutemany (sOperation, params, ignoreErrors)\n\u001b[0;32m    763\u001b[0m     \u001b[38;5;28;01melse\u001b[39;00m:\n\u001b[1;32m--> 764\u001b[0m         \u001b[38;5;28;43mself\u001b[39;49m\u001b[38;5;241;43m.\u001b[39;49m\u001b[43mexecutemany\u001b[49m\u001b[43m \u001b[49m\u001b[43m(\u001b[49m\u001b[43msOperation\u001b[49m\u001b[43m,\u001b[49m\u001b[43m \u001b[49m\u001b[43m[\u001b[49m\u001b[43mparams\u001b[49m\u001b[43m,\u001b[49m\u001b[43m \u001b[49m\u001b[43m]\u001b[49m\u001b[43m,\u001b[49m\u001b[43m \u001b[49m\u001b[43mignoreErrors\u001b[49m\u001b[43m)\u001b[49m\n\u001b[0;32m    766\u001b[0m     \u001b[38;5;28;01mreturn\u001b[39;00m \u001b[38;5;28mself\u001b[39m\n\u001b[0;32m    768\u001b[0m \u001b[38;5;28;01mfinally\u001b[39;00m:\n",
      "File \u001b[1;32mc:\\Users\\Estefano\\AppData\\Local\\Programs\\Python\\Python312\\Lib\\site-packages\\teradatasql\\__init__.py:1010\u001b[0m, in \u001b[0;36mTeradataCursor.executemany\u001b[1;34m(self, sOperation, seqOfParams, ignoreErrors)\u001b[0m\n\u001b[0;32m   1007\u001b[0m     \u001b[38;5;28;01mif\u001b[39;00m bIgnore:\n\u001b[0;32m   1008\u001b[0m         \u001b[38;5;28;01mreturn\u001b[39;00m\n\u001b[1;32m-> 1010\u001b[0m     \u001b[38;5;28;01mraise\u001b[39;00m OperationalError (sErr)\n\u001b[0;32m   1012\u001b[0m \u001b[38;5;28;01mif\u001b[39;00m \u001b[38;5;28mself\u001b[39m\u001b[38;5;241m.\u001b[39mconnection\u001b[38;5;241m.\u001b[39mbTimingLog:\n\u001b[0;32m   1013\u001b[0m     timingLog (\u001b[38;5;124m\"\u001b[39m\u001b[38;5;124mexecutemany call to goCreateRows took \u001b[39m\u001b[38;5;132;01m{}\u001b[39;00m\u001b[38;5;124m ms\u001b[39m\u001b[38;5;124m\"\u001b[39m\u001b[38;5;241m.\u001b[39mformat ((time\u001b[38;5;241m.\u001b[39mtime () \u001b[38;5;241m-\u001b[39m dStartTime) \u001b[38;5;241m*\u001b[39m \u001b[38;5;241m1000.0\u001b[39m))\n",
      "\u001b[1;31mOperationalError\u001b[0m: [Version 20.0.0.28] [Session 1262] [Teradata Database] [Error 6760] Invalid timestamp.\n at gosqldriver/teradatasql.formatError ErrorUtil.go:85\n at gosqldriver/teradatasql.(*teradataConnection).formatDatabaseError ErrorUtil.go:223\n at gosqldriver/teradatasql.(*teradataConnection).makeChainedDatabaseError ErrorUtil.go:239\n at gosqldriver/teradatasql.(*teradataConnection).processErrorParcel TeradataConnection.go:814\n at gosqldriver/teradatasql.(*TeradataRows).processResponseBundle TeradataRows.go:2412\n at gosqldriver/teradatasql.(*TeradataRows).executeSQLRequest TeradataRows.go:898\n at gosqldriver/teradatasql.newTeradataRows TeradataRows.go:736\n at gosqldriver/teradatasql.(*teradataStatement).QueryContext TeradataStatement.go:122\n at gosqldriver/teradatasql.(*teradataConnection).QueryContext TeradataConnection.go:1333\n at database/sql.ctxDriverQuery ctxutil.go:48\n at database/sql.(*DB).queryDC.func1 sql.go:1786\n at database/sql.withLock sql.go:3574\n at database/sql.(*DB).queryDC sql.go:1781\n at database/sql.(*Conn).QueryContext sql.go:2037\n at main.createRows goside.go:1081\n at main.goCreateRows goside.go:959\n at _cgoexp_ff5e33a08e40_goCreateRows _cgo_gotypes.go:417\n at runtime.cgocallbackg1 cgocall.go:444\n at runtime.cgocallbackg cgocall.go:350\n at runtime.cgocallback asm_amd64.s:1084\n at runtime.goexit asm_amd64.s:1700"
     ]
    }
   ],
   "source": [
    "for _, row in clima_df.iterrows():\n",
    "    cursor.execute(\"\"\"\n",
    "        INSERT INTO ClimaActual \n",
    "        (ciudad, temperature, windspeed, winddirection, weathercode, fecha_hora)\n",
    "        VALUES (?, ?, ?, ?, ?, ?)\n",
    "    \"\"\", (\n",
    "        row[\"ciudad\"], \n",
    "        row[\"temperature\"], \n",
    "        row[\"windspeed\"], \n",
    "        row[\"winddirection\"], \n",
    "        row[\"weathercode\"], \n",
    "        row[\"time\"]\n",
    "    ))\n"
   ]
  },
  {
   "cell_type": "code",
   "execution_count": 93,
   "id": "9e11dea4",
   "metadata": {},
   "outputs": [
    {
     "data": {
      "text/plain": [
       "time              object\n",
       "interval           int64\n",
       "temperature      float64\n",
       "windspeed        float64\n",
       "winddirection      int64\n",
       "is_day             int64\n",
       "weathercode        int64\n",
       "ciudad            object\n",
       "dtype: object"
      ]
     },
     "execution_count": 93,
     "metadata": {},
     "output_type": "execute_result"
    }
   ],
   "source": [
    "clima_df.dtypes"
   ]
  },
  {
   "cell_type": "code",
   "execution_count": 94,
   "id": "15e24fd3",
   "metadata": {},
   "outputs": [],
   "source": [
    "clima_df[\"time\"] = pd.to_datetime(datos_clima[\"time\"])"
   ]
  },
  {
   "cell_type": "code",
   "execution_count": 95,
   "id": "12651386",
   "metadata": {},
   "outputs": [],
   "source": [
    "for _, row in clima_df.iterrows():\n",
    "    cursor.execute(\"\"\"\n",
    "        INSERT INTO ClimaActual \n",
    "        (ciudad, temperature, windspeed, winddirection, weathercode, fecha_hora)\n",
    "        VALUES (?, ?, ?, ?, ?, ?)\n",
    "    \"\"\", (\n",
    "        row[\"ciudad\"], \n",
    "        row[\"temperature\"], \n",
    "        row[\"windspeed\"], \n",
    "        row[\"winddirection\"], \n",
    "        row[\"weathercode\"], \n",
    "        row[\"time\"]\n",
    "    ))\n"
   ]
  },
  {
   "cell_type": "markdown",
   "id": "c17ba445",
   "metadata": {},
   "source": [
    "Podemos crear la query dinámicamente, también:"
   ]
  },
  {
   "cell_type": "code",
   "execution_count": 96,
   "id": "b107143b",
   "metadata": {},
   "outputs": [
    {
     "name": "stdout",
     "output_type": "stream",
     "text": [
      "\n",
      "INSERT INTO ClimaActual\n",
      "(ciudad, temperature, windspeed, winddirection, weathercode, fecha_hora)\n",
      "VALUES (?, ?, ?, ?, ?, ?)\n",
      "\n"
     ]
    }
   ],
   "source": [
    "campos_db = ['ciudad', 'temperature', 'windspeed', 'winddirection', 'weathercode', 'fecha_hora']\n",
    "\n",
    "query_a_definir = f\"\"\"\n",
    "INSERT INTO {tabla_a_trabajar}\n",
    "({', '.join(campos_db)})\n",
    "VALUES (?, ?, ?, ?, ?, ?)\n",
    "\"\"\"\n",
    "\n",
    "print(query_a_definir)"
   ]
  },
  {
   "cell_type": "markdown",
   "id": "90b6fe79",
   "metadata": {},
   "source": [
    "Ahora vamos a modificar valores de la tabla en Teradata desde este cliente."
   ]
  },
  {
   "cell_type": "code",
   "execution_count": 97,
   "id": "b1d7b61b",
   "metadata": {},
   "outputs": [
    {
     "data": {
      "text/plain": [
       "TeradataCursor uRowsHandle=58 bClosed=False"
      ]
     },
     "execution_count": 97,
     "metadata": {},
     "output_type": "execute_result"
    }
   ],
   "source": [
    "cursor.execute(\"\"\"\n",
    "    UPDATE ClimaActual\n",
    "    SET temperature = temperature + 5\n",
    "    WHERE ciudad = 'Córdoba'\n",
    "\"\"\")"
   ]
  },
  {
   "cell_type": "code",
   "execution_count": 98,
   "id": "aab41cef",
   "metadata": {},
   "outputs": [
    {
     "data": {
      "text/plain": [
       "TeradataCursor uRowsHandle=59 bClosed=False"
      ]
     },
     "execution_count": 98,
     "metadata": {},
     "output_type": "execute_result"
    }
   ],
   "source": [
    "cursor.execute(\"\"\"\n",
    "    UPDATE ClimaActual\n",
    "    SET windspeed = 80\n",
    "    WHERE ciudad = 'Salta'\n",
    "\"\"\")"
   ]
  },
  {
   "cell_type": "markdown",
   "id": "e44c153d",
   "metadata": {},
   "source": [
    "Ahora cargamos la tabla desde Teradata hacia un DataFrame en Pandas"
   ]
  },
  {
   "cell_type": "code",
   "execution_count": 99,
   "id": "90eca21e",
   "metadata": {},
   "outputs": [
    {
     "data": {
      "text/html": [
       "<div>\n",
       "<style scoped>\n",
       "    .dataframe tbody tr th:only-of-type {\n",
       "        vertical-align: middle;\n",
       "    }\n",
       "\n",
       "    .dataframe tbody tr th {\n",
       "        vertical-align: top;\n",
       "    }\n",
       "\n",
       "    .dataframe thead th {\n",
       "        text-align: right;\n",
       "    }\n",
       "</style>\n",
       "<table border=\"1\" class=\"dataframe\">\n",
       "  <thead>\n",
       "    <tr style=\"text-align: right;\">\n",
       "      <th></th>\n",
       "      <th>ciudad</th>\n",
       "      <th>temperature</th>\n",
       "      <th>windspeed</th>\n",
       "      <th>winddirection</th>\n",
       "      <th>weathercode</th>\n",
       "      <th>fecha_hora</th>\n",
       "    </tr>\n",
       "  </thead>\n",
       "  <tbody>\n",
       "    <tr>\n",
       "      <th>0</th>\n",
       "      <td>Córdoba</td>\n",
       "      <td>26.5</td>\n",
       "      <td>4.2</td>\n",
       "      <td>121.0</td>\n",
       "      <td>3</td>\n",
       "      <td>2025-04-23 14:45:00</td>\n",
       "    </tr>\n",
       "    <tr>\n",
       "      <th>1</th>\n",
       "      <td>Buenos Aires</td>\n",
       "      <td>20.5</td>\n",
       "      <td>6.9</td>\n",
       "      <td>351.0</td>\n",
       "      <td>3</td>\n",
       "      <td>2025-04-23 14:45:00</td>\n",
       "    </tr>\n",
       "    <tr>\n",
       "      <th>2</th>\n",
       "      <td>Rosario</td>\n",
       "      <td>22.3</td>\n",
       "      <td>6.6</td>\n",
       "      <td>311.0</td>\n",
       "      <td>3</td>\n",
       "      <td>2025-04-23 14:45:00</td>\n",
       "    </tr>\n",
       "    <tr>\n",
       "      <th>3</th>\n",
       "      <td>Mendoza</td>\n",
       "      <td>21.5</td>\n",
       "      <td>9.6</td>\n",
       "      <td>110.0</td>\n",
       "      <td>0</td>\n",
       "      <td>2025-04-23 14:45:00</td>\n",
       "    </tr>\n",
       "    <tr>\n",
       "      <th>4</th>\n",
       "      <td>Salta</td>\n",
       "      <td>19.4</td>\n",
       "      <td>80.0</td>\n",
       "      <td>68.0</td>\n",
       "      <td>3</td>\n",
       "      <td>2025-04-23 14:45:00</td>\n",
       "    </tr>\n",
       "  </tbody>\n",
       "</table>\n",
       "</div>"
      ],
      "text/plain": [
       "         ciudad  temperature  windspeed  winddirection  weathercode  \\\n",
       "0       Córdoba         26.5        4.2          121.0            3   \n",
       "1  Buenos Aires         20.5        6.9          351.0            3   \n",
       "2       Rosario         22.3        6.6          311.0            3   \n",
       "3       Mendoza         21.5        9.6          110.0            0   \n",
       "4         Salta         19.4       80.0           68.0            3   \n",
       "\n",
       "           fecha_hora  \n",
       "0 2025-04-23 14:45:00  \n",
       "1 2025-04-23 14:45:00  \n",
       "2 2025-04-23 14:45:00  \n",
       "3 2025-04-23 14:45:00  \n",
       "4 2025-04-23 14:45:00  "
      ]
     },
     "execution_count": 99,
     "metadata": {},
     "output_type": "execute_result"
    }
   ],
   "source": [
    "# Importante: hay que tener sqlalchemy actualizado para poder hacer el siguiente proceso.\n",
    "# Correr en la consola lo siguiente: pip install --upgrade sqlalchemy\n",
    "\n",
    "clima_actualizado_df = pd.read_sql(\"SELECT * FROM ClimaActual\", conn)\n",
    "clima_actualizado_df"
   ]
  },
  {
   "cell_type": "code",
   "execution_count": 100,
   "id": "911cbbc3",
   "metadata": {},
   "outputs": [
    {
     "data": {
      "text/html": [
       "<div>\n",
       "<style scoped>\n",
       "    .dataframe tbody tr th:only-of-type {\n",
       "        vertical-align: middle;\n",
       "    }\n",
       "\n",
       "    .dataframe tbody tr th {\n",
       "        vertical-align: top;\n",
       "    }\n",
       "\n",
       "    .dataframe thead th {\n",
       "        text-align: right;\n",
       "    }\n",
       "</style>\n",
       "<table border=\"1\" class=\"dataframe\">\n",
       "  <thead>\n",
       "    <tr style=\"text-align: right;\">\n",
       "      <th></th>\n",
       "      <th>time</th>\n",
       "      <th>interval</th>\n",
       "      <th>temperature</th>\n",
       "      <th>windspeed</th>\n",
       "      <th>winddirection</th>\n",
       "      <th>is_day</th>\n",
       "      <th>weathercode</th>\n",
       "      <th>ciudad</th>\n",
       "    </tr>\n",
       "  </thead>\n",
       "  <tbody>\n",
       "    <tr>\n",
       "      <th>0</th>\n",
       "      <td>2025-04-23 14:45:00</td>\n",
       "      <td>900</td>\n",
       "      <td>20.5</td>\n",
       "      <td>6.9</td>\n",
       "      <td>351</td>\n",
       "      <td>1</td>\n",
       "      <td>3</td>\n",
       "      <td>Buenos Aires</td>\n",
       "    </tr>\n",
       "    <tr>\n",
       "      <th>1</th>\n",
       "      <td>2025-04-23 14:45:00</td>\n",
       "      <td>900</td>\n",
       "      <td>21.5</td>\n",
       "      <td>4.2</td>\n",
       "      <td>121</td>\n",
       "      <td>1</td>\n",
       "      <td>3</td>\n",
       "      <td>Córdoba</td>\n",
       "    </tr>\n",
       "    <tr>\n",
       "      <th>2</th>\n",
       "      <td>2025-04-23 14:45:00</td>\n",
       "      <td>900</td>\n",
       "      <td>21.5</td>\n",
       "      <td>9.6</td>\n",
       "      <td>110</td>\n",
       "      <td>1</td>\n",
       "      <td>0</td>\n",
       "      <td>Mendoza</td>\n",
       "    </tr>\n",
       "    <tr>\n",
       "      <th>3</th>\n",
       "      <td>2025-04-23 14:45:00</td>\n",
       "      <td>900</td>\n",
       "      <td>22.3</td>\n",
       "      <td>6.6</td>\n",
       "      <td>311</td>\n",
       "      <td>1</td>\n",
       "      <td>3</td>\n",
       "      <td>Rosario</td>\n",
       "    </tr>\n",
       "    <tr>\n",
       "      <th>4</th>\n",
       "      <td>2025-04-23 14:45:00</td>\n",
       "      <td>900</td>\n",
       "      <td>19.4</td>\n",
       "      <td>5.8</td>\n",
       "      <td>68</td>\n",
       "      <td>1</td>\n",
       "      <td>3</td>\n",
       "      <td>Salta</td>\n",
       "    </tr>\n",
       "  </tbody>\n",
       "</table>\n",
       "</div>"
      ],
      "text/plain": [
       "                 time  interval  temperature  windspeed  winddirection  \\\n",
       "0 2025-04-23 14:45:00       900         20.5        6.9            351   \n",
       "1 2025-04-23 14:45:00       900         21.5        4.2            121   \n",
       "2 2025-04-23 14:45:00       900         21.5        9.6            110   \n",
       "3 2025-04-23 14:45:00       900         22.3        6.6            311   \n",
       "4 2025-04-23 14:45:00       900         19.4        5.8             68   \n",
       "\n",
       "   is_day  weathercode        ciudad  \n",
       "0       1            3  Buenos Aires  \n",
       "1       1            3       Córdoba  \n",
       "2       1            0       Mendoza  \n",
       "3       1            3       Rosario  \n",
       "4       1            3         Salta  "
      ]
     },
     "execution_count": 100,
     "metadata": {},
     "output_type": "execute_result"
    }
   ],
   "source": [
    "# Antes:\n",
    "clima_df"
   ]
  },
  {
   "cell_type": "code",
   "execution_count": 101,
   "id": "6f16e01e",
   "metadata": {},
   "outputs": [
    {
     "data": {
      "text/html": [
       "<div>\n",
       "<style scoped>\n",
       "    .dataframe tbody tr th:only-of-type {\n",
       "        vertical-align: middle;\n",
       "    }\n",
       "\n",
       "    .dataframe tbody tr th {\n",
       "        vertical-align: top;\n",
       "    }\n",
       "\n",
       "    .dataframe thead th {\n",
       "        text-align: right;\n",
       "    }\n",
       "</style>\n",
       "<table border=\"1\" class=\"dataframe\">\n",
       "  <thead>\n",
       "    <tr style=\"text-align: right;\">\n",
       "      <th></th>\n",
       "      <th>ciudad</th>\n",
       "      <th>temperature</th>\n",
       "      <th>windspeed</th>\n",
       "      <th>winddirection</th>\n",
       "      <th>weathercode</th>\n",
       "      <th>fecha_hora</th>\n",
       "    </tr>\n",
       "  </thead>\n",
       "  <tbody>\n",
       "    <tr>\n",
       "      <th>0</th>\n",
       "      <td>Córdoba</td>\n",
       "      <td>26.5</td>\n",
       "      <td>4.2</td>\n",
       "      <td>121.0</td>\n",
       "      <td>3</td>\n",
       "      <td>2025-04-23 14:45:00</td>\n",
       "    </tr>\n",
       "    <tr>\n",
       "      <th>1</th>\n",
       "      <td>Buenos Aires</td>\n",
       "      <td>20.5</td>\n",
       "      <td>6.9</td>\n",
       "      <td>351.0</td>\n",
       "      <td>3</td>\n",
       "      <td>2025-04-23 14:45:00</td>\n",
       "    </tr>\n",
       "    <tr>\n",
       "      <th>2</th>\n",
       "      <td>Rosario</td>\n",
       "      <td>22.3</td>\n",
       "      <td>6.6</td>\n",
       "      <td>311.0</td>\n",
       "      <td>3</td>\n",
       "      <td>2025-04-23 14:45:00</td>\n",
       "    </tr>\n",
       "    <tr>\n",
       "      <th>3</th>\n",
       "      <td>Mendoza</td>\n",
       "      <td>21.5</td>\n",
       "      <td>9.6</td>\n",
       "      <td>110.0</td>\n",
       "      <td>0</td>\n",
       "      <td>2025-04-23 14:45:00</td>\n",
       "    </tr>\n",
       "    <tr>\n",
       "      <th>4</th>\n",
       "      <td>Salta</td>\n",
       "      <td>19.4</td>\n",
       "      <td>80.0</td>\n",
       "      <td>68.0</td>\n",
       "      <td>3</td>\n",
       "      <td>2025-04-23 14:45:00</td>\n",
       "    </tr>\n",
       "  </tbody>\n",
       "</table>\n",
       "</div>"
      ],
      "text/plain": [
       "         ciudad  temperature  windspeed  winddirection  weathercode  \\\n",
       "0       Córdoba         26.5        4.2          121.0            3   \n",
       "1  Buenos Aires         20.5        6.9          351.0            3   \n",
       "2       Rosario         22.3        6.6          311.0            3   \n",
       "3       Mendoza         21.5        9.6          110.0            0   \n",
       "4         Salta         19.4       80.0           68.0            3   \n",
       "\n",
       "           fecha_hora  \n",
       "0 2025-04-23 14:45:00  \n",
       "1 2025-04-23 14:45:00  \n",
       "2 2025-04-23 14:45:00  \n",
       "3 2025-04-23 14:45:00  \n",
       "4 2025-04-23 14:45:00  "
      ]
     },
     "execution_count": 101,
     "metadata": {},
     "output_type": "execute_result"
    }
   ],
   "source": [
    "# Después\n",
    "clima_actualizado_df"
   ]
  },
  {
   "cell_type": "code",
   "execution_count": null,
   "id": "b9e07444",
   "metadata": {},
   "outputs": [],
   "source": []
  }
 ],
 "metadata": {
  "kernelspec": {
   "display_name": "Python 3",
   "language": "python",
   "name": "python3"
  },
  "language_info": {
   "codemirror_mode": {
    "name": "ipython",
    "version": 3
   },
   "file_extension": ".py",
   "mimetype": "text/x-python",
   "name": "python",
   "nbconvert_exporter": "python",
   "pygments_lexer": "ipython3",
   "version": "3.12.2"
  }
 },
 "nbformat": 4,
 "nbformat_minor": 5
}
