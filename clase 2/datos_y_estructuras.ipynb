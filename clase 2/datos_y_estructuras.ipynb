{
 "cells": [
  {
   "cell_type": "markdown",
   "metadata": {},
   "source": [
    "# Clase 2: Estructuras de Control y Estructuras de Datos Básicas\n",
    "\n",
    "## a. Condicionales: `if`, `else`, `elif`\n",
    "\n",
    "Las sentencias condicionales permiten ejecutar bloques de código basados en condiciones específicas.\n",
    "\n",
    "**Sintaxis básica:**\n",
    "\n",
    "```\n",
    "if condición:\n",
    "    # código si la condición es verdadera\n",
    "elif otra_condición:\n",
    "    # código si la otra_condición es verdadera\n",
    "else:\n",
    "    # código si ninguna de las condiciones anteriores es verdadera\n",
    "\n",
    "```"
   ]
  },
  {
   "cell_type": "code",
   "execution_count": null,
   "metadata": {},
   "outputs": [],
   "source": [
    "## Queremos que un bloque de código se ejecute solamente si sucede algo.\n",
    "## Para ello, usamos la instrucción if.\n",
    "# Ejemplo de condicionales\n",
    "edad = 17\n",
    "\n",
    "if edad < 18:\n",
    "    print(\"Sos menor de edad.\")\n",
    "\n",
    "if edad >= 18:\n",
    "    print(\"Sos mayor de edad.\")"
   ]
  },
  {
   "cell_type": "code",
   "execution_count": null,
   "metadata": {},
   "outputs": [],
   "source": [
    "## pero tambien podemos ejecutar un bloque de código si no se cumple la condición pero se cumple otra.\n",
    "edad = 18\n",
    "if edad < 18:\n",
    "    print(\"Sos menor de edad.\")\n",
    "elif edad == 18:\n",
    "    print(\"Tenes 18 años.\")"
   ]
  },
  {
   "cell_type": "code",
   "execution_count": null,
   "metadata": {},
   "outputs": [],
   "source": [
    "## y ademas, podemos ejecutar un bloque de código si no se cumple ninguna de las condiciones anteriores.\n",
    "edad = 19\n",
    "if edad < 18:\n",
    "    print(\"Sos menor de edad.\")\n",
    "elif edad == 18:\n",
    "    print(\"Tenes 18 años.\")\n",
    "else:\n",
    "    print(\"Sos mayor de edad.\")"
   ]
  },
  {
   "cell_type": "code",
   "execution_count": null,
   "metadata": {},
   "outputs": [],
   "source": [
    "## podemos usar operadores logicos o relacionales junto con los condicionales.\n",
    "## cualquier booleano puede ser usado en un condicional!\n",
    "\n",
    "if True:\n",
    "    print(\"Esto se va a imprimir.\")"
   ]
  },
  {
   "cell_type": "markdown",
   "metadata": {},
   "source": [
    "## b. Bucles: `for`, `while`\n",
    "\n",
    "Los bucles permiten ejecutar un bloque de código repetidamente.\n",
    "\n",
    "**Bucle `for`:** se utiliza para iterar sobre una secuencia (como una lista, tupla, que son estructuras de datos que veremos pronto)\n",
    "\n",
    "**Ejemplo:**\n"
   ]
  },
  {
   "cell_type": "code",
   "execution_count": null,
   "metadata": {},
   "outputs": [],
   "source": [
    "# un blucle \"for\" nos permite \"iterar\" sobre una lista, es decir, recorrerla elemento por elemento.\n",
    "# en cada iteración, la variable \"fruta\" tomará el valor de un elemento de la lista \"frutas\".\n",
    "\n",
    "frutas = ['manzana', 'banana', 'cereza']\n",
    "# frutas es una lista, por ahora quedemonos con la idea de que una lista es una secuencia de cosas. \n",
    "\n",
    "for fruta in frutas:\n",
    "    print(fruta)\n"
   ]
  },
  {
   "cell_type": "code",
   "execution_count": null,
   "metadata": {},
   "outputs": [],
   "source": [
    "## como siempre, podemos usar lo que ya vimos acá tambien \n",
    "\n",
    "letras = [\"a\", \"b\", \"c\", \"d\" , \"e\" ]\n",
    "\n",
    "for letra in letras: \n",
    "    if letra == \"a\":\n",
    "        print(\"Encontré una a!\")\n",
    "    elif letra == \"b\":\n",
    "        print(\"Encontré una b!\")\n",
    "    elif letra == \"c\": \n",
    "        print(\"Otra letra mas? Esta vez es la c\")\n",
    "    else:\n",
    "        print(\"Encontré otra letra!\")"
   ]
  },
  {
   "cell_type": "code",
   "execution_count": null,
   "metadata": {},
   "outputs": [],
   "source": [
    "## a veces no queremos recorrer una lista, sino que queremos recorrer una secuencia de números.\n",
    "## para eso, podemos usar la función range().\n",
    "\n",
    "for i in range(5):\n",
    "    print(i)"
   ]
  },
  {
   "cell_type": "code",
   "execution_count": null,
   "metadata": {},
   "outputs": [],
   "source": [
    "## ejercicio: sumar todos los numeros de 0 a 100. Asignarselo a la variable \"total\", dividir ese total por 2 y mostrarlo por pantalla.\n",
    "\n"
   ]
  },
  {
   "cell_type": "markdown",
   "metadata": {},
   "source": [
    "**Bucle `while`:** repite un bloque de código mientras una condición sea verdadera.\n",
    "\n",
    "**Ejemplo:**\n"
   ]
  },
  {
   "cell_type": "code",
   "execution_count": null,
   "metadata": {},
   "outputs": [],
   "source": [
    "# Contar de 1 a 5\n",
    "contador = 1\n",
    "print(\"Contando de 1 a 5. Cuando llegue a 5, me detengo.\")\n",
    "\n",
    "while contador <= 5: ## esta es la condición que le permite detenerse\n",
    "    print(f\"Soy un contador y estoy contando: {contador}\")\n",
    "    contador += 1\n",
    "\n",
    "print(\"Fin del conteo.\")\n"
   ]
  },
  {
   "cell_type": "code",
   "execution_count": null,
   "metadata": {},
   "outputs": [],
   "source": [
    "## pero que pasa si no se cumple la condicion de terminar el bucle?\n",
    "\n",
    "contador = 1\n",
    "print(\"Contando de 1 a 5. Cuando llegue a 5, me detengo.\")\n",
    "while contador >= 1:\n",
    "    print(f\"Soy un contador y estoy contando: {contador}\")\n",
    "    contador += 1"
   ]
  },
  {
   "cell_type": "code",
   "execution_count": null,
   "metadata": {},
   "outputs": [],
   "source": [
    "## a veces necesitamos detener la ejecución de un bucle por alguna condición\n",
    "## por ejemplo, iterar sobre una serie de documentos hasta encontrar el indicado. \n",
    "## para eso usamos la instrucción \"break\"\n",
    "\n",
    "documentos = [ \"documento1\", \"documento2\", \"documento3\", \"documento4\", \"documento5\", \"documento6\", \"documento7\", \"documento8\", \"documento9\", \"documento10\" ]\n",
    "\n",
    "documento_buscado = \"documento5\"\n",
    "\n",
    "for documento in documentos:\n",
    "    if documento == documento_buscado:\n",
    "        print(f\"Encontré el documento buscado: {documento}\")\n",
    "        break\n",
    "    else:\n",
    "        print(f\"Buscando documento: {documento}\")"
   ]
  },
  {
   "cell_type": "code",
   "execution_count": null,
   "metadata": {},
   "outputs": [],
   "source": [
    "## en otros casos, queremos evitar ejecutar el codigo de un ciclo en una iteración en particular.\n",
    "## para eso usamos la instrucción \"continue\"\n",
    "\n",
    "for i in range(10):\n",
    "    ## % es la operación \"modulo\". Nos da el resto de la división entre dos números.\n",
    "    if i % 2 == 0:\n",
    "        continue\n",
    "    print(\"A mi solamente me gustan los numeros impares como el : \", i)"
   ]
  },
  {
   "cell_type": "markdown",
   "metadata": {},
   "source": [
    "## c. Estructuras de datos\n",
    "\n",
    "Python presenta algunas estructuras de datos básicas como listas (que ya las vimos), las tuplas, los diccionarios y los conjuntos"
   ]
  },
  {
   "cell_type": "code",
   "execution_count": 98,
   "metadata": {},
   "outputs": [
    {
     "name": "stdout",
     "output_type": "stream",
     "text": [
      "manzana\n"
     ]
    }
   ],
   "source": [
    "## Lista: la lista es una estructura de datos que nos permite almacenar una secuencia de elementos.\n",
    "## podemos acceder a los elementos de una lista mediante su índice.\n",
    "\n",
    "frutas = ['manzana', 'banana', 'cereza']\n",
    "\n",
    "## python es un lenguaje de programación que empieza a contar desde 0.\n",
    "print(frutas[0]) # manzana"
   ]
  },
  {
   "cell_type": "code",
   "execution_count": null,
   "metadata": {},
   "outputs": [],
   "source": [
    "## tambien podemos indexarla en orden inverso \n",
    "print(frutas[-1]) # cereza"
   ]
  },
  {
   "cell_type": "code",
   "execution_count": null,
   "metadata": {},
   "outputs": [],
   "source": [
    "## podemos añañdir elementos a una lista con el método append()\n",
    "frutas.append(\"naranja\")"
   ]
  },
  {
   "cell_type": "code",
   "execution_count": null,
   "metadata": {},
   "outputs": [],
   "source": [
    "print(frutas)"
   ]
  },
  {
   "cell_type": "code",
   "execution_count": null,
   "metadata": {},
   "outputs": [],
   "source": [
    "## y podemos eliminar elementos con remove:\n",
    "frutas.remove(\"banana\")"
   ]
  },
  {
   "cell_type": "code",
   "execution_count": null,
   "metadata": {},
   "outputs": [],
   "source": [
    "print(frutas)"
   ]
  },
  {
   "cell_type": "code",
   "execution_count": null,
   "metadata": {},
   "outputs": [],
   "source": [
    "## podemos obtener la longitud de una lista con la función len() - ya veremos que es una función en la próxima clase.\n",
    "\n",
    "cantidad_de_frutas = len(frutas)\n",
    "\n",
    "print(cantidad_de_frutas)"
   ]
  },
  {
   "cell_type": "code",
   "execution_count": 92,
   "metadata": {},
   "outputs": [
    {
     "name": "stdout",
     "output_type": "stream",
     "text": [
      "['manzana', 'cereza', 'naranja', 'pera', 'uva', 'kiwi']\n"
     ]
    }
   ],
   "source": [
    "# podemos extender una lista con otra lista con el método extend()\n",
    "\n",
    "frutas.extend([\"pera\", \"uva\", \"kiwi\"])\n",
    "print(frutas)"
   ]
  },
  {
   "cell_type": "code",
   "execution_count": 93,
   "metadata": {},
   "outputs": [
    {
     "name": "stdout",
     "output_type": "stream",
     "text": [
      "['manzana', 'cereza', 'naranja']\n"
     ]
    }
   ],
   "source": [
    "# y, al indexar, podemos obtener una \"sublista\" de la lista original.\n",
    "# por ejemplo, para obtener los primeros 3 elementos de la lista frutas:\n",
    "\n",
    "primeras_tres_frutas = frutas[:3]\n",
    "print(primeras_tres_frutas)"
   ]
  },
  {
   "cell_type": "code",
   "execution_count": 94,
   "metadata": {},
   "outputs": [
    {
     "name": "stdout",
     "output_type": "stream",
     "text": [
      "['pera', 'uva', 'kiwi']\n"
     ]
    }
   ],
   "source": [
    "## o las frutas que no son las primeras tres:\n",
    "nueva_lista = frutas[3:]\n",
    "print(nueva_lista)"
   ]
  },
  {
   "cell_type": "code",
   "execution_count": 96,
   "metadata": {},
   "outputs": [
    {
     "name": "stdout",
     "output_type": "stream",
     "text": [
      "['pera']\n"
     ]
    }
   ],
   "source": [
    "## o las frutas que no son las primeras tres ni las últimas dos:\n",
    "nueva_lista = frutas[3:-2]\n",
    "print(nueva_lista)"
   ]
  },
  {
   "cell_type": "code",
   "execution_count": 97,
   "metadata": {},
   "outputs": [
    {
     "name": "stdout",
     "output_type": "stream",
     "text": [
      "['naranja', 'pera', 'uva']\n"
     ]
    }
   ],
   "source": [
    "## o las frutas que estan entre la posicion 2 y la 5:\n",
    "nueva_lista = frutas[2:5]\n",
    "print(nueva_lista)"
   ]
  },
  {
   "cell_type": "code",
   "execution_count": null,
   "metadata": {},
   "outputs": [],
   "source": [
    "## ejercicio: vamos a crear una lista con los numeros del 1 al 50\n",
    "\n",
    "lista_base = list(range(1, 51)) ## crea una lista con los numeros del 1 al 50\n",
    "\n",
    "## iterá sobre esta lista. Si el numero es divisible por 3 imprimí \"Fizz\"\n",
    "## si el numero es divisible por 5 imprimí \"Buzz\"\n",
    "## si el numero es divisible por 3 y por 5 imprimí \"FizzBuzz\" y appendealo a una lista llamada \"fizzbuzz\"\n",
    "\n",
    "fizzbuzz = []\n",
    "\n"
   ]
  },
  {
   "cell_type": "code",
   "execution_count": null,
   "metadata": {},
   "outputs": [],
   "source": [
    "## Las tuplas son similares a las listas, pero son inmutables, es decir, no se pueden modificar una vez creadas.\n",
    "\n",
    "lista = [1, 2, 3]\n",
    "\n",
    "tupla = (1, 2, 3)\n",
    "\n",
    "\n",
    "lista[0] = \"dinosaurio\"\n",
    "print(lista)"
   ]
  },
  {
   "cell_type": "code",
   "execution_count": null,
   "metadata": {},
   "outputs": [],
   "source": [
    "\n",
    "tupla[0] = \"dinosaurio\" ## esto va a dar un error"
   ]
  },
  {
   "cell_type": "code",
   "execution_count": null,
   "metadata": {},
   "outputs": [],
   "source": [
    "## además, uno puede hacer listas de listas o incluso listas de tuplas!\n",
    "\n",
    "lista_de_listas = [ [1, 2, 3], [4, 5, 6], [7, 8, 9] ]\n",
    "\n",
    "print(lista_de_listas[0][0]) # 1"
   ]
  },
  {
   "cell_type": "code",
   "execution_count": null,
   "metadata": {},
   "outputs": [],
   "source": [
    "## Conjuntos: los conjuntos son una estructura de datos que nos permite almacenar elementos únicos.\n",
    "## es decir, no puede haber elementos repetidos en un conjunto.\n",
    "\n",
    "lista = [1, 2, 3, 4, 5, 6, 7, 8, 9, 10, 1, 2, 3, 4, 5, 6, 7, 8, 9, 10]\n",
    "\n",
    "conjunto = set(lista)\n",
    "\n",
    "print(conjunto)"
   ]
  },
  {
   "cell_type": "code",
   "execution_count": null,
   "metadata": {},
   "outputs": [],
   "source": [
    "## podemos agregar elementos a un conjunto con el método add()\n",
    "\n",
    "conjunto.add(11)\n",
    "print(conjunto)"
   ]
  },
  {
   "cell_type": "code",
   "execution_count": null,
   "metadata": {},
   "outputs": [],
   "source": [
    "## y podemos eliminar elementos con el método remove()\n",
    "conjunto.remove(11)\n",
    "print(conjunto)"
   ]
  },
  {
   "cell_type": "code",
   "execution_count": null,
   "metadata": {},
   "outputs": [],
   "source": [
    "## convertir una lista en un conjunto es una forma rápida de eliminar elementos duplicados.\n",
    "## además, los conjuntos son más eficientes para buscar elementos que las listas.\n",
    "\n",
    "7 in conjunto # True"
   ]
  },
  {
   "cell_type": "markdown",
   "metadata": {},
   "source": [
    "#### Lectura de archivos\n",
    "\n",
    "Antes de avanzar con diccionarios, vamos a ver como leer y escribir archivos de la computadora. "
   ]
  },
  {
   "cell_type": "code",
   "execution_count": null,
   "metadata": {},
   "outputs": [],
   "source": [
    "## podemos traernos funciones y objetos de otros archivos de python con la instrucción \"import\"\n",
    "\n",
    "import os \n",
    "\n",
    "## os es un módulo que nos permite interactuar con el sistema operativo.\n",
    "## por ejemplo, podemos obtener el directorio de trabajo actual con la función getcwd()\n",
    "\n",
    "directorio_actual = os.getcwd()"
   ]
  },
  {
   "cell_type": "code",
   "execution_count": null,
   "metadata": {},
   "outputs": [],
   "source": [
    "print(directorio_actual)"
   ]
  },
  {
   "cell_type": "code",
   "execution_count": null,
   "metadata": {},
   "outputs": [],
   "source": [
    "## vamos a ver que archivos hay en el directorio actual\n",
    "print(os.listdir(directorio_actual))"
   ]
  },
  {
   "cell_type": "code",
   "execution_count": null,
   "metadata": {},
   "outputs": [],
   "source": [
    "## y adentro del directorio archivos que hay?\n",
    "\n",
    "print(os.listdir(directorio_actual + \"/archivos\"))"
   ]
  },
  {
   "cell_type": "code",
   "execution_count": null,
   "metadata": {},
   "outputs": [],
   "source": [
    "## podemos iterar sobre los archivos de un directorio con un bucle for\n",
    "\n",
    "for archivo in os.listdir(directorio_actual + \"/archivos\"):\n",
    "    ubicacion_del_archivo = os.path.join(directorio_actual, \"archivos\", archivo)\n",
    "    print(ubicacion_del_archivo)"
   ]
  },
  {
   "cell_type": "code",
   "execution_count": null,
   "metadata": {},
   "outputs": [],
   "source": [
    "## podemos usar la función open() para abrir un archivo en modo lectura o escritura.\n",
    "## vamos a abrir un archivo en modo lectura y vamos a leer su contenido.\n",
    "\n",
    "ubicacion_del_archivo = os.path.join(directorio_actual, \"archivos\", \"archivo1.txt\")\n",
    "\n",
    "with open(ubicacion_del_archivo, \"r\") as archivo:\n",
    "    contenido = archivo.read()\n",
    "\n",
    "print(contenido)"
   ]
  },
  {
   "cell_type": "code",
   "execution_count": null,
   "metadata": {},
   "outputs": [],
   "source": [
    "## podemos trabajar con el texto de un archivo. Por ejemplo, contemos cuantas palabras tiene el archivo.\n",
    "\n",
    "lista_de_palabras = contenido.split()\n",
    "print(lista_de_palabras)"
   ]
  },
  {
   "cell_type": "code",
   "execution_count": null,
   "metadata": {},
   "outputs": [],
   "source": [
    "print(len(lista_de_palabras))"
   ]
  },
  {
   "cell_type": "code",
   "execution_count": null,
   "metadata": {},
   "outputs": [],
   "source": [
    "ubicacion_del_archivo = os.path.join(directorio_actual, \"archivos\", \"archivo2.txt\")\n",
    "\n",
    "## a veces, con los archivos de texto, es importante especificar el encoding.\n",
    "## el encoding es la forma en la que se codifican los caracteres de un archivo.\n",
    "\n",
    "## Por lo general no es necesario especificar el encoding, pero a veces te puede dar errores si no lo haces.\n",
    "with open(ubicacion_del_archivo, \"r\", encoding=\"utf-8\") as archivo:\n",
    "    contenido = archivo.read()\n",
    "\n",
    "print(contenido)"
   ]
  },
  {
   "cell_type": "code",
   "execution_count": null,
   "metadata": {},
   "outputs": [],
   "source": [
    "## Ejercicio, tomar el archivo3.txt \n",
    "## convertirlo a minuscula \n",
    "## contar cuantas palabras tiene\n",
    "## setear una variable palabra_buscada = \"orden\"\n",
    "## iterar sobre las palabras y contar cuantas veces aparece la palabra_buscada en el texto.\n",
    "\n"
   ]
  },
  {
   "cell_type": "markdown",
   "metadata": {},
   "source": [
    "Además de leer, podemos escribir archivos. Vamos a crear una carpeta y guardar un archivo en ella"
   ]
  },
  {
   "cell_type": "code",
   "execution_count": 102,
   "metadata": {},
   "outputs": [],
   "source": [
    "## empezamos por crear una carpeta \"resultados\"\n",
    "os.mkdir(os.path.join(directorio_actual, \"resultados\"))"
   ]
  },
  {
   "cell_type": "code",
   "execution_count": 103,
   "metadata": {},
   "outputs": [],
   "source": [
    "## ahora vamos a crear un archivo en la carpeta \"resultados\" y vamos a escribir algo en él.\n",
    "## por ejemplo, si estamos automatizando la generación de reportes, podemos escribir el reporte en un archivo.\n",
    "\n",
    "ubicacion_del_archivo = os.path.join(directorio_actual, \"resultados\", \"reporte.txt\")\n",
    "with open(ubicacion_del_archivo, \"w\", encoding=\"utf-8\") as archivo:\n",
    "    archivo.write(\"Este es el reporte de la semana 1.\")"
   ]
  },
  {
   "cell_type": "markdown",
   "metadata": {},
   "source": [
    "#### Diccionarios"
   ]
  },
  {
   "cell_type": "markdown",
   "metadata": {},
   "source": [
    "Un diccionario es una estructura de datos del tipo clave-valor. Es decir, es un conjunto de \"nombres\" (las claves) asociados, cada uno, a un valor."
   ]
  },
  {
   "cell_type": "code",
   "execution_count": 104,
   "metadata": {},
   "outputs": [],
   "source": [
    "my_primer_diccionario = {\n",
    "    \"nombre\": \"Juan\",\n",
    "    \"apellido\": \"Perez\",\n",
    "    \"edad\": 30,\n",
    "    \"casado\": False\n",
    "}"
   ]
  },
  {
   "cell_type": "code",
   "execution_count": 105,
   "metadata": {},
   "outputs": [
    {
     "name": "stdout",
     "output_type": "stream",
     "text": [
      "Juan\n"
     ]
    }
   ],
   "source": [
    "## un diccionario nos permite obtener el valor de una clave \n",
    "\n",
    "print(my_primer_diccionario[\"nombre\"])"
   ]
  },
  {
   "cell_type": "code",
   "execution_count": null,
   "metadata": {},
   "outputs": [],
   "source": [
    "## podemos agregar un nuevo par clave-valor a un diccionario\n",
    "\n",
    "my_primer_diccionario[\"nacionalidad\"] = \"Argentina\"\n",
    "print(my_primer_diccionario)"
   ]
  },
  {
   "cell_type": "code",
   "execution_count": 108,
   "metadata": {},
   "outputs": [],
   "source": [
    "# podemos eliminar un par clave-valor de un diccionario con la instrucción \"del\"\n",
    "del my_primer_diccionario[\"casado\"]"
   ]
  },
  {
   "cell_type": "code",
   "execution_count": 109,
   "metadata": {},
   "outputs": [
    {
     "data": {
      "text/plain": [
       "{'nombre': 'Juan',\n",
       " 'apellido': 'Perez',\n",
       " 'edad': 30,\n",
       " 'nacionalidad': 'Argentina'}"
      ]
     },
     "execution_count": 109,
     "metadata": {},
     "output_type": "execute_result"
    }
   ],
   "source": [
    "my_primer_diccionario"
   ]
  },
  {
   "cell_type": "code",
   "execution_count": 111,
   "metadata": {},
   "outputs": [
    {
     "name": "stdout",
     "output_type": "stream",
     "text": [
      "nombre\n",
      "apellido\n",
      "edad\n",
      "nacionalidad\n"
     ]
    }
   ],
   "source": [
    "## podemos obtener las claves de un diccionario con el método keys()\n",
    "\n",
    "claves = my_primer_diccionario.keys()\n",
    "for clave in list(claves):\n",
    "    print(clave)"
   ]
  },
  {
   "cell_type": "code",
   "execution_count": 112,
   "metadata": {},
   "outputs": [
    {
     "name": "stdout",
     "output_type": "stream",
     "text": [
      "Juan\n",
      "Perez\n",
      "30\n",
      "Argentina\n"
     ]
    }
   ],
   "source": [
    "## y de la misma forma, podemos obtener los valores con el método values()\n",
    "\n",
    "valores = my_primer_diccionario.values()\n",
    "for valor in list(valores):\n",
    "    print(valor)\n",
    "    "
   ]
  },
  {
   "cell_type": "code",
   "execution_count": 113,
   "metadata": {},
   "outputs": [
    {
     "name": "stdout",
     "output_type": "stream",
     "text": [
      "La clave es nombre y el valor es Juan\n",
      "La clave es apellido y el valor es Perez\n",
      "La clave es edad y el valor es 30\n",
      "La clave es nacionalidad y el valor es Argentina\n"
     ]
    }
   ],
   "source": [
    "## tambien podemos obtener los pares clave-valor con el método items()\n",
    "for clave, valor in my_primer_diccionario.items():\n",
    "    print(f\"La clave es {clave} y el valor es {valor}\")"
   ]
  },
  {
   "cell_type": "code",
   "execution_count": null,
   "metadata": {},
   "outputs": [],
   "source": [
    "## Ejercicio: leer todos los archivos dentro de la carpeta \"saldos\"\n",
    "## para cada archivo, leer el contenido y sumar los saldos.\n",
    "## guardar el resultado en un archivo llamado \"saldos_totales.txt\" en la carpeta \"resultados\".\n",
    "\n",
    "\n",
    "## hints:\n",
    "# van a necesitar 2 bucles for, uno para recorrer los archivos y otro para recorrer las lineas de cada archivo.\n",
    "# van a necesitar split(\"\\n\") para separar las lineas de un archivo. y split(\",\") para separar las partes de una linea.\n",
    "# consideren que la primera linea de cada archivo es el encabezado.\n"
   ]
  }
 ],
 "metadata": {
  "kernelspec": {
   "display_name": "Python 3",
   "language": "python",
   "name": "python3"
  },
  "language_info": {
   "codemirror_mode": {
    "name": "ipython",
    "version": 3
   },
   "file_extension": ".py",
   "mimetype": "text/x-python",
   "name": "python",
   "nbconvert_exporter": "python",
   "pygments_lexer": "ipython3",
   "version": "3.10.0"
  }
 },
 "nbformat": 4,
 "nbformat_minor": 2
}
